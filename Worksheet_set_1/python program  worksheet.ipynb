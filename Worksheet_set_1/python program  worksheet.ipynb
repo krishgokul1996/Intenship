{
 "cells": [
  {
   "cell_type": "markdown",
   "metadata": {},
   "source": [
    "# Answer for question 11"
   ]
  },
  {
   "cell_type": "code",
   "execution_count": 30,
   "metadata": {},
   "outputs": [
    {
     "name": "stdout",
     "output_type": "stream",
     "text": [
      "Enter a number: 6\n",
      "The factorial of 6 is 720\n"
     ]
    }
   ],
   "source": [
    "num = int(input(\"Enter a number: \"))    \n",
    "factorial = 1    \n",
    "if num < 0:    \n",
    "   print(\" Factorial does not exist for negative numbers\")    \n",
    "elif num == 0:    \n",
    "   print(\"The factorial of 0 is 1\")    \n",
    "else:    \n",
    "   for i in range(1,num + 1):    \n",
    "       factorial = factorial*i    \n",
    "   print(\"The factorial of\",num,\"is\",factorial) "
   ]
  },
  {
   "cell_type": "markdown",
   "metadata": {},
   "source": [
    "# Answer for question 12"
   ]
  },
  {
   "cell_type": "code",
   "execution_count": 31,
   "metadata": {},
   "outputs": [
    {
     "name": "stdout",
     "output_type": "stream",
     "text": [
      "Enter the number to check prime or composite: 5\n",
      "The number is prime number\n"
     ]
    }
   ],
   "source": [
    "number=int(input(\"Enter the number to check prime or composite: \"))\n",
    "\n",
    "count=0\n",
    "\n",
    "for i in range(2,int(number/2)+1):\n",
    "\n",
    "   if(number%i==0):\n",
    "\n",
    "       count=1\n",
    "\n",
    "       break\n",
    "\n",
    "if(count==0):\n",
    "\n",
    "   print(\"The number is prime number\")\n",
    "\n",
    "else:\n",
    "\n",
    "   print(\"The number is composite number\")"
   ]
  },
  {
   "cell_type": "markdown",
   "metadata": {},
   "source": [
    "# Answer for question 13"
   ]
  },
  {
   "cell_type": "code",
   "execution_count": 32,
   "metadata": {},
   "outputs": [
    {
     "name": "stdout",
     "output_type": "stream",
     "text": [
      "Enter the word that need to find palindrome or not:gokul\n",
      "The string is not a palindrome.\n"
     ]
    }
   ],
   "source": [
    "my_str = input(\"Enter the word that need to find palindrome or not:\")\n",
    "my_str = my_str.casefold()\n",
    "rev_str = reversed(my_str)\n",
    "if list(my_str) == list(rev_str):\n",
    "   print(\"The string is a palindrome.\")\n",
    "else:\n",
    "   print(\"The string is not a palindrome.\")"
   ]
  },
  {
   "cell_type": "markdown",
   "metadata": {},
   "source": [
    "# Answer for question 14"
   ]
  },
  {
   "cell_type": "code",
   "execution_count": 33,
   "metadata": {},
   "outputs": [
    {
     "name": "stdout",
     "output_type": "stream",
     "text": [
      "Enter the side 1:5\n",
      "Enter the side 2:3\n",
      "('Hypotenuse is:', 5.830951894845301)\n"
     ]
    }
   ],
   "source": [
    "def findHypotenuse(side1, side2):\n",
    " \n",
    "    h = (((side1 * side1) + (side2 * side2))**(1/2));\n",
    "    return \"Hypotenuse is:\",h;\n",
    "\n",
    "side1 = int(input(\"Enter the side 1:\"))\n",
    "side2 = int(input(\"Enter the side 2:\")) \n",
    " \n",
    "print(findHypotenuse(side1, side2));"
   ]
  },
  {
   "cell_type": "markdown",
   "metadata": {},
   "source": [
    "# Answer for question 15"
   ]
  },
  {
   "cell_type": "code",
   "execution_count": 34,
   "metadata": {},
   "outputs": [
    {
     "name": "stdout",
     "output_type": "stream",
     "text": [
      "Enter the string:gokula krishnan\n",
      "Frequency of each character :\n",
      "  {'g': 1}\n",
      "Frequency of each character :\n",
      "  {'g': 1, 'o': 1}\n",
      "Frequency of each character :\n",
      "  {'g': 1, 'o': 1, 'k': 1}\n",
      "Frequency of each character :\n",
      "  {'g': 1, 'o': 1, 'k': 1, 'u': 1}\n",
      "Frequency of each character :\n",
      "  {'g': 1, 'o': 1, 'k': 1, 'u': 1, 'l': 1}\n",
      "Frequency of each character :\n",
      "  {'g': 1, 'o': 1, 'k': 1, 'u': 1, 'l': 1, 'a': 1}\n",
      "Frequency of each character :\n",
      "  {'g': 1, 'o': 1, 'k': 1, 'u': 1, 'l': 1, 'a': 1, ' ': 1}\n",
      "Frequency of each character :\n",
      "  {'g': 1, 'o': 1, 'k': 2, 'u': 1, 'l': 1, 'a': 1, ' ': 1}\n",
      "Frequency of each character :\n",
      "  {'g': 1, 'o': 1, 'k': 2, 'u': 1, 'l': 1, 'a': 1, ' ': 1, 'r': 1}\n",
      "Frequency of each character :\n",
      "  {'g': 1, 'o': 1, 'k': 2, 'u': 1, 'l': 1, 'a': 1, ' ': 1, 'r': 1, 'i': 1}\n",
      "Frequency of each character :\n",
      "  {'g': 1, 'o': 1, 'k': 2, 'u': 1, 'l': 1, 'a': 1, ' ': 1, 'r': 1, 'i': 1, 's': 1}\n",
      "Frequency of each character :\n",
      "  {'g': 1, 'o': 1, 'k': 2, 'u': 1, 'l': 1, 'a': 1, ' ': 1, 'r': 1, 'i': 1, 's': 1, 'h': 1}\n",
      "Frequency of each character :\n",
      "  {'g': 1, 'o': 1, 'k': 2, 'u': 1, 'l': 1, 'a': 1, ' ': 1, 'r': 1, 'i': 1, 's': 1, 'h': 1, 'n': 1}\n",
      "Frequency of each character :\n",
      "  {'g': 1, 'o': 1, 'k': 2, 'u': 1, 'l': 1, 'a': 2, ' ': 1, 'r': 1, 'i': 1, 's': 1, 'h': 1, 'n': 1}\n",
      "Frequency of each character :\n",
      "  {'g': 1, 'o': 1, 'k': 2, 'u': 1, 'l': 1, 'a': 2, ' ': 1, 'r': 1, 'i': 1, 's': 1, 'h': 1, 'n': 2}\n"
     ]
    }
   ],
   "source": [
    "strZ = str(input(\"Enter the string:\"))\n",
    "res = {}\n",
    "\n",
    "for keys in strZ:\n",
    "    res[keys] = res.get(keys, 0) + 1\n",
    "    print(\"Frequency of each character :\\n \",res)"
   ]
  },
  {
   "cell_type": "code",
   "execution_count": null,
   "metadata": {},
   "outputs": [],
   "source": []
  },
  {
   "cell_type": "code",
   "execution_count": null,
   "metadata": {},
   "outputs": [],
   "source": []
  }
 ],
 "metadata": {
  "kernelspec": {
   "display_name": "Python 3",
   "language": "python",
   "name": "python3"
  },
  "language_info": {
   "codemirror_mode": {
    "name": "ipython",
    "version": 3
   },
   "file_extension": ".py",
   "mimetype": "text/x-python",
   "name": "python",
   "nbconvert_exporter": "python",
   "pygments_lexer": "ipython3",
   "version": "3.8.5"
  }
 },
 "nbformat": 4,
 "nbformat_minor": 4
}
