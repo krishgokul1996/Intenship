{
 "cells": [
  {
   "cell_type": "markdown",
   "metadata": {},
   "source": [
    "# Question 1"
   ]
  },
  {
   "cell_type": "code",
   "execution_count": 2,
   "metadata": {
    "scrolled": true
   },
   "outputs": [
    {
     "name": "stdout",
     "output_type": "stream",
     "text": [
      "Requirement already satisfied: selenium in c:\\users\\gokula krishnan\\anaconda3\\lib\\site-packages (3.141.0)\n",
      "Requirement already satisfied: urllib3 in c:\\users\\gokula krishnan\\anaconda3\\lib\\site-packages (from selenium) (1.25.11)\n"
     ]
    }
   ],
   "source": [
    "!pip install selenium"
   ]
  },
  {
   "cell_type": "code",
   "execution_count": 42,
   "metadata": {},
   "outputs": [],
   "source": [
    "import selenium\n",
    "import pandas as pd\n",
    "from selenium import webdriver\n",
    "import warnings\n",
    "warnings.filterwarnings('ignore')"
   ]
  },
  {
   "cell_type": "code",
   "execution_count": 4,
   "metadata": {},
   "outputs": [],
   "source": [
    "driver = webdriver.Chrome(r\"C:\\Users\\gokula krishnan\\Downloads\\chromedriver_win32\\chromedriver.exe\")"
   ]
  },
  {
   "cell_type": "code",
   "execution_count": 5,
   "metadata": {},
   "outputs": [],
   "source": [
    "url = 'https://www.naukri.com/'\n",
    "driver.get(url)"
   ]
  },
  {
   "cell_type": "code",
   "execution_count": 6,
   "metadata": {},
   "outputs": [
    {
     "data": {
      "text/plain": [
       "<selenium.webdriver.remote.webelement.WebElement (session=\"9ecb7cb5e34d5421b549661404aa0fa3\", element=\"7c9254ee-66d1-4ed8-a3be-af5e741b47f8\")>"
      ]
     },
     "execution_count": 6,
     "metadata": {},
     "output_type": "execute_result"
    }
   ],
   "source": [
    "search_job = driver.find_element_by_id('qsb-keyword-sugg')\n",
    "search_job"
   ]
  },
  {
   "cell_type": "code",
   "execution_count": 7,
   "metadata": {},
   "outputs": [],
   "source": [
    "search_job.send_keys(\"Data Analyst\")"
   ]
  },
  {
   "cell_type": "code",
   "execution_count": 8,
   "metadata": {},
   "outputs": [],
   "source": [
    "search_loc = driver.find_element_by_id(\"qsb-location-sugg\")\n",
    "search_loc.send_keys(\"Bangalore\")"
   ]
  },
  {
   "cell_type": "code",
   "execution_count": 9,
   "metadata": {},
   "outputs": [],
   "source": [
    "search_btn = driver.find_element_by_class_name('btn')\n",
    "search_btn.click()"
   ]
  },
  {
   "cell_type": "code",
   "execution_count": 10,
   "metadata": {},
   "outputs": [
    {
     "data": {
      "text/plain": [
       "[<selenium.webdriver.remote.webelement.WebElement (session=\"9ecb7cb5e34d5421b549661404aa0fa3\", element=\"d0eab3fe-51a5-44af-a88e-cb0e73e0f688\")>,\n",
       " <selenium.webdriver.remote.webelement.WebElement (session=\"9ecb7cb5e34d5421b549661404aa0fa3\", element=\"c1faeba2-7e8c-4fa6-92bb-addc882d1c59\")>,\n",
       " <selenium.webdriver.remote.webelement.WebElement (session=\"9ecb7cb5e34d5421b549661404aa0fa3\", element=\"87f2c2d8-08ee-4f31-b473-9de28da532f8\")>,\n",
       " <selenium.webdriver.remote.webelement.WebElement (session=\"9ecb7cb5e34d5421b549661404aa0fa3\", element=\"e9d7a907-9a13-4651-8c75-06dcb49606b2\")>,\n",
       " <selenium.webdriver.remote.webelement.WebElement (session=\"9ecb7cb5e34d5421b549661404aa0fa3\", element=\"715d0797-6875-489b-aeab-2d1d45729a79\")>,\n",
       " <selenium.webdriver.remote.webelement.WebElement (session=\"9ecb7cb5e34d5421b549661404aa0fa3\", element=\"58c7bf15-a1df-46b6-979c-fdbe372f3144\")>,\n",
       " <selenium.webdriver.remote.webelement.WebElement (session=\"9ecb7cb5e34d5421b549661404aa0fa3\", element=\"bfb6d841-3ff5-4485-aa3b-63586cc7ee6f\")>,\n",
       " <selenium.webdriver.remote.webelement.WebElement (session=\"9ecb7cb5e34d5421b549661404aa0fa3\", element=\"b1ed5ed8-93ed-4fef-a780-b759c912805a\")>,\n",
       " <selenium.webdriver.remote.webelement.WebElement (session=\"9ecb7cb5e34d5421b549661404aa0fa3\", element=\"25a7e3fc-eb7a-4118-a72e-f404005b5bb3\")>,\n",
       " <selenium.webdriver.remote.webelement.WebElement (session=\"9ecb7cb5e34d5421b549661404aa0fa3\", element=\"a4b5b953-e7b7-4fab-b9a2-66b2015f7c38\")>,\n",
       " <selenium.webdriver.remote.webelement.WebElement (session=\"9ecb7cb5e34d5421b549661404aa0fa3\", element=\"b4109ae4-3a64-4679-b17c-6b8a3bcb65fb\")>,\n",
       " <selenium.webdriver.remote.webelement.WebElement (session=\"9ecb7cb5e34d5421b549661404aa0fa3\", element=\"955a2116-fdb4-4a01-95f7-0f28525c1980\")>,\n",
       " <selenium.webdriver.remote.webelement.WebElement (session=\"9ecb7cb5e34d5421b549661404aa0fa3\", element=\"f841f3f5-660e-4a6e-ae97-6e70826bb5cf\")>,\n",
       " <selenium.webdriver.remote.webelement.WebElement (session=\"9ecb7cb5e34d5421b549661404aa0fa3\", element=\"ef03b913-2183-4645-a972-4d11bd03084a\")>,\n",
       " <selenium.webdriver.remote.webelement.WebElement (session=\"9ecb7cb5e34d5421b549661404aa0fa3\", element=\"71049762-cb49-48a6-897f-066af56660ee\")>,\n",
       " <selenium.webdriver.remote.webelement.WebElement (session=\"9ecb7cb5e34d5421b549661404aa0fa3\", element=\"02f706d0-f955-476d-b6bd-bdaba776b53c\")>,\n",
       " <selenium.webdriver.remote.webelement.WebElement (session=\"9ecb7cb5e34d5421b549661404aa0fa3\", element=\"114fb031-da25-4083-af0c-7e478a532fc2\")>,\n",
       " <selenium.webdriver.remote.webelement.WebElement (session=\"9ecb7cb5e34d5421b549661404aa0fa3\", element=\"d08d3143-6563-4ca5-b5cf-ddce399d449f\")>,\n",
       " <selenium.webdriver.remote.webelement.WebElement (session=\"9ecb7cb5e34d5421b549661404aa0fa3\", element=\"5116943d-a772-4262-9a06-035081ea6bac\")>,\n",
       " <selenium.webdriver.remote.webelement.WebElement (session=\"9ecb7cb5e34d5421b549661404aa0fa3\", element=\"363a81ba-cb55-4f96-b668-27d56397a905\")>]"
      ]
     },
     "execution_count": 10,
     "metadata": {},
     "output_type": "execute_result"
    }
   ],
   "source": [
    "titles_tags = driver.find_elements_by_xpath(\"//a[@class='title fw500 ellipsis']\")\n",
    "titles_tags"
   ]
  },
  {
   "cell_type": "code",
   "execution_count": 11,
   "metadata": {},
   "outputs": [
    {
     "data": {
      "text/plain": [
       "['Tcs Hiring For Senior Data Analyst (bfsi domain)',\n",
       " 'Business Data Analyst',\n",
       " 'Business Data Analyst',\n",
       " 'Tcs Hiring For MDM (master data management) Data Analyst (bfsi domain)',\n",
       " 'Senior Data Analyst IDAM Services',\n",
       " 'Data Analyst/Sr.Data Engineer',\n",
       " 'SENIOR DATA ANALYST',\n",
       " 'Senior Data Analyst IN4',\n",
       " 'Data Analyst - Python/SQL',\n",
       " 'Executive Data Analyst',\n",
       " 'Business Data Analyst - Google Data Studio & SQL',\n",
       " 'Senior Data Analyst',\n",
       " 'Systems and Data Analyst, Safety and Provisioning',\n",
       " 'Data Analyst with SQL',\n",
       " 'Sr Data Analyst',\n",
       " 'Sr Analyst - Data Analysis',\n",
       " 'Business Data Analyst - MIS & Reporting',\n",
       " 'Data Analyst',\n",
       " 'Data Analyst',\n",
       " 'Data Analyst - EdTech']"
      ]
     },
     "execution_count": 11,
     "metadata": {},
     "output_type": "execute_result"
    }
   ],
   "source": [
    "job_titles = []\n",
    "for i in titles_tags:\n",
    "    job_titles.append(i.text)\n",
    "job_titles"
   ]
  },
  {
   "cell_type": "code",
   "execution_count": 12,
   "metadata": {},
   "outputs": [
    {
     "data": {
      "text/plain": [
       "[<selenium.webdriver.remote.webelement.WebElement (session=\"9ecb7cb5e34d5421b549661404aa0fa3\", element=\"f811270b-1ca9-4506-944a-080f0721d89a\")>,\n",
       " <selenium.webdriver.remote.webelement.WebElement (session=\"9ecb7cb5e34d5421b549661404aa0fa3\", element=\"c78a3930-189f-40df-a1d6-74678af391d0\")>,\n",
       " <selenium.webdriver.remote.webelement.WebElement (session=\"9ecb7cb5e34d5421b549661404aa0fa3\", element=\"78d9b0ed-6cc3-470e-be73-4c943a43ffcd\")>,\n",
       " <selenium.webdriver.remote.webelement.WebElement (session=\"9ecb7cb5e34d5421b549661404aa0fa3\", element=\"d85fe031-416c-43e3-8d55-519dd9a5c485\")>,\n",
       " <selenium.webdriver.remote.webelement.WebElement (session=\"9ecb7cb5e34d5421b549661404aa0fa3\", element=\"2f5fa8ee-93f7-4d76-99cf-1aedde7b40e7\")>,\n",
       " <selenium.webdriver.remote.webelement.WebElement (session=\"9ecb7cb5e34d5421b549661404aa0fa3\", element=\"862a7449-8680-4eb9-97d7-c02537577033\")>,\n",
       " <selenium.webdriver.remote.webelement.WebElement (session=\"9ecb7cb5e34d5421b549661404aa0fa3\", element=\"74ef023b-921e-49ba-824a-c2828d17b875\")>,\n",
       " <selenium.webdriver.remote.webelement.WebElement (session=\"9ecb7cb5e34d5421b549661404aa0fa3\", element=\"e1048c24-b390-409a-901c-58a09c724733\")>,\n",
       " <selenium.webdriver.remote.webelement.WebElement (session=\"9ecb7cb5e34d5421b549661404aa0fa3\", element=\"0f0192fc-ea40-49cc-9f1c-31ddddb7e9fc\")>,\n",
       " <selenium.webdriver.remote.webelement.WebElement (session=\"9ecb7cb5e34d5421b549661404aa0fa3\", element=\"ccbacfb3-63f0-49b9-abe7-2d8e4dfe05a6\")>,\n",
       " <selenium.webdriver.remote.webelement.WebElement (session=\"9ecb7cb5e34d5421b549661404aa0fa3\", element=\"f4283ed4-4036-4dd4-99ad-957062d4b156\")>,\n",
       " <selenium.webdriver.remote.webelement.WebElement (session=\"9ecb7cb5e34d5421b549661404aa0fa3\", element=\"95cc1f80-96f2-4c82-885a-37f7f07be3cc\")>,\n",
       " <selenium.webdriver.remote.webelement.WebElement (session=\"9ecb7cb5e34d5421b549661404aa0fa3\", element=\"a57a1a35-016f-43d5-92f3-c8429f1c43fc\")>,\n",
       " <selenium.webdriver.remote.webelement.WebElement (session=\"9ecb7cb5e34d5421b549661404aa0fa3\", element=\"c0d0666b-d918-43f7-b074-a14306905972\")>,\n",
       " <selenium.webdriver.remote.webelement.WebElement (session=\"9ecb7cb5e34d5421b549661404aa0fa3\", element=\"31382049-513a-4c06-8567-77653899045b\")>,\n",
       " <selenium.webdriver.remote.webelement.WebElement (session=\"9ecb7cb5e34d5421b549661404aa0fa3\", element=\"34e012ab-f983-409e-9446-8df9e4388387\")>,\n",
       " <selenium.webdriver.remote.webelement.WebElement (session=\"9ecb7cb5e34d5421b549661404aa0fa3\", element=\"edfeaa18-008e-4d28-8c21-eafce1b93b5a\")>,\n",
       " <selenium.webdriver.remote.webelement.WebElement (session=\"9ecb7cb5e34d5421b549661404aa0fa3\", element=\"11ddd3e3-6fb1-4b8f-8467-95595947ea12\")>,\n",
       " <selenium.webdriver.remote.webelement.WebElement (session=\"9ecb7cb5e34d5421b549661404aa0fa3\", element=\"6bdf26bb-d928-4d34-917c-75e8768ef318\")>,\n",
       " <selenium.webdriver.remote.webelement.WebElement (session=\"9ecb7cb5e34d5421b549661404aa0fa3\", element=\"25dd9269-a542-4857-a32d-95968a8e8f1b\")>]"
      ]
     },
     "execution_count": 12,
     "metadata": {},
     "output_type": "execute_result"
    }
   ],
   "source": [
    "companies_tags = driver.find_elements_by_xpath(\"//a[@class='subTitle ellipsis fleft']\")\n",
    "companies_tags"
   ]
  },
  {
   "cell_type": "code",
   "execution_count": 13,
   "metadata": {},
   "outputs": [
    {
     "data": {
      "text/plain": [
       "['Tata Consultancy Services Ltd.',\n",
       " 'Trigent Software',\n",
       " 'Trigent Software',\n",
       " 'Tata Consultancy Services Ltd.',\n",
       " 'GlaxoSmithKline Pharmaceuticals Limited',\n",
       " 'SYREN TECHNOLOGIES PRIVATE LIMITED',\n",
       " 'McAfee Software (India) Pvt. Ltd',\n",
       " 'Walmart Labs',\n",
       " 'Affine',\n",
       " 'Gokaldas Exports Ltd',\n",
       " 'AVE-Promagne',\n",
       " 'Virtusa Consulting Services Pvt Ltd',\n",
       " 'AECOM India Private Limited',\n",
       " 'Wipro Limited',\n",
       " 'Empower Retirement',\n",
       " 'Tesco Bengaluru',\n",
       " 'INTERTRUST GROUP',\n",
       " 'Edge Executive Search Pvt. Ltd.',\n",
       " 'Morgan Stanley Advantage Services',\n",
       " 'TalentStack']"
      ]
     },
     "execution_count": 13,
     "metadata": {},
     "output_type": "execute_result"
    }
   ],
   "source": [
    "company_titles = []\n",
    "for i in companies_tags:\n",
    "    company_titles.append(i.text)\n",
    "company_titles"
   ]
  },
  {
   "cell_type": "code",
   "execution_count": 14,
   "metadata": {},
   "outputs": [
    {
     "data": {
      "text/plain": [
       "[<selenium.webdriver.remote.webelement.WebElement (session=\"9ecb7cb5e34d5421b549661404aa0fa3\", element=\"d8abd458-cf69-4461-8faf-39fbbe0de35b\")>,\n",
       " <selenium.webdriver.remote.webelement.WebElement (session=\"9ecb7cb5e34d5421b549661404aa0fa3\", element=\"1e835714-97fe-44d7-872c-8cdafb3c5fe7\")>,\n",
       " <selenium.webdriver.remote.webelement.WebElement (session=\"9ecb7cb5e34d5421b549661404aa0fa3\", element=\"b4cab749-5d8e-4be9-ada0-3b99b4dad4e2\")>,\n",
       " <selenium.webdriver.remote.webelement.WebElement (session=\"9ecb7cb5e34d5421b549661404aa0fa3\", element=\"084b1001-28af-4231-a374-f15ac849a40f\")>,\n",
       " <selenium.webdriver.remote.webelement.WebElement (session=\"9ecb7cb5e34d5421b549661404aa0fa3\", element=\"a193d263-5fff-44eb-b354-ee6ec2f5cb87\")>,\n",
       " <selenium.webdriver.remote.webelement.WebElement (session=\"9ecb7cb5e34d5421b549661404aa0fa3\", element=\"efbd71a2-eae3-4170-bbfa-c87477b6abaf\")>,\n",
       " <selenium.webdriver.remote.webelement.WebElement (session=\"9ecb7cb5e34d5421b549661404aa0fa3\", element=\"4a765fa1-7f23-4690-9da5-2ef77292a3d7\")>,\n",
       " <selenium.webdriver.remote.webelement.WebElement (session=\"9ecb7cb5e34d5421b549661404aa0fa3\", element=\"3d273a90-1ba4-4121-85b7-9cdfd5931a9b\")>,\n",
       " <selenium.webdriver.remote.webelement.WebElement (session=\"9ecb7cb5e34d5421b549661404aa0fa3\", element=\"ec5a765c-7344-4932-aab1-24ba02c00482\")>,\n",
       " <selenium.webdriver.remote.webelement.WebElement (session=\"9ecb7cb5e34d5421b549661404aa0fa3\", element=\"8ebd0643-35d1-42ff-91b1-d78a0d6b2d96\")>,\n",
       " <selenium.webdriver.remote.webelement.WebElement (session=\"9ecb7cb5e34d5421b549661404aa0fa3\", element=\"42652a42-b0bd-4f4f-966e-0e843c1d5722\")>,\n",
       " <selenium.webdriver.remote.webelement.WebElement (session=\"9ecb7cb5e34d5421b549661404aa0fa3\", element=\"a9d11d0b-6536-45c0-91fe-be8a50e9f33c\")>,\n",
       " <selenium.webdriver.remote.webelement.WebElement (session=\"9ecb7cb5e34d5421b549661404aa0fa3\", element=\"675abbf9-b0d2-42d2-ba66-f298410a89bf\")>,\n",
       " <selenium.webdriver.remote.webelement.WebElement (session=\"9ecb7cb5e34d5421b549661404aa0fa3\", element=\"89356a87-0857-4167-9c62-48cb494fb23c\")>,\n",
       " <selenium.webdriver.remote.webelement.WebElement (session=\"9ecb7cb5e34d5421b549661404aa0fa3\", element=\"ab17f05a-f399-4bf3-a887-d788d7c17f27\")>,\n",
       " <selenium.webdriver.remote.webelement.WebElement (session=\"9ecb7cb5e34d5421b549661404aa0fa3\", element=\"967937ec-e461-4eaf-b414-b48fd94009f9\")>,\n",
       " <selenium.webdriver.remote.webelement.WebElement (session=\"9ecb7cb5e34d5421b549661404aa0fa3\", element=\"8704068f-ee9c-4840-8007-0e1cfccd2372\")>,\n",
       " <selenium.webdriver.remote.webelement.WebElement (session=\"9ecb7cb5e34d5421b549661404aa0fa3\", element=\"ce339e74-2f5c-4c59-9c0e-252f42ef550a\")>,\n",
       " <selenium.webdriver.remote.webelement.WebElement (session=\"9ecb7cb5e34d5421b549661404aa0fa3\", element=\"8b66bb80-4d43-4bed-8e5e-d73bc0daee04\")>,\n",
       " <selenium.webdriver.remote.webelement.WebElement (session=\"9ecb7cb5e34d5421b549661404aa0fa3\", element=\"47adf73d-f68b-4e06-8de9-995056311887\")>]"
      ]
     },
     "execution_count": 14,
     "metadata": {},
     "output_type": "execute_result"
    }
   ],
   "source": [
    "experience_tags = driver.find_elements_by_xpath(\"//li[@class='fleft grey-text br2 placeHolderLi experience']//span\")\n",
    "experience_tags"
   ]
  },
  {
   "cell_type": "code",
   "execution_count": 15,
   "metadata": {},
   "outputs": [
    {
     "data": {
      "text/plain": [
       "['6-11 Yrs',\n",
       " '5-10 Yrs',\n",
       " '5-10 Yrs',\n",
       " '6-11 Yrs',\n",
       " '4-8 Yrs',\n",
       " '4-9 Yrs',\n",
       " '6-8 Yrs',\n",
       " '8-10 Yrs',\n",
       " '3-5 Yrs',\n",
       " '0-3 Yrs',\n",
       " '3-8 Yrs',\n",
       " '8-12 Yrs',\n",
       " '2-7 Yrs',\n",
       " '3-5 Yrs',\n",
       " '5-8 Yrs',\n",
       " '2-4 Yrs',\n",
       " '3-8 Yrs',\n",
       " '0-2 Yrs',\n",
       " '5-10 Yrs',\n",
       " '2-6 Yrs']"
      ]
     },
     "execution_count": 15,
     "metadata": {},
     "output_type": "execute_result"
    }
   ],
   "source": [
    "experience_list = []\n",
    "for i in experience_tags:\n",
    "    experience_list.append(i.text)\n",
    "experience_list"
   ]
  },
  {
   "cell_type": "code",
   "execution_count": 16,
   "metadata": {},
   "outputs": [
    {
     "data": {
      "text/plain": [
       "[<selenium.webdriver.remote.webelement.WebElement (session=\"9ecb7cb5e34d5421b549661404aa0fa3\", element=\"61f8f354-e715-4529-8cb2-40aed2476aab\")>,\n",
       " <selenium.webdriver.remote.webelement.WebElement (session=\"9ecb7cb5e34d5421b549661404aa0fa3\", element=\"a940bac9-9f8c-4d70-a490-457c0c9fa89d\")>,\n",
       " <selenium.webdriver.remote.webelement.WebElement (session=\"9ecb7cb5e34d5421b549661404aa0fa3\", element=\"814cbc06-b410-499c-9e52-b89d9d6a5945\")>,\n",
       " <selenium.webdriver.remote.webelement.WebElement (session=\"9ecb7cb5e34d5421b549661404aa0fa3\", element=\"2aff6be4-bef1-4f2c-9b07-6b4951613205\")>,\n",
       " <selenium.webdriver.remote.webelement.WebElement (session=\"9ecb7cb5e34d5421b549661404aa0fa3\", element=\"7fc9f836-e901-4a61-945e-cc5307e95f3c\")>,\n",
       " <selenium.webdriver.remote.webelement.WebElement (session=\"9ecb7cb5e34d5421b549661404aa0fa3\", element=\"e8449984-c14d-4bbb-b1a5-1c9a60ef3570\")>,\n",
       " <selenium.webdriver.remote.webelement.WebElement (session=\"9ecb7cb5e34d5421b549661404aa0fa3\", element=\"4aa43c0e-2c02-47f5-ba71-682193477925\")>,\n",
       " <selenium.webdriver.remote.webelement.WebElement (session=\"9ecb7cb5e34d5421b549661404aa0fa3\", element=\"7d2ee3b8-8140-4824-b0b0-e8947eb92f7c\")>,\n",
       " <selenium.webdriver.remote.webelement.WebElement (session=\"9ecb7cb5e34d5421b549661404aa0fa3\", element=\"4583381d-4ca4-4ed9-a890-cacc6bf0fd0b\")>,\n",
       " <selenium.webdriver.remote.webelement.WebElement (session=\"9ecb7cb5e34d5421b549661404aa0fa3\", element=\"8ff88c37-d961-4afb-8d7e-c4655b9e04b9\")>,\n",
       " <selenium.webdriver.remote.webelement.WebElement (session=\"9ecb7cb5e34d5421b549661404aa0fa3\", element=\"623cead8-d292-4eef-9e4f-8eef8d5f96b8\")>,\n",
       " <selenium.webdriver.remote.webelement.WebElement (session=\"9ecb7cb5e34d5421b549661404aa0fa3\", element=\"e85a34a6-e42a-4300-b48e-4765548b1664\")>,\n",
       " <selenium.webdriver.remote.webelement.WebElement (session=\"9ecb7cb5e34d5421b549661404aa0fa3\", element=\"1941c761-083f-4b6d-a05f-d1a7251e6322\")>,\n",
       " <selenium.webdriver.remote.webelement.WebElement (session=\"9ecb7cb5e34d5421b549661404aa0fa3\", element=\"983b9b6a-2b3a-437b-8e70-e039e231de53\")>,\n",
       " <selenium.webdriver.remote.webelement.WebElement (session=\"9ecb7cb5e34d5421b549661404aa0fa3\", element=\"487e670b-f88c-4cfc-84d7-bc4c8ad92849\")>,\n",
       " <selenium.webdriver.remote.webelement.WebElement (session=\"9ecb7cb5e34d5421b549661404aa0fa3\", element=\"26d26667-9d5a-4d3f-ab7c-fd333554e89f\")>,\n",
       " <selenium.webdriver.remote.webelement.WebElement (session=\"9ecb7cb5e34d5421b549661404aa0fa3\", element=\"752dacdf-2b85-4391-915b-a2454f4c20f5\")>,\n",
       " <selenium.webdriver.remote.webelement.WebElement (session=\"9ecb7cb5e34d5421b549661404aa0fa3\", element=\"d62e1e45-5f5d-496d-875b-bf53f3a710c0\")>,\n",
       " <selenium.webdriver.remote.webelement.WebElement (session=\"9ecb7cb5e34d5421b549661404aa0fa3\", element=\"42fbcc33-729f-4d22-818d-9a924ae27b10\")>,\n",
       " <selenium.webdriver.remote.webelement.WebElement (session=\"9ecb7cb5e34d5421b549661404aa0fa3\", element=\"d0bc2365-416d-4fce-b31e-4fc8cd4e331c\")>]"
      ]
     },
     "execution_count": 16,
     "metadata": {},
     "output_type": "execute_result"
    }
   ],
   "source": [
    "location_tags = driver.find_elements_by_xpath(\"//li[@class='fleft grey-text br2 placeHolderLi location']//span[1]\")\n",
    "location_tags"
   ]
  },
  {
   "cell_type": "code",
   "execution_count": 17,
   "metadata": {},
   "outputs": [
    {
     "data": {
      "text/plain": [
       "['Chennai, Bangalore/Bengaluru',\n",
       " 'Bangalore/Bengaluru',\n",
       " 'Bangalore/Bengaluru',\n",
       " 'Chennai, Bangalore/Bengaluru',\n",
       " 'Bangalore/Bengaluru',\n",
       " 'Hyderabad/Secunderabad, Chennai, Bangalore/Bengaluru',\n",
       " 'Bangalore/Bengaluru',\n",
       " 'Bangalore/Bengaluru',\n",
       " 'Bangalore/Bengaluru',\n",
       " 'Bangalore/Bengaluru',\n",
       " 'Bangalore/Bengaluru',\n",
       " 'Hyderabad/Secunderabad, Pune, Gurgaon/Gurugram, Chennai, Bangalore/Bengaluru, Mumbai (All Areas)',\n",
       " 'Bangalore/Bengaluru',\n",
       " 'Noida, Gurgaon/Gurugram, Bangalore/Bengaluru',\n",
       " 'Bangalore/Bengaluru',\n",
       " 'Bangalore/Bengaluru',\n",
       " 'Mumbai, Bangalore/Bengaluru',\n",
       " 'Pune, Bangalore/Bengaluru, Mumbai (All Areas)',\n",
       " 'Bangalore/Bengaluru',\n",
       " 'Bangalore/Bengaluru']"
      ]
     },
     "execution_count": 17,
     "metadata": {},
     "output_type": "execute_result"
    }
   ],
   "source": [
    "location_list = []\n",
    "for i in location_tags:\n",
    "    location_list.append(i.text)\n",
    "location_list"
   ]
  },
  {
   "cell_type": "code",
   "execution_count": 18,
   "metadata": {
    "scrolled": true
   },
   "outputs": [
    {
     "data": {
      "text/html": [
       "<div>\n",
       "<style scoped>\n",
       "    .dataframe tbody tr th:only-of-type {\n",
       "        vertical-align: middle;\n",
       "    }\n",
       "\n",
       "    .dataframe tbody tr th {\n",
       "        vertical-align: top;\n",
       "    }\n",
       "\n",
       "    .dataframe thead th {\n",
       "        text-align: right;\n",
       "    }\n",
       "</style>\n",
       "<table border=\"1\" class=\"dataframe\">\n",
       "  <thead>\n",
       "    <tr style=\"text-align: right;\">\n",
       "      <th></th>\n",
       "      <th>Title</th>\n",
       "      <th>Company Name</th>\n",
       "      <th>Experience Required</th>\n",
       "      <th>Location</th>\n",
       "    </tr>\n",
       "  </thead>\n",
       "  <tbody>\n",
       "    <tr>\n",
       "      <th>0</th>\n",
       "      <td>Tcs Hiring For Senior Data Analyst (bfsi domain)</td>\n",
       "      <td>Tata Consultancy Services Ltd.</td>\n",
       "      <td>6-11 Yrs</td>\n",
       "      <td>Chennai, Bangalore/Bengaluru</td>\n",
       "    </tr>\n",
       "    <tr>\n",
       "      <th>1</th>\n",
       "      <td>Business Data Analyst</td>\n",
       "      <td>Trigent Software</td>\n",
       "      <td>5-10 Yrs</td>\n",
       "      <td>Bangalore/Bengaluru</td>\n",
       "    </tr>\n",
       "    <tr>\n",
       "      <th>2</th>\n",
       "      <td>Business Data Analyst</td>\n",
       "      <td>Trigent Software</td>\n",
       "      <td>5-10 Yrs</td>\n",
       "      <td>Bangalore/Bengaluru</td>\n",
       "    </tr>\n",
       "    <tr>\n",
       "      <th>3</th>\n",
       "      <td>Tcs Hiring For MDM (master data management) Da...</td>\n",
       "      <td>Tata Consultancy Services Ltd.</td>\n",
       "      <td>6-11 Yrs</td>\n",
       "      <td>Chennai, Bangalore/Bengaluru</td>\n",
       "    </tr>\n",
       "    <tr>\n",
       "      <th>4</th>\n",
       "      <td>Senior Data Analyst IDAM Services</td>\n",
       "      <td>GlaxoSmithKline Pharmaceuticals Limited</td>\n",
       "      <td>4-8 Yrs</td>\n",
       "      <td>Bangalore/Bengaluru</td>\n",
       "    </tr>\n",
       "    <tr>\n",
       "      <th>5</th>\n",
       "      <td>Data Analyst/Sr.Data Engineer</td>\n",
       "      <td>SYREN TECHNOLOGIES PRIVATE LIMITED</td>\n",
       "      <td>4-9 Yrs</td>\n",
       "      <td>Hyderabad/Secunderabad, Chennai, Bangalore/Ben...</td>\n",
       "    </tr>\n",
       "    <tr>\n",
       "      <th>6</th>\n",
       "      <td>SENIOR DATA ANALYST</td>\n",
       "      <td>McAfee Software (India) Pvt. Ltd</td>\n",
       "      <td>6-8 Yrs</td>\n",
       "      <td>Bangalore/Bengaluru</td>\n",
       "    </tr>\n",
       "    <tr>\n",
       "      <th>7</th>\n",
       "      <td>Senior Data Analyst IN4</td>\n",
       "      <td>Walmart Labs</td>\n",
       "      <td>8-10 Yrs</td>\n",
       "      <td>Bangalore/Bengaluru</td>\n",
       "    </tr>\n",
       "    <tr>\n",
       "      <th>8</th>\n",
       "      <td>Data Analyst - Python/SQL</td>\n",
       "      <td>Affine</td>\n",
       "      <td>3-5 Yrs</td>\n",
       "      <td>Bangalore/Bengaluru</td>\n",
       "    </tr>\n",
       "    <tr>\n",
       "      <th>9</th>\n",
       "      <td>Executive Data Analyst</td>\n",
       "      <td>Gokaldas Exports Ltd</td>\n",
       "      <td>0-3 Yrs</td>\n",
       "      <td>Bangalore/Bengaluru</td>\n",
       "    </tr>\n",
       "  </tbody>\n",
       "</table>\n",
       "</div>"
      ],
      "text/plain": [
       "                                               Title  \\\n",
       "0   Tcs Hiring For Senior Data Analyst (bfsi domain)   \n",
       "1                              Business Data Analyst   \n",
       "2                              Business Data Analyst   \n",
       "3  Tcs Hiring For MDM (master data management) Da...   \n",
       "4                  Senior Data Analyst IDAM Services   \n",
       "5                      Data Analyst/Sr.Data Engineer   \n",
       "6                                SENIOR DATA ANALYST   \n",
       "7                            Senior Data Analyst IN4   \n",
       "8                          Data Analyst - Python/SQL   \n",
       "9                             Executive Data Analyst   \n",
       "\n",
       "                              Company Name Experience Required  \\\n",
       "0           Tata Consultancy Services Ltd.            6-11 Yrs   \n",
       "1                         Trigent Software            5-10 Yrs   \n",
       "2                         Trigent Software            5-10 Yrs   \n",
       "3           Tata Consultancy Services Ltd.            6-11 Yrs   \n",
       "4  GlaxoSmithKline Pharmaceuticals Limited             4-8 Yrs   \n",
       "5       SYREN TECHNOLOGIES PRIVATE LIMITED             4-9 Yrs   \n",
       "6         McAfee Software (India) Pvt. Ltd             6-8 Yrs   \n",
       "7                             Walmart Labs            8-10 Yrs   \n",
       "8                                   Affine             3-5 Yrs   \n",
       "9                     Gokaldas Exports Ltd             0-3 Yrs   \n",
       "\n",
       "                                            Location  \n",
       "0                       Chennai, Bangalore/Bengaluru  \n",
       "1                                Bangalore/Bengaluru  \n",
       "2                                Bangalore/Bengaluru  \n",
       "3                       Chennai, Bangalore/Bengaluru  \n",
       "4                                Bangalore/Bengaluru  \n",
       "5  Hyderabad/Secunderabad, Chennai, Bangalore/Ben...  \n",
       "6                                Bangalore/Bengaluru  \n",
       "7                                Bangalore/Bengaluru  \n",
       "8                                Bangalore/Bengaluru  \n",
       "9                                Bangalore/Bengaluru  "
      ]
     },
     "execution_count": 18,
     "metadata": {},
     "output_type": "execute_result"
    }
   ],
   "source": [
    "jobs = pd.DataFrame({})\n",
    "jobs['Title'] = job_titles\n",
    "jobs['Company Name'] = company_titles\n",
    "jobs['Experience Required'] = experience_list\n",
    "jobs['Location'] = location_list\n",
    "jobs_first10 = jobs.head(10)\n",
    "jobs_first10"
   ]
  },
  {
   "cell_type": "markdown",
   "metadata": {},
   "source": [
    "# Question 2"
   ]
  },
  {
   "cell_type": "code",
   "execution_count": 19,
   "metadata": {},
   "outputs": [],
   "source": [
    "driver = webdriver.Chrome(r\"C:\\Users\\gokula krishnan\\Downloads\\chromedriver_win32\\chromedriver.exe\")"
   ]
  },
  {
   "cell_type": "code",
   "execution_count": 20,
   "metadata": {},
   "outputs": [],
   "source": [
    "url = 'https://www.naukri.com/'\n",
    "driver.get(url)"
   ]
  },
  {
   "cell_type": "code",
   "execution_count": 21,
   "metadata": {},
   "outputs": [
    {
     "data": {
      "text/plain": [
       "<selenium.webdriver.remote.webelement.WebElement (session=\"40a0ce23abf52f819b501d623c2f7afb\", element=\"ba92ffc4-a95e-4c90-b4b8-85b94a60cb72\")>"
      ]
     },
     "execution_count": 21,
     "metadata": {},
     "output_type": "execute_result"
    }
   ],
   "source": [
    "search_job = driver.find_element_by_id('qsb-keyword-sugg')\n",
    "search_job"
   ]
  },
  {
   "cell_type": "code",
   "execution_count": 22,
   "metadata": {},
   "outputs": [],
   "source": [
    "search_job.send_keys(\"Data Scientist\")"
   ]
  },
  {
   "cell_type": "code",
   "execution_count": 23,
   "metadata": {},
   "outputs": [],
   "source": [
    "search_loc = driver.find_element_by_id(\"qsb-location-sugg\")\n",
    "search_loc.send_keys(\"Bangalore\")"
   ]
  },
  {
   "cell_type": "code",
   "execution_count": 24,
   "metadata": {},
   "outputs": [],
   "source": [
    "search_btn = driver.find_element_by_class_name('btn')\n",
    "search_btn.click()"
   ]
  },
  {
   "cell_type": "code",
   "execution_count": 25,
   "metadata": {},
   "outputs": [
    {
     "data": {
      "text/plain": [
       "['https://www.naukri.com/job-listings-senior-data-scientist-walmart-labs-bangalore-bengaluru-6-to-10-years-090921501063?src=jobsearchDesk&sid=16312451247158949&xp=1&px=1',\n",
       " 'https://www.naukri.com/job-listings-senior-data-scientist-airbnb-bangalore-bengaluru-7-to-12-years-080921500017?src=jobsearchDesk&sid=16312451247158949&xp=2&px=1',\n",
       " 'https://www.naukri.com/job-listings-senior-data-scientist-in4-walmart-labs-bangalore-bengaluru-7-to-10-years-090921501064?src=jobsearchDesk&sid=16312451247158949&xp=3&px=1',\n",
       " 'https://www.naukri.com/job-listings-senior-data-scientist-marketplace-walmart-labs-bangalore-bengaluru-4-to-8-years-090921500549?src=jobsearchDesk&sid=16312451247158949&xp=4&px=1',\n",
       " 'https://www.naukri.com/job-listings-hiring-for-manager-and-sr-manager-data-scientist-vision-beyond-resources-india-private-limited-noida-mumbai-new-delhi-gurgaon-gurugram-bangalore-bengaluru-8-to-13-years-090921005986?src=jobsearchDesk&sid=16312451247158949&xp=5&px=1',\n",
       " 'https://www.naukri.com/job-listings-requirement-for-data-scientist-mumbai-bangalore-crisil-limited-bangalore-bengaluru-mumbai-all-areas-2-to-6-years-080921005523?src=jobsearchDesk&sid=16312451247158949&xp=6&px=1',\n",
       " 'https://www.naukri.com/job-listings-hiring-for-data-scientist-statistical-analyst-manpowergroup-services-india-private-limited-bangalore-bengaluru-2-to-4-years-080921011029?src=jobsearchDesk&sid=16312451247158949&xp=7&px=1',\n",
       " 'https://www.naukri.com/job-listings-lead-data-scientist-bfsi-ibm-india-pvt-limited-bengaluru-bangalore-5-to-9-years-070921901691?src=jobsearchDesk&sid=16312451247158949&xp=8&px=1',\n",
       " 'https://www.naukri.com/job-listings-associate-data-scientist-philips-india-limited-bangalore-bengaluru-3-to-5-years-060921501985?src=jobsearchDesk&sid=16312451247158949&xp=9&px=1',\n",
       " 'https://www.naukri.com/job-listings-data-scientist-in3-walmart-labs-bangalore-bengaluru-3-to-6-years-090921500592?src=jobsearchDesk&sid=16312451247158949&xp=10&px=1',\n",
       " 'https://www.naukri.com/job-listings-principal-data-scientist-adtech-walmart-labs-bangalore-bengaluru-10-to-14-years-090921500574?src=jobsearchDesk&sid=16312451247158949&xp=11&px=1',\n",
       " 'https://www.naukri.com/job-listings-principal-data-scientist-mint-walmart-labs-bangalore-bengaluru-15-to-18-years-090921500497?src=jobsearchDesk&sid=16312451247158949&xp=12&px=1',\n",
       " 'https://www.naukri.com/job-listings-data-scientist-walmart-labs-bangalore-bengaluru-4-to-8-years-090921501041?src=jobsearchDesk&sid=16312451247158949&xp=13&px=1',\n",
       " 'https://www.naukri.com/job-listings-data-scientist-neenopal-intelligent-solutions-private-limited-bangalore-bengaluru-2-to-5-years-080921006998?src=jobsearchDesk&sid=16312451247158949&xp=14&px=1',\n",
       " 'https://www.naukri.com/job-listings-data-scientist-prescience-decision-solutions-private-limited-bangalore-bengaluru-5-to-10-years-080921005624?src=jobsearchDesk&sid=16312451247158949&xp=15&px=1',\n",
       " 'https://www.naukri.com/job-listings-feasibility-data-scientist-icon-clinical-research-india-private-limited-bangalore-bengaluru-3-to-8-years-090921501313?src=jobsearchDesk&sid=16312451247158949&xp=16&px=1',\n",
       " 'https://www.naukri.com/job-listings-data-scientist-walmart-labs-bangalore-bengaluru-4-to-8-years-090921501042?src=jobsearchDesk&sid=16312451247158949&xp=17&px=1',\n",
       " 'https://www.naukri.com/job-listings-data-scientist-oracle-india-pvt-ltd-noida-bangalore-bengaluru-5-to-9-years-010621004567?src=jobsearchDesk&sid=16312451247158949&xp=18&px=1',\n",
       " 'https://www.naukri.com/job-listings-data-scientist-advanced-analytics-ibm-india-pvt-limited-bengaluru-bangalore-3-to-7-years-070921901677?src=jobsearchDesk&sid=16312451247158949&xp=19&px=1',\n",
       " 'https://www.naukri.com/job-listings-cognitive-data-scientist-ibm-india-pvt-limited-bengaluru-bangalore-3-to-7-years-030921904668?src=jobsearchDesk&sid=16312451247158949&xp=20&px=1']"
      ]
     },
     "execution_count": 25,
     "metadata": {},
     "output_type": "execute_result"
    }
   ],
   "source": [
    "job_opening_urls = []\n",
    "url = driver.find_elements_by_xpath('//a[@class=\"title fw500 ellipsis\"]')\n",
    "for i in url:\n",
    "    job_opening_urls.append(i.get_attribute('href'))\n",
    "job_opening_urls"
   ]
  },
  {
   "cell_type": "code",
   "execution_count": 26,
   "metadata": {},
   "outputs": [
    {
     "data": {
      "text/plain": [
       "['Senior Data Scientist',\n",
       " 'Senior Data Scientist',\n",
       " 'Senior Data Scientist IN4',\n",
       " 'Senior Data Scientist (Marketplace)',\n",
       " 'Hiring For Manager and Sr. Manager | Data Scientist',\n",
       " 'Requirement For Data Scientist - Mumbai & Bangalore',\n",
       " 'Hiring For Data Scientist / Statistical Analyst',\n",
       " 'Associate Data Scientist',\n",
       " 'Data Scientist - IN3',\n",
       " 'Principal Data Scientist - AdTech',\n",
       " 'Principal Data Scientist (MINT)',\n",
       " 'Data Scientist',\n",
       " 'Data Scientist',\n",
       " 'Data Scientist',\n",
       " 'Feasibility Data Scientist',\n",
       " 'Data Scientist']"
      ]
     },
     "execution_count": 26,
     "metadata": {},
     "output_type": "execute_result"
    }
   ],
   "source": [
    "job_titles = []\n",
    "for i in job_opening_urls:\n",
    "    driver.get(i)\n",
    "    try:\n",
    "        job_title = driver.find_element_by_xpath('//h1[@class=\"jd-header-title\"]')\n",
    "        job_titles.append(job_title.text)\n",
    "    except:\n",
    "        pass\n",
    "job_titles"
   ]
  },
  {
   "cell_type": "code",
   "execution_count": 27,
   "metadata": {},
   "outputs": [
    {
     "data": {
      "text/plain": [
       "['Walmart Labs',\n",
       " 'Airbnb',\n",
       " 'Walmart Labs',\n",
       " 'Walmart Labs',\n",
       " 'Vision Beyond Resources India Private Limited',\n",
       " 'CRISIL LIMITED',\n",
       " 'ManpowerGroup Services India Private Limited',\n",
       " 'Philips India Limited',\n",
       " 'Walmart Labs',\n",
       " 'Walmart Labs',\n",
       " 'Walmart Labs',\n",
       " 'Walmart Labs',\n",
       " 'NeenOpal Intelligent Solutions Private Limited',\n",
       " 'PRESCIENCE DECISION SOLUTIONS PRIVATE LIMITED',\n",
       " 'Icon Clinical Research India Private Limited',\n",
       " 'Walmart Labs']"
      ]
     },
     "execution_count": 27,
     "metadata": {},
     "output_type": "execute_result"
    }
   ],
   "source": [
    "company_names = []\n",
    "for i in job_opening_urls:\n",
    "    driver.get(i)\n",
    "    try:\n",
    "        company_name = driver.find_element_by_xpath('//a[@class=\"pad-rt-8\"]')\n",
    "        company_names.append(company_name.text)\n",
    "    except:\n",
    "        pass\n",
    "company_names"
   ]
  },
  {
   "cell_type": "code",
   "execution_count": 28,
   "metadata": {},
   "outputs": [
    {
     "data": {
      "text/plain": [
       "['6 - 10 years',\n",
       " '7 - 12 years',\n",
       " '7 - 10 years',\n",
       " '4 - 8 years',\n",
       " '8 - 13 years',\n",
       " '2 - 6 years',\n",
       " '2 - 4 years',\n",
       " '3 - 5 years',\n",
       " '3 - 6 years',\n",
       " '10 - 14 years',\n",
       " '15 - 18 years',\n",
       " '4 - 8 years',\n",
       " '2 - 5 years',\n",
       " '5 - 10 years',\n",
       " '3 - 8 years',\n",
       " '4 - 8 years']"
      ]
     },
     "execution_count": 28,
     "metadata": {},
     "output_type": "execute_result"
    }
   ],
   "source": [
    "experience_list = []\n",
    "for i in job_opening_urls:\n",
    "    driver.get(i)\n",
    "    try:\n",
    "        experience = driver.find_element_by_xpath('//div[@class=\"exp\"]')\n",
    "        experience_list.append(experience.text)\n",
    "    except:\n",
    "        pass\n",
    "experience_list"
   ]
  },
  {
   "cell_type": "code",
   "execution_count": 29,
   "metadata": {},
   "outputs": [
    {
     "data": {
      "text/plain": [
       "['Bangalore/Bengaluru',\n",
       " 'Bangalore/Bengaluru',\n",
       " 'Bangalore/Bengaluru',\n",
       " 'Bangalore/Bengaluru',\n",
       " 'Noida, Mumbai, New Delhi, Gurgaon/Gurugram, Bangalore/Bengaluru',\n",
       " 'Bangalore/Bengaluru, Mumbai (All Areas)',\n",
       " 'Bangalore/Bengaluru',\n",
       " 'Bangalore/Bengaluru',\n",
       " 'Bangalore/Bengaluru',\n",
       " 'Bangalore/Bengaluru',\n",
       " 'Bangalore/Bengaluru',\n",
       " 'Bangalore/Bengaluru',\n",
       " 'Bangalore/Bengaluru',\n",
       " 'Bangalore/Bengaluru',\n",
       " 'Bangalore/Bengaluru',\n",
       " 'Bangalore/Bengaluru']"
      ]
     },
     "execution_count": 29,
     "metadata": {},
     "output_type": "execute_result"
    }
   ],
   "source": [
    "location_list = []\n",
    "for i in job_opening_urls:\n",
    "    driver.get(i)\n",
    "    try:\n",
    "        location = driver.find_element_by_xpath('//span[@class=\"location \"]')\n",
    "        location_list.append(location.text)\n",
    "    except:\n",
    "        pass\n",
    "location_list"
   ]
  },
  {
   "cell_type": "code",
   "execution_count": 30,
   "metadata": {},
   "outputs": [
    {
     "data": {
      "text/plain": [
       "['As a Senior Data Scientist for Walmart, you ll have the opportunity to:\\nDrive data-derived insights across a wide range of divisions by developing advanced statistical models, machine learning algorithms and computational algorithms based on business initiatives\\nDirect the gathering of data, assessing data validity and synthesizing data into large analytics datasets to support project goals\\nUtilize big data analytics and advanced data science techniques to identify trends, patterns, and discrepancies in data. Determine additional data needed to support insights\\nBuild and train statistical models and machine learning algorithms\\nApply your semantic, natural language processing and understanding expertise where required\\nUse deep learning and image recognition project goals\\nComputer Vision will be an important focus area for this role\\nProductionize the models and make those available at scale\\nBuild and maintain end to end Machine Learning pipelines\\nBe comfortable with ambiguity and uncertainty and the eagerness to change the world in a huge way by being a self-motivated learner and builder\\nCommunicate recommendations to business partners and influencing future plans based on insights\\nYour Responsibility\\nPlay a key role to solve complex problems, pivotal to Walmart s business and drive actionable insights from petabytes of data\\nUtilize product mindset to build, scale and deploy holistic data science products after successful prototyping\\nDemonstrate incremental solution approach with agile and flexible ability to overcome practical problems\\nPartner with senior team members to assess customer needs and define business questions\\nClearly articulate and present recommendations to business partners, and influence future plans based on insights\\nWork with customer centric mindset to deliver high quality business driven analytic solution\\nDrive innovation in approach, method, practices, process, outcome, delivery, or any component of end-to-end problem solving\\nDemonstrates up-to-date expertise and applies this to the development, execution, and improvement of action plans\\nPreferred Qualifications\\nBachelors degree in Statistics, Mathematics, Computer Science or a related field and 8 years experience in an analytics/DS related field, or,\\nMasters degree in Statistics, Mathematics, Computer Science or a related field and 6 years experience in an analytics/DS related field.\\nHigh proficiency in data mining, modeling, validation and insight generation.\\nExcellent working knowledge of statistics, mathematics, machine learning, data mining, deep learning\\nHigh proficiency in coding including Python and SQL\\nExperience with databases (for example, DB2, Oracle, SQL Server)\\nExperience with Big Data technologies such as Pig, Hive and/or Spark\\nAbility to work with large data sets. Has sound understanding of big data technology stack\\nUnderstanding of cloud computing platforms and large-scale databases\\nProven ability to collaborate and work in teams\\nExcellent with communications and stakeholder engagement\\nData science publications in recognized platforms/journals\\nProven ability to work in agile mode on data science sprint projects',\n",
       " 'Responsibilities include:\\nDefining and evaluating key metrics and understanding what moves them and why\\nOwnership of conceptualizing, developing, and maintaining dashboards and visualizations\\nInvestigating evolving fraud trends to extract patterns, identify root causes and propose actionable solutions\\nCommunicating analyses and recommendations to cross functional stakeholders for decision making\\nEmpowering the team to answer data questions quickly and easily by building high-quality ground truth data sets\\nHere are example traits we value:\\nProfessional industry experience in a quantitative analysis role (7+ years preferred)\\nComfortable in SQL and some experience with a programming language (Python or R a plus)\\nAbility to communicate clearly and effectively to cross functional partners of varying technical levels\\nAbility to define relevant metrics that can guide and influence stakeholders to the appropriate and accurate insights\\nExperience or willingness to learn tools to create data pipelines using Airflow\\nBuilding clear and easy to understand dashboards (Tableau) and presentations',\n",
       " 'Design, coordinate, and implement data driven business and technology solutions to support innovation initiatives\\nCommunicate complex models, analysis and recommendations in a clear and precise manner\\nProvide thought leadership in statistical modeling and machine learning/ AI. NLP and Deep Learning are the two focus areas\\nDeliver actionable insights to stakeholders through rich visualization and presentation\\nManage priorities between research and deliverables effectively\\nCollaborate actively with topic owners to understand and develop advanced analytics / data science\\nYour Qualifications\\nBachelor s degree in Engineering / Analytics or Master s Degree in Statistics/Computer Applications/ IT/Analytics /any discipline related to Data Science / Analytics.\\n7 years of progressive experience in Machine learning/Deep learning preferably working with packages like NLTK, BERT, ELMo etc\\nFluent in Python and have experience with NLP libraries like , Spacy, Genism, Glove, doc2vec etc.\\nExposure to Microsoft LUIS will be preferred\\nPossess advanced knowledge of the HuggingFace libraries and concepts like tokens, tokenization, stemming, lemmatization, regex.\\nSolid command on statistics and ability to connect theory and practice of data mining, machine learning to solve real-world use case\\nl Strong working knowledge of Python (BERT, GPT, genism, SpaCy, tensorflow, Theano, PyTorch, SciPy, scikit-learn, pandas), SQL, Unix (awk, sed, bash) for data wrangling, data analysis, modeling.\\nKnowledgeable in Natural Language processing (NLP) and quantitative analysis\\nPrevious experience building chatbots for Customer Service / specific business verticals (Bonus)\\nInteresting side projects or Kaggle competition results (Bonus)\\nExcellent critical thinking ability, result orientation and project management skills\\nSound verbal and written communication skills',\n",
       " 'Position Responsibilities\\no Solve business problems by applying advanced Machine Learning algorithms and complex statistical models on large volumes of data.\\no Build, scale and deploy holistic data science products after successful prototyping.\\no Clearly articulate and present recommendations to business partners, and influence future plans based on insights.\\no Follow industry best practices, stay up to date with the state of the art in machine learning research and practice, drive innovation by contributing to the latest applied research in data science through publications and patents.\\no Promote and support company policies, procedures, mission, values, and standards of ethics and integrity.\\nPosition Requirements\\no Deep knowledge of the foundations of machine learning and statistics - can easily understand and implement a machine learning research paper.\\no Solid experience working with state-of-the-art supervised and unsupervised machine learning algorithms on real-world problems, preferably in ecommerce domain.\\no Strong Python coding skills and able to work with at least one other programming language such as Java/Scala.\\no Ability to work in a big data ecosystem - expert in SQL/Hive and ability to work with Spark.\\no Strong ability to understand the business and good stakeholder management capabilities.\\nQualifications\\no PhD with > 2 years of experience / 4-year bachelor s degree with > 7 years of experience / Master s degree with > 5 years of experience. Educational qualifications should be preferably in Computer Science or a related area. Experience should be relevant to the role.\\nGood to have:\\no Experience in ecommerce domain.\\no Demonstrated success in data science platforms like Kaggle.',\n",
       " 'Hello,\\nWe are hiring on behalf of one of the largest BPO/ Consulting services.\\nThe skills rquired are Natural Language Processing, Python, Data Science and Machine Learning.\\n\\nTitle: Manager / Sr. Manager\\nLocation:Bangalore , Gurugram, Mumbai\\nDuration : Fulltime\\nMax Notice:1 Month',\n",
       " 'CRISIL (formerly Credit Rating Information Services of India Limited) is an Indian analytical company providing ratings, research, and risk and policy advisory services and is a subsidiary of American company S&P Global\\n\\nWe are looking Data Scientist for Mumbai & Bangalore location\\nCandidates who can join immediately or within 30-45 need only apply\\n\\nPlease refer below JD for your reference-\\n\\nJob Description Data scientist:\\nClient oriented approach to problem solving. Individual should be able to have a holistic view of multiple businesses and develop analytic solutions accordingly.\\nOwn and deliver multiple and complex analytic projects. This would require an understanding of business context, conversion of business problems in modeling, and implementing such solutions to create business value.\\nAlways up to date with the latest use cases of modeling community, machine learning and deep learning algorithms and share knowledge within the team.\\nProficiency in basic statistics, hypothesis testing, segmentation and predictive modeling.\\nAbility to translate and articulate technical thoughts and ideas to a larger audience including influencing skills with peers and senior management.\\nStrong project management skills.\\nAbility to coach and mentor juniors.\\nEagerness to work on new and challenging tasks on a regular basis with an ability to research new ways of doing things better/efficiently.\\nContribute to organizational initiatives in wide ranging areas including competency development, training, organizational building activities etc.\\nSkills\\n\\nBasic Qualifications\\n\\nBachelors Degree with 2+ years of experience in data analytics,\\nHands-on experience in Python / SAS or R programing along with strong experience in SQL and Excel Macros.\\nExperienced in working with large and multiple datasets, data warehouses and ability to pull data using relevant programs and coding.\\nWell versed with necessary data preprocessing and feature engineering skills.\\nAt least 2 years of experience implementing Machine learning algorithms such as Random Forest and Gradient Boosting in solving business problems such as Default classification and macroeconomic forecasting.\\nAt least 1 year of experience implementing deep learning techniques like neural networks\\nExposure to deep learning packages like Tensorflow\\nStrong background in Statistical Analysis\\nBackground in BFSI space will be preferred',\n",
       " 'Department- BIRS (Business Intelligence Risk Solutions)\\n\\nJD Statistical Analyst/ Data scientist:\\nClient oriented approach to problem solving. Individual should be able to have a holistic view of multiple businesses and develop analytic solutions accordingly.\\nOwn and deliver multiple and complex analytic projects. This would require an understanding of business context, conversion of business problems in modeling, and implementing such solutions to create business value.\\nAlways up to date with the latest use cases of modeling community, machine learning and deep learning algorithms and share knowledge within the team.\\nProficiency in basic statistics, hypothesis testing, segmentation and predictive modeling.\\nAbility to translate and articulate technical thoughts and ideas to a larger audience including influencing skills with peers and senior management.\\nStrong project management skills.\\nAbility to coach and mentor juniors.\\nEagerness to work on new and challenging tasks on a regular basis with an ability to research new ways of doing things better/efficiently.\\nContribute to organizational initiatives in wide ranging areas including competency development, training, organizational building activities etc.\\nBasic Qualifications\\n\\nBachelor’s Degree with 2+ years of experience in data analytics,\\nHands-on experience in Python / SAS or R programing along with strong experience in SQL and Excel Macros.\\nExperienced in working with large and multiple datasets, data warehouses and ability to pull data using relevant programs and coding.\\nWell versed with necessary data preprocessing and feature engineering skills.\\nAt least 2 years of experience implementing Machine learning algorithms such as Random Forest and Gradient Boosting in solving business problems such as Default classification and macroeconomic forecasting.\\nAt least 1 year of experience implementing deep learning techniques like neural networks\\nExposure to deep learning packages like Tensorflow\\nStrong background in Statistical Analysis\\nBackground in BFSI space will be preferredRoles and Responsibilities\\n\\nIf anyone interested, please share your resume to below mail id:-\\n\\nSoundarya.s@manpower.co.in;',\n",
       " 'Use predictive modeling to increase and optimize customer experiences, revenue generation, campaign optimization and other business outcomes\\nWork with product management to develop data use cases and embed predictive models in workflows on resource constrained platforms and cloud enabled.\\nSelecting features, building and optimizing classifiers using machine learning and deep learning techniques\\nCollaborates with Data Engineers to enhance data collection and ingestion/curation techniques to include information that is relevant for building analytic systems\\nProcessing, cleansing, and verifying the integrity of data used for analysis\\nDevelop processes and tools to monitor and analyze model performance and data accuracy. Life cycle management of predictive models.\\nAdherence to compliance procedures in accordance with regulatory standards, requirements, and policies. Managing and designing the reporting environment, including data sources security, and metadata.\\nJob Qualifications:\\nMaster s degree or PhD in Computer Science, Information management, Statistics or related field, with 3 to 5 years of experience in the Consumer or Healthcare industry manipulating data sets and building predictive models with focus on product development\\nExperience in statistical modelling, machine learning, data mining, unstructured data analytics and natural language processing. Sound understanding of - Bayesian Modelling, Classification Models, Cluster Analysis, Neural Network, Nonparametric Methods, Multivariate Statistics, etc.\\nStrong hands on knowledge of ML techniques like regression algorithms, K-NN, Na ve Bayes, SVM and ensemble techniques like Random forest, AdaBoost etc\\nHaving strong knowledge in unsupervised learning algorithms using Neural networks and Deep-Learning\\nStrong knowledge in Data Wrangling and Exploration techniques to identify the patterns, trends and outliners.\\nDeep knowledge and practical experience with data science toolkits, such as NumPy, Pandas, scikit-learn or equivalent\\nExperience with data visualization tools, such as QlikView, Matplotlib, seaborn or equivalent tools.\\nProficiency in using query languages, such as SQL, PL/SQL\\nHands on experience in the one or more databases like Hadoop, AWS Redshift, Snowflake etc.\\nGood applied statistics skills, such as distributions, statistical testing, regression, etc.\\nGood ETL scripting and programming skills, such as Python, R or Scala to integrate developed solution into the proposition.\\nA team player capable of working and integrating across cross-functional team for implementing project requirements. Experience in technical requirements gathering and documentation.\\nAbility to work effectively and independently in a fast-paced global collaborative agile team environment with tight deadlines\\nA flexible, pragmatic and collaborative team player with innate ability to engage with stakeholders at all levels in the organization.\\nA self-starter with high levels of drive, energy, resilience and a desire for professional excellence with a passion for data and data science',\n",
       " 'Your Responsibility\\nDevelop the algorithms to generate better demand forecast\\nUse predictive modeling methods for demand forecasting\\nDevelop the production level code for implementation of algorithms\\nResearch on the newer technologies and algorithms, to improve forecast accuracy\\nDesign the Data Science experiments, execute them and record the results\\nAdopt Wal-Mart s quality standards and develop and recommend process standards and best practices across the retail industry\\nResearch, learn adapt new technologies to solve problems improve existing solutions\\nParticipate in events to build innovative solutions\\nAdhere to company policies, procedures, mission, values, and standards of ethics and integrity.\\nOur Ideal Candidate\\nTechnical strong, proficient in Data Science (Algorithms and programming - R, Python) well versed with Data Science toolkits (Scikit-learn, Tensorflow) and basic Data Engineering toolkit (data.table, pandas).\\nHigh performing associate with excellent communication skills, proven skill sets for building high performance Data Science teams that can work across multiple geographies, with strong customer focus and deliver across multiple technologies\\nYour Qualifications\\nB.E/B.Tech from a reputed institution\\nMinimum of 3 years of Data Science Experience\\nCommand over atleast one of the Languages extensively used by Data Scientists - R, Python\\nGood understanding of predictive modelling techniques - Linear/Non-Linear Models, Ensemble methods, Kernel Methods, Artificial Neural Networks\\nGood Understanding of optimization techniques - NN, Gradient Descent, Genetic Algorithms\\nHand-on experience in Data Preperation tools - pandas, data.table\\nGood understanding in Big Data Ecosystem - Hadoop and Spark\\nShould be a fast learner and quickly adapt to new technologies.\\nPrefer individuals with High Ownership and commitment.',\n",
       " 'Your Opportunity\\nTo fulfill the charter of AdTech, there is need for top notch talent in the Sciences space. You would be working on challenging problems in Data Science, NLP leveraging ML and DL and in Optimisation. All of the problems will require building solutions at Walmart scale. The best part of this is that your solutions/models will generate tangible and immediate business impact.\\nYour Responsibility\\nAs a Principal Data Scientist for Walmart Global Tech, you ll be required to shape and deliver on the Advertising Sciences charter.\\nLeading a team of data scientists and machine learning engineers to develop, implement, and test scalable solutions for advertising science domain.\\nMentor peers and junior members and handle multiple projects at the same time.\\nManage the continuous improvement of data science and machine learning led initiatives by following industry best practices and staying up-to-date with and extending the state-of-the-art in data science research.\\nExcellent academic or industrial track record of proposing, conducting and reporting results of original research, plus collaborative research with publications\\nEngage and partner with universities, institutes and vendor partners to bring in ideas and innovation into the labs environment.\\nParticipate and speak at various external forums such as ML / AI conferences.\\nPromote and support company policies, procedures, mission, values, and standards of ethics and integrity\\nOur Ideal Candidate\\nYou are a technically strong and high performing individual with excellent communication skills, proven analytical skills and strong customer focus. You stay updated with latest research and technology ideas, and have a passion to utilize innovative ways to solve problems.\\nYou have published in top peer-reviewed international journals and conferences in Machine Learning such as ICML, NeurIPS, CVPR, CODS-COMAD, KDD etc. You are a good story-teller and able to simply articulate the intricacies of your models as well as explain your results clearly to stakeholders.\\nYou have industry knowledge of the display advertising space, with keen interest in keeping up to date on the latest happenings in this space. You have a strong interest in Mathematics and Statistics which form the core foundation of what we do in Advertising Science.\\nYour Qualifications\\nMasters with > 14 years of relevant experience OR PhD in Computer Science with > 10 years of relevant experience.\\nYour Core Skills\\nSound knowledge of statistical learning and deep learning concepts\\nExpert in ML (decision trees, random forests, boosting, etc.) and DL (CNNs, RNNs, attention mechanisms, etc.)\\nExtensive experience building and deploying state of the art models in the field of NLP (NER, embeddings, language models, etc.)\\nStrong foundational knowledge in math, statistics and calculus\\nSound knowledge of managing data for experiments (sampling, labelling, EDA, etc.)\\nProficiency in experimental design and A/B testing\\nExperience working with large data sets in big data environments (preferably Hadoop based)\\nWorking proficiency in Python, SQL and Linux/UNIX environments\\nExposure to big data processing stack e.g Apache spark\\nExposure in mentoring senior data scientists on approach and results.\\nAdded Advantages\\nPrior work in any of the following areas: mathematical optimization, reinforcement learning, recommendation system, time series analysis and forecasting\\nExperience in online display advertising domain',\n",
       " 'Your Opportunity\\nTo fulfill the charter of MINT, there is need for top notch talent in the Sciences space. You would be working on challenging problems in NLP leveraging ML and DL and in optimization. All of the problems will require building solutions at Walmart scale. The best part of MINT is that your solutions/models will generate tangible and immediate business impact.\\nYour Responsibility\\nAs a Principal Data Scientist for Walmart Global Tech, you ll be required to shape and deliver on the MINT sciences charter.\\nLeading a team of data scientists and machine learning engineers to develop, implement, and test scalable solutions for marketing intelligence domain.\\nConsult with business stakeholders across stores and ecommerce businesses regarding algorithm-based recommendations and be a thought-leader to develop these into business actions.\\nMentor peers and junior members and handle multiple projects at the same time.\\nManage the continuous improvement of data science and machine learning led initiatives by following industry best practices and staying up-to-date with and extending the state-of-the-art in data science research.\\nExcellent academic or industrial track record of proposing, conducting and reporting results of original research, plus collaborative research with publications\\nEngage and partner with universities, institutes and vendor partners to bring in ideas and innovation into the labs environment.\\nParticipate and speak at various external forums such as ML / AI conferences.\\nPromote and support company policies, procedures, mission, values, and standards of ethics and integrity\\nOur Ideal Candidate\\nYou are a technically strong and high performing individual with excellent communication skills, proven analytical skills and strong customer focus. You stay updated with latest research and technology ideas, and have a passion to utilize innovative ways to solve problems.\\nYou have published in top peer-reviewed international journals and conferences in Machine Learning such as ICML, NeurIPS, CVPR, etc. You are a good story-teller and able to simply articulate the intricacies of your models as well as explain your results clearly to stakeholders. You have industry knowledge of the retail space, with keen interest in keeping up to date on the latest happenings in this space.\\nYour Qualifications\\nBachelor s with > 15 years of relevant experience OR Masters with > 12 years of relevant experience OR PhD in Computer Science with > 10 years of relevant experience.\\nYour Core Skills\\nSound knowledge of advanced machine learning and deep learning concepts\\nExpert in ML (decision trees, random forests, boosting, etc.) and DL (CNNs, RNNs, attention mechanisms, etc.)\\nExtensive experience building and deploying state of the art models in the field of NLP (NER, embeddings, language models, etc.)\\nStrong foundational knowledge in math, statistics and calculus\\nSound knowledge of managing data for experiments (sampling, labelling, EDA, etc.)\\nProficiency in experimental design and A/B testing\\nExperience working with large data sets in big data environments (preferably Hadoop based)\\nWorking proficiency in Python, SQL and Linux/UNIX environments\\nExposure in mentoring senior data scientists on approach and results.\\nAdded Advantages\\nPrior work in any of the following areas: computer vision, mathematical optimization, reinforcement learning.\\nExperience in retail domain',\n",
       " 'As a Data Scientist for Walmart, you ll have the opportunity to:\\nDrive data-derived insights across a wide range of divisions by developing advanced statistical models, machine learning algorithms and computational algorithms based on business initiatives\\nDirect the gathering of data, assessing data validity and synthesizing data into large analytics datasets to support project goals\\nUtilize big data analytics and advanced data science techniques to identify trends, patterns, and discrepancies in data. Determine additional data needed to support insights\\nBuild and train statistical models and machine learning algorithms\\nApply your semantic, natural language processing and understanding expertise where required\\nUse deep learning and image recognition project goals\\nComputer Vision will be an important focus area for this role\\nProductionize the models and make those available at scale\\nBuild and maintain end to end Machine Learning pipelines\\nBe comfortable with ambiguity and uncertainty and the eagerness to change the world in a huge way by being a self-motivated learner and builder\\nCommunicate recommendations to business partners and influencing future plans based on insights\\nYour Responsibility\\nPlay a key role to solve complex problems, pivotal to Walmart s business and drive actionable insights from petabytes of data\\nUtilize product mindset to build, scale and deploy holistic data science products after successful prototyping\\nDemonstrate incremental solution approach with agile and flexible ability to overcome practical problems\\nPartner with senior team members to assess customer needs and define business questions\\nClearly articulate and present recommendations to business partners, and influence future plans based on insights\\nWork with customer centric mindset to deliver high quality business driven analytic solution\\nDrive innovation in approach, method, practices, process, outcome, delivery, or any component of end-to-end problem solving\\nDemonstrates up-to-date expertise and applies this to the development, execution, and improvement of action plans',\n",
       " 'Roles and Responsibilities\\nWe are looking for someone who would be responsible for analyzing data and providing business insights. As a Data Scientist your responsibilities will include understanding the business problem and experimenting with different modelling architectures to create the best possible setup from model performance as well as computational performance. To do this job successfully, you need exceptional skills in Machine Learning and Programming. Your ultimate goal will be to find the best data-based solution for the problem at hand.\\nMoreover, you are expected to learn fast and deliver quickly in a fast-paced startup environment. If you thrive on ambiguity and are a problem solver and yet deliver value to clients, feel free to reach out to us.\\nWe are looking ONLY FOR SELF DRIVEN INDIVIDUALS with a desire to excel in Data Science Domain.\\nUnderstanding business objectives and developing models that help to achieve them, along with metrics to track their progress\\nDevelop and maintain robust data processing pipelines and reproducible modeling pipelines\\nBuild mathematical models to solve various problems ranging from Time Series forecasting to Neural Networks and ensure seamless deployment in production pipelines.\\nAnalyze experimental results, iterate and refine models to create significant business impact\\nFollow strict coding standards and other software engineering best practices\\n\\n\\nDesired Candidate Profile\\nProven experience as a Data Scientist or similar role\\nStrong SQL, R/Python Skills\\nShould have familiarity with Machine Learning Models and fundamentals in Forecasting and Optimization Techniques\\nShould have strong mathematical background & analytical bent of mind\\nStrong Problem-Solving Ability\\nAbility to communicate well in a highly collaborative team environment, consisting of both technical and non-technical personnel\\nReliable self-starter that is capable of working with a high degree of autonomy\\n\\n\\nPerks and Benefits\\n\\nNeenOpal is a global management consulting firm with a unique and specialized focus on Data Science.\\nWe provide services across the whole value chain of an organization - Digital Strategy, Sales & Marketing, Supply Chain & Logistics as well as Finance. Youll have a blast doing it in our fun, passionate environment.',\n",
       " 'Hi,\\n\\nWe at Prescience www.prescienceds.com looking for Data Scientist @ Bangalore .\\n\\nRoles and Responsibilities\\nAs a Data Scientist you will be working with senior management of clients to understand the business requirements, define right problem statement and come up with a framework for the solution. You will also work on the solution and at time guide a small team to deliver the same. Part of job role would be develop products in the area of Natural Language Processing, Conversational Interfaces, Text Mining etc.\\n\\nDesired Candidate Profile\\nWhat we are looking for:\\nGood applied statistics skills, such as distributions, statistical testing, regression, etc. Experience in Natural Language Processing, Computer Vision. Exposure to common data science business problems like clustering, classification, anomaly detection, prediction etc.\\nGood understanding of machine learning techniques and algorithms\\nExperience with common data science toolkits Python, R, SAS\\nProficiency in using query languages such as SQL, Hive, etc Experience with NoSQL database, SQL Server, PostgreSQL, MongoDB\\nGreat communication skills\\nData-oriented personality and excellent business analysis skills\\nExperience in solutioning for data science related problems, work with business stakeholders to define right problem statement and solution.\\nOpen to professionals who have data analytics / BI background and then moved to Data Scientist roles.\\n\\nPerks and Benefits',\n",
       " 'The position is responsible for research and analysis of data to support proposal strategy, as well as site identification and selection decisions.\\nThe role also plays a vital part in researching, evaluating and implementing state-of-the-art informatics technologies to improve deliverables.\\nSome specific duties include the following\\nUnderstand, guide and challenge the business in order to define analytics/dashboard requirements to drive department strategy\\nModel and transform complex datasets to enable optimal and scalable visualization and analytical options.\\nDevelop the right visualisations in a variety of platforms (Spotfire, Power BI, Tableau etc) to enable clear and concise messaging to business users at different levels in the organization.\\nCreate custom visualization types to complement out of the box standards\\nEffective management of concurrent projects to ensure rapid development and deployment.\\nSupport proposal development, feasibility and site identification projects through the application of data and analytics expertise.\\nUse analytical tools to assess known and unknown information, uncertainties, and assumptions to provide probabilistic estimation of risks to study and program execution.\\nCommunicate value of informatics tools to users and train them in the use of such tools.\\nQuery relevant databases, including clinical trial registry tools and internal sources, and research various literature sources to support preparation of robust feasibility, site identification and selection deliverables.\\nUse analytical expertise to prepare risk benefit analyses and decision making criteria, while identifying opportunities to reduce cost without compromising quality.',\n",
       " '- Drive data-derived insights across the wide range of retail divisions by developing advanced statistical models, machine learning algorithms and computational algorithms based on business initiatives\\n- Direct the gathering of data, assessing data validity and synthesizing data into large analytics datasets to support project goals\\n- Utilize big data analytics and advanced data science techniques to identify trends, patterns, and discrepancies in data. Determine additional data needed to support insights\\n- Build and train statistical models and machine learning algorithms for replication for future projects\\n- Communicate recommendations to business partners and influencing future plans based on insights\\nPosition Requirements\\no Very good knowledge of the foundations of machine learning and statistics\\no Experience in analyzing the Complex Problems and translate it into data science algorithms\\no Experience in machine learning, supervised and unsupervised and deep learning\\no Experience with big data analytics - identifying trends, patterns, and outliers in large volumes of data\\no Strong Experience with one or more of Python and R\\no Strong Experience with big data platforms - Hadoop (Hive, Pig, Map Reduce, HQL, Scala)\\no Experience with SQL and relational databases, data warehouse\\nQualifications\\no Bachelors with > 5 years of experience / Master s degree with > 3 years of experience. Educational qualifications should be preferably in Computer Science or a related area. Experience should be relevant to the role.\\nGood to have:\\no Experience in ecommerce domain.\\no Demonstrated success in data science platforms like Kaggle.']"
      ]
     },
     "execution_count": 30,
     "metadata": {},
     "output_type": "execute_result"
    }
   ],
   "source": [
    "discriptions = []\n",
    "for i in job_opening_urls:\n",
    "    driver.get(i)\n",
    "    try:\n",
    "        job_desc = driver.find_element_by_xpath('//div[@class=\"dang-inner-html\"]')\n",
    "        discriptions.append(job_desc.text)\n",
    "    except:\n",
    "        pass\n",
    "discriptions"
   ]
  },
  {
   "cell_type": "code",
   "execution_count": 31,
   "metadata": {},
   "outputs": [
    {
     "data": {
      "text/html": [
       "<div>\n",
       "<style scoped>\n",
       "    .dataframe tbody tr th:only-of-type {\n",
       "        vertical-align: middle;\n",
       "    }\n",
       "\n",
       "    .dataframe tbody tr th {\n",
       "        vertical-align: top;\n",
       "    }\n",
       "\n",
       "    .dataframe thead th {\n",
       "        text-align: right;\n",
       "    }\n",
       "</style>\n",
       "<table border=\"1\" class=\"dataframe\">\n",
       "  <thead>\n",
       "    <tr style=\"text-align: right;\">\n",
       "      <th></th>\n",
       "      <th>Title</th>\n",
       "      <th>company_names</th>\n",
       "      <th>Experience Required</th>\n",
       "      <th>Location</th>\n",
       "      <th>Description</th>\n",
       "    </tr>\n",
       "  </thead>\n",
       "  <tbody>\n",
       "    <tr>\n",
       "      <th>0</th>\n",
       "      <td>Senior Data Scientist</td>\n",
       "      <td>Tata Consultancy Services Ltd.</td>\n",
       "      <td>6 - 10 years</td>\n",
       "      <td>Bangalore/Bengaluru</td>\n",
       "      <td>As a Senior Data Scientist for Walmart, you ll...</td>\n",
       "    </tr>\n",
       "    <tr>\n",
       "      <th>1</th>\n",
       "      <td>Senior Data Scientist</td>\n",
       "      <td>Trigent Software</td>\n",
       "      <td>7 - 12 years</td>\n",
       "      <td>Bangalore/Bengaluru</td>\n",
       "      <td>Responsibilities include:\\nDefining and evalua...</td>\n",
       "    </tr>\n",
       "    <tr>\n",
       "      <th>2</th>\n",
       "      <td>Senior Data Scientist IN4</td>\n",
       "      <td>Trigent Software</td>\n",
       "      <td>7 - 10 years</td>\n",
       "      <td>Bangalore/Bengaluru</td>\n",
       "      <td>Design, coordinate, and implement data driven ...</td>\n",
       "    </tr>\n",
       "    <tr>\n",
       "      <th>3</th>\n",
       "      <td>Senior Data Scientist (Marketplace)</td>\n",
       "      <td>Tata Consultancy Services Ltd.</td>\n",
       "      <td>4 - 8 years</td>\n",
       "      <td>Bangalore/Bengaluru</td>\n",
       "      <td>Position Responsibilities\\no Solve business pr...</td>\n",
       "    </tr>\n",
       "    <tr>\n",
       "      <th>4</th>\n",
       "      <td>Hiring For Manager and Sr. Manager | Data Scie...</td>\n",
       "      <td>GlaxoSmithKline Pharmaceuticals Limited</td>\n",
       "      <td>8 - 13 years</td>\n",
       "      <td>Noida, Mumbai, New Delhi, Gurgaon/Gurugram, Ba...</td>\n",
       "      <td>Hello,\\nWe are hiring on behalf of one of the ...</td>\n",
       "    </tr>\n",
       "    <tr>\n",
       "      <th>5</th>\n",
       "      <td>Requirement For Data Scientist - Mumbai &amp; Bang...</td>\n",
       "      <td>SYREN TECHNOLOGIES PRIVATE LIMITED</td>\n",
       "      <td>2 - 6 years</td>\n",
       "      <td>Bangalore/Bengaluru, Mumbai (All Areas)</td>\n",
       "      <td>CRISIL (formerly Credit Rating Information Ser...</td>\n",
       "    </tr>\n",
       "    <tr>\n",
       "      <th>6</th>\n",
       "      <td>Hiring For Data Scientist / Statistical Analyst</td>\n",
       "      <td>McAfee Software (India) Pvt. Ltd</td>\n",
       "      <td>2 - 4 years</td>\n",
       "      <td>Bangalore/Bengaluru</td>\n",
       "      <td>Department- BIRS (Business Intelligence Risk S...</td>\n",
       "    </tr>\n",
       "    <tr>\n",
       "      <th>7</th>\n",
       "      <td>Associate Data Scientist</td>\n",
       "      <td>Walmart Labs</td>\n",
       "      <td>3 - 5 years</td>\n",
       "      <td>Bangalore/Bengaluru</td>\n",
       "      <td>Use predictive modeling to increase and optimi...</td>\n",
       "    </tr>\n",
       "    <tr>\n",
       "      <th>8</th>\n",
       "      <td>Data Scientist - IN3</td>\n",
       "      <td>Affine</td>\n",
       "      <td>3 - 6 years</td>\n",
       "      <td>Bangalore/Bengaluru</td>\n",
       "      <td>Your Responsibility\\nDevelop the algorithms to...</td>\n",
       "    </tr>\n",
       "    <tr>\n",
       "      <th>9</th>\n",
       "      <td>Principal Data Scientist - AdTech</td>\n",
       "      <td>Gokaldas Exports Ltd</td>\n",
       "      <td>10 - 14 years</td>\n",
       "      <td>Bangalore/Bengaluru</td>\n",
       "      <td>Your Opportunity\\nTo fulfill the charter of Ad...</td>\n",
       "    </tr>\n",
       "  </tbody>\n",
       "</table>\n",
       "</div>"
      ],
      "text/plain": [
       "                                               Title  \\\n",
       "0                              Senior Data Scientist   \n",
       "1                              Senior Data Scientist   \n",
       "2                          Senior Data Scientist IN4   \n",
       "3                Senior Data Scientist (Marketplace)   \n",
       "4  Hiring For Manager and Sr. Manager | Data Scie...   \n",
       "5  Requirement For Data Scientist - Mumbai & Bang...   \n",
       "6    Hiring For Data Scientist / Statistical Analyst   \n",
       "7                           Associate Data Scientist   \n",
       "8                               Data Scientist - IN3   \n",
       "9                  Principal Data Scientist - AdTech   \n",
       "\n",
       "                             company_names Experience Required  \\\n",
       "0           Tata Consultancy Services Ltd.        6 - 10 years   \n",
       "1                         Trigent Software        7 - 12 years   \n",
       "2                         Trigent Software        7 - 10 years   \n",
       "3           Tata Consultancy Services Ltd.         4 - 8 years   \n",
       "4  GlaxoSmithKline Pharmaceuticals Limited        8 - 13 years   \n",
       "5       SYREN TECHNOLOGIES PRIVATE LIMITED         2 - 6 years   \n",
       "6         McAfee Software (India) Pvt. Ltd         2 - 4 years   \n",
       "7                             Walmart Labs         3 - 5 years   \n",
       "8                                   Affine         3 - 6 years   \n",
       "9                     Gokaldas Exports Ltd       10 - 14 years   \n",
       "\n",
       "                                            Location  \\\n",
       "0                                Bangalore/Bengaluru   \n",
       "1                                Bangalore/Bengaluru   \n",
       "2                                Bangalore/Bengaluru   \n",
       "3                                Bangalore/Bengaluru   \n",
       "4  Noida, Mumbai, New Delhi, Gurgaon/Gurugram, Ba...   \n",
       "5            Bangalore/Bengaluru, Mumbai (All Areas)   \n",
       "6                                Bangalore/Bengaluru   \n",
       "7                                Bangalore/Bengaluru   \n",
       "8                                Bangalore/Bengaluru   \n",
       "9                                Bangalore/Bengaluru   \n",
       "\n",
       "                                         Description  \n",
       "0  As a Senior Data Scientist for Walmart, you ll...  \n",
       "1  Responsibilities include:\\nDefining and evalua...  \n",
       "2  Design, coordinate, and implement data driven ...  \n",
       "3  Position Responsibilities\\no Solve business pr...  \n",
       "4  Hello,\\nWe are hiring on behalf of one of the ...  \n",
       "5  CRISIL (formerly Credit Rating Information Ser...  \n",
       "6  Department- BIRS (Business Intelligence Risk S...  \n",
       "7  Use predictive modeling to increase and optimi...  \n",
       "8  Your Responsibility\\nDevelop the algorithms to...  \n",
       "9  Your Opportunity\\nTo fulfill the charter of Ad...  "
      ]
     },
     "execution_count": 31,
     "metadata": {},
     "output_type": "execute_result"
    }
   ],
   "source": [
    "jobs_ds = pd.DataFrame({})\n",
    "jobs_ds['Title'] = job_titles[0:10]\n",
    "jobs_ds['company_names'] = company_titles[0:10]\n",
    "jobs_ds['Experience Required'] = experience_list[0:10]\n",
    "jobs_ds['Location'] = location_list[0:10]\n",
    "jobs_ds['Description'] = discriptions[0:10]\n",
    "jobs_ds"
   ]
  },
  {
   "cell_type": "markdown",
   "metadata": {},
   "source": [
    "# Question 3"
   ]
  },
  {
   "cell_type": "code",
   "execution_count": 32,
   "metadata": {},
   "outputs": [],
   "source": [
    "driver = webdriver.Chrome(r\"C:\\Users\\gokula krishnan\\Downloads\\chromedriver_win32\\chromedriver.exe\")"
   ]
  },
  {
   "cell_type": "code",
   "execution_count": 33,
   "metadata": {},
   "outputs": [],
   "source": [
    "url = 'https://www.naukri.com/'\n",
    "driver.get(url)"
   ]
  },
  {
   "cell_type": "code",
   "execution_count": 34,
   "metadata": {},
   "outputs": [
    {
     "data": {
      "text/plain": [
       "<selenium.webdriver.remote.webelement.WebElement (session=\"59c59319432e63f73349d38d16fc7b11\", element=\"44c92ff8-a2fd-4c7f-92ef-764a0d6d394d\")>"
      ]
     },
     "execution_count": 34,
     "metadata": {},
     "output_type": "execute_result"
    }
   ],
   "source": [
    "search_job = driver.find_element_by_id('qsb-keyword-sugg')\n",
    "search_job"
   ]
  },
  {
   "cell_type": "code",
   "execution_count": 35,
   "metadata": {},
   "outputs": [],
   "source": [
    "search_job.send_keys(\"Data Scientist\")"
   ]
  },
  {
   "cell_type": "code",
   "execution_count": 36,
   "metadata": {},
   "outputs": [
    {
     "data": {
      "text/plain": [
       "<selenium.webdriver.remote.webelement.WebElement (session=\"59c59319432e63f73349d38d16fc7b11\", element=\"7add2fc9-87d8-4856-b227-64d0d2240e37\")>"
      ]
     },
     "execution_count": 36,
     "metadata": {},
     "output_type": "execute_result"
    }
   ],
   "source": [
    "search_btn=driver.find_element_by_xpath(\"//button[@class='btn']\")\n",
    "search_btn"
   ]
  },
  {
   "cell_type": "code",
   "execution_count": 38,
   "metadata": {
    "scrolled": true
   },
   "outputs": [],
   "source": [
    "search_btn.click()"
   ]
  },
  {
   "cell_type": "code",
   "execution_count": 39,
   "metadata": {},
   "outputs": [],
   "source": [
    "search_filter=driver.find_element_by_xpath(\"//div[@class='filterOptns']/div[2]/label/i\")"
   ]
  },
  {
   "cell_type": "code",
   "execution_count": 40,
   "metadata": {},
   "outputs": [],
   "source": [
    "search_filter.click()"
   ]
  },
  {
   "cell_type": "code",
   "execution_count": 47,
   "metadata": {},
   "outputs": [
    {
     "data": {
      "text/plain": [
       "[<selenium.webdriver.remote.webelement.WebElement (session=\"59c59319432e63f73349d38d16fc7b11\", element=\"3537c4ad-e23a-4089-90d3-958b47205a9e\")>,\n",
       " <selenium.webdriver.remote.webelement.WebElement (session=\"59c59319432e63f73349d38d16fc7b11\", element=\"15d6ed2c-5a01-46b8-b8d4-7fd147d3a881\")>,\n",
       " <selenium.webdriver.remote.webelement.WebElement (session=\"59c59319432e63f73349d38d16fc7b11\", element=\"601839fc-b484-488c-862d-ef8bc23c4f47\")>,\n",
       " <selenium.webdriver.remote.webelement.WebElement (session=\"59c59319432e63f73349d38d16fc7b11\", element=\"12b78ddd-6541-4c4d-9da2-8db6f87c917f\")>,\n",
       " <selenium.webdriver.remote.webelement.WebElement (session=\"59c59319432e63f73349d38d16fc7b11\", element=\"86841040-f12c-4d58-ad50-022122444f38\")>,\n",
       " <selenium.webdriver.remote.webelement.WebElement (session=\"59c59319432e63f73349d38d16fc7b11\", element=\"7ad8941d-b2b8-448c-8712-9dae2ddf1905\")>,\n",
       " <selenium.webdriver.remote.webelement.WebElement (session=\"59c59319432e63f73349d38d16fc7b11\", element=\"6d6ff176-1393-475b-8ce0-1728dfd0b217\")>,\n",
       " <selenium.webdriver.remote.webelement.WebElement (session=\"59c59319432e63f73349d38d16fc7b11\", element=\"6e27d1a0-481a-4320-9abd-c3a5689b93aa\")>,\n",
       " <selenium.webdriver.remote.webelement.WebElement (session=\"59c59319432e63f73349d38d16fc7b11\", element=\"457d2125-364b-4600-a2cf-f1ece28e7cb8\")>,\n",
       " <selenium.webdriver.remote.webelement.WebElement (session=\"59c59319432e63f73349d38d16fc7b11\", element=\"b65ef531-123d-4668-99fe-95ec0ceb0bf1\")>,\n",
       " <selenium.webdriver.remote.webelement.WebElement (session=\"59c59319432e63f73349d38d16fc7b11\", element=\"a8e590a9-31c4-4cd5-83d7-5d3e50b3a49c\")>,\n",
       " <selenium.webdriver.remote.webelement.WebElement (session=\"59c59319432e63f73349d38d16fc7b11\", element=\"b52d5733-c850-4f90-a6cc-36b11a9718da\")>,\n",
       " <selenium.webdriver.remote.webelement.WebElement (session=\"59c59319432e63f73349d38d16fc7b11\", element=\"17b2c7ab-3c44-4683-a2c5-6196d7547145\")>,\n",
       " <selenium.webdriver.remote.webelement.WebElement (session=\"59c59319432e63f73349d38d16fc7b11\", element=\"9238ef33-4aa9-4b8d-a02a-28952ffbb735\")>,\n",
       " <selenium.webdriver.remote.webelement.WebElement (session=\"59c59319432e63f73349d38d16fc7b11\", element=\"107741c0-4e82-47c8-a423-1f1a64808a66\")>,\n",
       " <selenium.webdriver.remote.webelement.WebElement (session=\"59c59319432e63f73349d38d16fc7b11\", element=\"72f3a849-f92b-418d-9bb7-635ada5f0004\")>,\n",
       " <selenium.webdriver.remote.webelement.WebElement (session=\"59c59319432e63f73349d38d16fc7b11\", element=\"91d4154e-c483-4b56-bb6f-09b118d52251\")>,\n",
       " <selenium.webdriver.remote.webelement.WebElement (session=\"59c59319432e63f73349d38d16fc7b11\", element=\"63a9297a-839b-488d-ace8-59cd20cdde5c\")>,\n",
       " <selenium.webdriver.remote.webelement.WebElement (session=\"59c59319432e63f73349d38d16fc7b11\", element=\"73366389-c2c2-49b6-93f1-2fadf5dbf8fa\")>,\n",
       " <selenium.webdriver.remote.webelement.WebElement (session=\"59c59319432e63f73349d38d16fc7b11\", element=\"ececfa67-29f8-4007-b1b3-ce8966212edb\")>]"
      ]
     },
     "execution_count": 47,
     "metadata": {},
     "output_type": "execute_result"
    }
   ],
   "source": [
    "title_tags=driver.find_elements_by_xpath(\"//a[@class='title fw500 ellipsis']\")\n",
    "title_tags"
   ]
  },
  {
   "cell_type": "code",
   "execution_count": 48,
   "metadata": {},
   "outputs": [
    {
     "data": {
      "text/plain": [
       "['Requirement For Data Scientist - Mumbai & Bangalore',\n",
       " 'Senior Data Scientist',\n",
       " 'Senior Data Scientist',\n",
       " 'Senior Data Scientist IN4',\n",
       " 'Senior Data Scientist (Marketplace)',\n",
       " 'Hiring For Manager and Sr. Manager | Data Scientist',\n",
       " 'Hiring For Data Scientist / Statistical Analyst',\n",
       " 'Associate Data Scientist',\n",
       " 'Data Scientist',\n",
       " 'Sr Data Scientist']"
      ]
     },
     "execution_count": 48,
     "metadata": {},
     "output_type": "execute_result"
    }
   ],
   "source": [
    "job_titles=[]\n",
    "for i in title_tags[0:10]:\n",
    "    job_titles.append(i.text)\n",
    "    \n",
    "job_titles"
   ]
  },
  {
   "cell_type": "code",
   "execution_count": 49,
   "metadata": {},
   "outputs": [
    {
     "data": {
      "text/plain": [
       "[<selenium.webdriver.remote.webelement.WebElement (session=\"59c59319432e63f73349d38d16fc7b11\", element=\"46dfb2fe-b205-4e82-87fa-be17b8678c63\")>,\n",
       " <selenium.webdriver.remote.webelement.WebElement (session=\"59c59319432e63f73349d38d16fc7b11\", element=\"511e707e-1f30-4c5e-943f-613ed855d9c4\")>,\n",
       " <selenium.webdriver.remote.webelement.WebElement (session=\"59c59319432e63f73349d38d16fc7b11\", element=\"3b0a3db5-3da9-4133-a5f4-4995dbc9fbf1\")>,\n",
       " <selenium.webdriver.remote.webelement.WebElement (session=\"59c59319432e63f73349d38d16fc7b11\", element=\"f9a5ae02-a6c6-4b32-b9cd-cd046cdc5efc\")>,\n",
       " <selenium.webdriver.remote.webelement.WebElement (session=\"59c59319432e63f73349d38d16fc7b11\", element=\"6836c517-8d20-4582-a043-651ee62805b4\")>,\n",
       " <selenium.webdriver.remote.webelement.WebElement (session=\"59c59319432e63f73349d38d16fc7b11\", element=\"aa1fdb71-dd86-4aa5-8f0f-3985d9ddc975\")>,\n",
       " <selenium.webdriver.remote.webelement.WebElement (session=\"59c59319432e63f73349d38d16fc7b11\", element=\"1e0e29cc-1c12-4956-ba9d-68e8c40645dd\")>,\n",
       " <selenium.webdriver.remote.webelement.WebElement (session=\"59c59319432e63f73349d38d16fc7b11\", element=\"432826fe-ae08-45d5-a0a6-26c55475554e\")>,\n",
       " <selenium.webdriver.remote.webelement.WebElement (session=\"59c59319432e63f73349d38d16fc7b11\", element=\"6deb8c70-6b21-4243-a696-cb3c714323e5\")>,\n",
       " <selenium.webdriver.remote.webelement.WebElement (session=\"59c59319432e63f73349d38d16fc7b11\", element=\"fc0d647c-3f3b-46fa-ba54-78d3723b9c42\")>,\n",
       " <selenium.webdriver.remote.webelement.WebElement (session=\"59c59319432e63f73349d38d16fc7b11\", element=\"d2224984-9919-485c-9231-acd06c19928c\")>,\n",
       " <selenium.webdriver.remote.webelement.WebElement (session=\"59c59319432e63f73349d38d16fc7b11\", element=\"809091a2-0376-42c5-9ea5-5c43112dc0dc\")>,\n",
       " <selenium.webdriver.remote.webelement.WebElement (session=\"59c59319432e63f73349d38d16fc7b11\", element=\"bce4ff37-8e67-436a-b078-aed7109a5b42\")>,\n",
       " <selenium.webdriver.remote.webelement.WebElement (session=\"59c59319432e63f73349d38d16fc7b11\", element=\"3918ed39-9e03-488a-a3f1-4937e64dabba\")>,\n",
       " <selenium.webdriver.remote.webelement.WebElement (session=\"59c59319432e63f73349d38d16fc7b11\", element=\"23d06db1-f5be-478f-af2b-74bd40fc013f\")>,\n",
       " <selenium.webdriver.remote.webelement.WebElement (session=\"59c59319432e63f73349d38d16fc7b11\", element=\"c48c2a0d-2868-4601-89ef-31e5ffe5c060\")>,\n",
       " <selenium.webdriver.remote.webelement.WebElement (session=\"59c59319432e63f73349d38d16fc7b11\", element=\"01acb073-9bf4-49db-a9f6-ca0a37b85e47\")>,\n",
       " <selenium.webdriver.remote.webelement.WebElement (session=\"59c59319432e63f73349d38d16fc7b11\", element=\"0bc3dc89-f65d-4e3b-b03a-a4f35c103632\")>,\n",
       " <selenium.webdriver.remote.webelement.WebElement (session=\"59c59319432e63f73349d38d16fc7b11\", element=\"dd113cc1-b893-4bf9-8f23-d476465b93a0\")>,\n",
       " <selenium.webdriver.remote.webelement.WebElement (session=\"59c59319432e63f73349d38d16fc7b11\", element=\"4101c8d4-de8d-4891-a2dd-4673c95d1784\")>]"
      ]
     },
     "execution_count": 49,
     "metadata": {},
     "output_type": "execute_result"
    }
   ],
   "source": [
    "company_tags=driver.find_elements_by_xpath(\"//a[@class='subTitle ellipsis fleft']\")\n",
    "company_tags"
   ]
  },
  {
   "cell_type": "code",
   "execution_count": 50,
   "metadata": {},
   "outputs": [
    {
     "data": {
      "text/plain": [
       "['CRISIL LIMITED',\n",
       " 'Walmart Labs',\n",
       " 'Airbnb',\n",
       " 'Walmart Labs',\n",
       " 'Walmart Labs',\n",
       " 'Vision Beyond Resources India Private Limited',\n",
       " 'ManpowerGroup Services India Private Limited',\n",
       " 'Philips India Limited',\n",
       " 'Oracle India Pvt. Ltd.',\n",
       " 'IBM India Pvt. Limited']"
      ]
     },
     "execution_count": 50,
     "metadata": {},
     "output_type": "execute_result"
    }
   ],
   "source": [
    "company_names=[]\n",
    "for i in company_tags[0:10]:\n",
    "    company_names.append(i.text)\n",
    "company_names"
   ]
  },
  {
   "cell_type": "code",
   "execution_count": 51,
   "metadata": {},
   "outputs": [
    {
     "data": {
      "text/plain": [
       "[<selenium.webdriver.remote.webelement.WebElement (session=\"59c59319432e63f73349d38d16fc7b11\", element=\"95317479-745c-4b5d-82d6-9a48ca89b28e\")>,\n",
       " <selenium.webdriver.remote.webelement.WebElement (session=\"59c59319432e63f73349d38d16fc7b11\", element=\"040d7abe-ae80-4e9f-b49a-65c08d36fd58\")>,\n",
       " <selenium.webdriver.remote.webelement.WebElement (session=\"59c59319432e63f73349d38d16fc7b11\", element=\"3056f80b-3238-4ebf-9aa1-fa3c7c6bb59d\")>,\n",
       " <selenium.webdriver.remote.webelement.WebElement (session=\"59c59319432e63f73349d38d16fc7b11\", element=\"3e5a4d2a-1998-44c9-80b4-6244a7581229\")>,\n",
       " <selenium.webdriver.remote.webelement.WebElement (session=\"59c59319432e63f73349d38d16fc7b11\", element=\"28f21af0-5bea-424c-9c5a-da48816407d4\")>,\n",
       " <selenium.webdriver.remote.webelement.WebElement (session=\"59c59319432e63f73349d38d16fc7b11\", element=\"11ca5d4e-1abc-43a8-a616-545e1f8e20b5\")>,\n",
       " <selenium.webdriver.remote.webelement.WebElement (session=\"59c59319432e63f73349d38d16fc7b11\", element=\"bca04fd6-a07f-47e5-bb69-bd6d455d4b2d\")>,\n",
       " <selenium.webdriver.remote.webelement.WebElement (session=\"59c59319432e63f73349d38d16fc7b11\", element=\"56e2082d-4abb-429a-97b6-eaea7604cd4c\")>,\n",
       " <selenium.webdriver.remote.webelement.WebElement (session=\"59c59319432e63f73349d38d16fc7b11\", element=\"861dd6db-975f-4601-adde-a6fdbfbe2730\")>,\n",
       " <selenium.webdriver.remote.webelement.WebElement (session=\"59c59319432e63f73349d38d16fc7b11\", element=\"d637bcae-5ca7-4036-9b7d-7b7b431e1e39\")>,\n",
       " <selenium.webdriver.remote.webelement.WebElement (session=\"59c59319432e63f73349d38d16fc7b11\", element=\"1a4a2b31-f6cd-4f0a-a900-db850c5d6832\")>,\n",
       " <selenium.webdriver.remote.webelement.WebElement (session=\"59c59319432e63f73349d38d16fc7b11\", element=\"4dd36996-f943-4790-b017-6177f5bb6f3b\")>,\n",
       " <selenium.webdriver.remote.webelement.WebElement (session=\"59c59319432e63f73349d38d16fc7b11\", element=\"a7150d8c-34ec-424b-849d-32c8f272aca8\")>,\n",
       " <selenium.webdriver.remote.webelement.WebElement (session=\"59c59319432e63f73349d38d16fc7b11\", element=\"5d259df5-ae12-4f8a-8cf3-74606a895b9f\")>,\n",
       " <selenium.webdriver.remote.webelement.WebElement (session=\"59c59319432e63f73349d38d16fc7b11\", element=\"088d1b24-d1b5-438c-b528-4333f9d0cedb\")>,\n",
       " <selenium.webdriver.remote.webelement.WebElement (session=\"59c59319432e63f73349d38d16fc7b11\", element=\"c4cd2dd3-6649-47e0-9420-d83617de28d3\")>,\n",
       " <selenium.webdriver.remote.webelement.WebElement (session=\"59c59319432e63f73349d38d16fc7b11\", element=\"17e21187-e9ff-4e38-a90a-2739504bbe9b\")>,\n",
       " <selenium.webdriver.remote.webelement.WebElement (session=\"59c59319432e63f73349d38d16fc7b11\", element=\"2ffa3379-56b9-4926-9c0f-f78cd16db6f4\")>,\n",
       " <selenium.webdriver.remote.webelement.WebElement (session=\"59c59319432e63f73349d38d16fc7b11\", element=\"969f33fc-d974-47b8-8d5e-4ffb4c4bf3d2\")>,\n",
       " <selenium.webdriver.remote.webelement.WebElement (session=\"59c59319432e63f73349d38d16fc7b11\", element=\"0e7edf0a-a070-41fb-aaa7-625bd5d57b35\")>]"
      ]
     },
     "execution_count": 51,
     "metadata": {},
     "output_type": "execute_result"
    }
   ],
   "source": [
    "experience_tags=driver.find_elements_by_xpath(\"//li[@class='fleft grey-text br2 placeHolderLi experience']\")\n",
    "experience_tags"
   ]
  },
  {
   "cell_type": "code",
   "execution_count": 52,
   "metadata": {},
   "outputs": [
    {
     "data": {
      "text/plain": [
       "['2-6 Yrs',\n",
       " '6-10 Yrs',\n",
       " '7-12 Yrs',\n",
       " '7-10 Yrs',\n",
       " '4-8 Yrs',\n",
       " '8-13 Yrs',\n",
       " '2-4 Yrs',\n",
       " '3-5 Yrs',\n",
       " '5-9 Yrs',\n",
       " '6-8 Yrs']"
      ]
     },
     "execution_count": 52,
     "metadata": {},
     "output_type": "execute_result"
    }
   ],
   "source": [
    "job_experiences=[]\n",
    "for i in experience_tags[0:10]:\n",
    "    job_experiences.append(i.text)\n",
    "    \n",
    "job_experiences"
   ]
  },
  {
   "cell_type": "code",
   "execution_count": 53,
   "metadata": {},
   "outputs": [
    {
     "data": {
      "text/plain": [
       "[<selenium.webdriver.remote.webelement.WebElement (session=\"59c59319432e63f73349d38d16fc7b11\", element=\"b934cfc3-8d72-49f9-b541-e74bb5ca1714\")>,\n",
       " <selenium.webdriver.remote.webelement.WebElement (session=\"59c59319432e63f73349d38d16fc7b11\", element=\"8a055ab7-9a7f-4cf2-bf34-bb557ad3e9aa\")>,\n",
       " <selenium.webdriver.remote.webelement.WebElement (session=\"59c59319432e63f73349d38d16fc7b11\", element=\"cdd553f7-153e-4777-b6e3-943405e34d41\")>,\n",
       " <selenium.webdriver.remote.webelement.WebElement (session=\"59c59319432e63f73349d38d16fc7b11\", element=\"225e9829-68ff-4e8d-9b3e-ed0a5672b841\")>,\n",
       " <selenium.webdriver.remote.webelement.WebElement (session=\"59c59319432e63f73349d38d16fc7b11\", element=\"7849325c-0ca2-4b8c-b652-fc63feaab5d4\")>,\n",
       " <selenium.webdriver.remote.webelement.WebElement (session=\"59c59319432e63f73349d38d16fc7b11\", element=\"32545848-6486-4cf7-adcf-b0bbfefcaa4f\")>,\n",
       " <selenium.webdriver.remote.webelement.WebElement (session=\"59c59319432e63f73349d38d16fc7b11\", element=\"cb32c573-1a67-439a-bdef-dbff6e1a51a6\")>,\n",
       " <selenium.webdriver.remote.webelement.WebElement (session=\"59c59319432e63f73349d38d16fc7b11\", element=\"4f5bc304-69ee-4fea-969c-76ebca27550c\")>,\n",
       " <selenium.webdriver.remote.webelement.WebElement (session=\"59c59319432e63f73349d38d16fc7b11\", element=\"35395db2-ea4d-48cb-a505-63cc86b06762\")>,\n",
       " <selenium.webdriver.remote.webelement.WebElement (session=\"59c59319432e63f73349d38d16fc7b11\", element=\"26046f98-fcb4-488a-a4ee-fe1dd0a97c44\")>,\n",
       " <selenium.webdriver.remote.webelement.WebElement (session=\"59c59319432e63f73349d38d16fc7b11\", element=\"73fccad8-0ffe-4fe2-93b9-abccb587c558\")>,\n",
       " <selenium.webdriver.remote.webelement.WebElement (session=\"59c59319432e63f73349d38d16fc7b11\", element=\"468f49e5-4aac-4819-9e00-e65d71521e40\")>,\n",
       " <selenium.webdriver.remote.webelement.WebElement (session=\"59c59319432e63f73349d38d16fc7b11\", element=\"bb248942-e49b-4e7e-ae1b-2580f91ca3aa\")>,\n",
       " <selenium.webdriver.remote.webelement.WebElement (session=\"59c59319432e63f73349d38d16fc7b11\", element=\"13cf12b4-ca40-4e46-b771-5d8dfa92e53f\")>,\n",
       " <selenium.webdriver.remote.webelement.WebElement (session=\"59c59319432e63f73349d38d16fc7b11\", element=\"79642052-5da4-4dc2-b2c6-bbe170a7302e\")>,\n",
       " <selenium.webdriver.remote.webelement.WebElement (session=\"59c59319432e63f73349d38d16fc7b11\", element=\"9426a813-0976-4960-b14b-b5a1e6a69fc0\")>,\n",
       " <selenium.webdriver.remote.webelement.WebElement (session=\"59c59319432e63f73349d38d16fc7b11\", element=\"a142238d-ec93-4dd4-8ce2-96bfae5bd28f\")>,\n",
       " <selenium.webdriver.remote.webelement.WebElement (session=\"59c59319432e63f73349d38d16fc7b11\", element=\"21d9081f-2b35-413b-8781-5aa3fa316f26\")>,\n",
       " <selenium.webdriver.remote.webelement.WebElement (session=\"59c59319432e63f73349d38d16fc7b11\", element=\"791460f3-d828-4b53-9d62-56335a87140e\")>,\n",
       " <selenium.webdriver.remote.webelement.WebElement (session=\"59c59319432e63f73349d38d16fc7b11\", element=\"c7b1f6f3-7aac-49e3-ac10-f4988354d2ad\")>]"
      ]
     },
     "execution_count": 53,
     "metadata": {},
     "output_type": "execute_result"
    }
   ],
   "source": [
    "location_tags=driver.find_elements_by_xpath(\"//li[@class='fleft grey-text br2 placeHolderLi location']\")\n",
    "location_tags"
   ]
  },
  {
   "cell_type": "code",
   "execution_count": 54,
   "metadata": {},
   "outputs": [
    {
     "data": {
      "text/plain": [
       "['Bangalore/Bengaluru, Mumbai (All Areas)',\n",
       " 'Bangalore/Bengaluru',\n",
       " 'Bangalore/Bengaluru',\n",
       " 'Bangalore/Bengaluru',\n",
       " 'Bangalore/Bengaluru',\n",
       " 'Noida, Mumbai, New Delhi, Gurgaon/Gurugram, Bangalore/Bengaluru',\n",
       " 'Bangalore/Bengaluru',\n",
       " 'Bangalore/Bengaluru',\n",
       " 'Noida, Bangalore/Bengaluru',\n",
       " 'Bangalore/Bengaluru']"
      ]
     },
     "execution_count": 54,
     "metadata": {},
     "output_type": "execute_result"
    }
   ],
   "source": [
    "job_locations=[]\n",
    "for i in location_tags[0:10]:\n",
    "    job_locations.append(i.text)\n",
    "job_locations"
   ]
  },
  {
   "cell_type": "code",
   "execution_count": 55,
   "metadata": {},
   "outputs": [
    {
     "data": {
      "text/html": [
       "<div>\n",
       "<style scoped>\n",
       "    .dataframe tbody tr th:only-of-type {\n",
       "        vertical-align: middle;\n",
       "    }\n",
       "\n",
       "    .dataframe tbody tr th {\n",
       "        vertical-align: top;\n",
       "    }\n",
       "\n",
       "    .dataframe thead th {\n",
       "        text-align: right;\n",
       "    }\n",
       "</style>\n",
       "<table border=\"1\" class=\"dataframe\">\n",
       "  <thead>\n",
       "    <tr style=\"text-align: right;\">\n",
       "      <th></th>\n",
       "      <th>title</th>\n",
       "      <th>comapny</th>\n",
       "      <th>experience</th>\n",
       "      <th>location</th>\n",
       "    </tr>\n",
       "  </thead>\n",
       "  <tbody>\n",
       "    <tr>\n",
       "      <th>0</th>\n",
       "      <td>Requirement For Data Scientist - Mumbai &amp; Bang...</td>\n",
       "      <td>CRISIL LIMITED</td>\n",
       "      <td>2-6 Yrs</td>\n",
       "      <td>Bangalore/Bengaluru, Mumbai (All Areas)</td>\n",
       "    </tr>\n",
       "    <tr>\n",
       "      <th>1</th>\n",
       "      <td>Senior Data Scientist</td>\n",
       "      <td>Walmart Labs</td>\n",
       "      <td>6-10 Yrs</td>\n",
       "      <td>Bangalore/Bengaluru</td>\n",
       "    </tr>\n",
       "    <tr>\n",
       "      <th>2</th>\n",
       "      <td>Senior Data Scientist</td>\n",
       "      <td>Airbnb</td>\n",
       "      <td>7-12 Yrs</td>\n",
       "      <td>Bangalore/Bengaluru</td>\n",
       "    </tr>\n",
       "    <tr>\n",
       "      <th>3</th>\n",
       "      <td>Senior Data Scientist IN4</td>\n",
       "      <td>Walmart Labs</td>\n",
       "      <td>7-10 Yrs</td>\n",
       "      <td>Bangalore/Bengaluru</td>\n",
       "    </tr>\n",
       "    <tr>\n",
       "      <th>4</th>\n",
       "      <td>Senior Data Scientist (Marketplace)</td>\n",
       "      <td>Walmart Labs</td>\n",
       "      <td>4-8 Yrs</td>\n",
       "      <td>Bangalore/Bengaluru</td>\n",
       "    </tr>\n",
       "    <tr>\n",
       "      <th>5</th>\n",
       "      <td>Hiring For Manager and Sr. Manager | Data Scie...</td>\n",
       "      <td>Vision Beyond Resources India Private Limited</td>\n",
       "      <td>8-13 Yrs</td>\n",
       "      <td>Noida, Mumbai, New Delhi, Gurgaon/Gurugram, Ba...</td>\n",
       "    </tr>\n",
       "    <tr>\n",
       "      <th>6</th>\n",
       "      <td>Hiring For Data Scientist / Statistical Analyst</td>\n",
       "      <td>ManpowerGroup Services India Private Limited</td>\n",
       "      <td>2-4 Yrs</td>\n",
       "      <td>Bangalore/Bengaluru</td>\n",
       "    </tr>\n",
       "    <tr>\n",
       "      <th>7</th>\n",
       "      <td>Associate Data Scientist</td>\n",
       "      <td>Philips India Limited</td>\n",
       "      <td>3-5 Yrs</td>\n",
       "      <td>Bangalore/Bengaluru</td>\n",
       "    </tr>\n",
       "    <tr>\n",
       "      <th>8</th>\n",
       "      <td>Data Scientist</td>\n",
       "      <td>Oracle India Pvt. Ltd.</td>\n",
       "      <td>5-9 Yrs</td>\n",
       "      <td>Noida, Bangalore/Bengaluru</td>\n",
       "    </tr>\n",
       "    <tr>\n",
       "      <th>9</th>\n",
       "      <td>Sr Data Scientist</td>\n",
       "      <td>IBM India Pvt. Limited</td>\n",
       "      <td>6-8 Yrs</td>\n",
       "      <td>Bangalore/Bengaluru</td>\n",
       "    </tr>\n",
       "  </tbody>\n",
       "</table>\n",
       "</div>"
      ],
      "text/plain": [
       "                                               title  \\\n",
       "0  Requirement For Data Scientist - Mumbai & Bang...   \n",
       "1                              Senior Data Scientist   \n",
       "2                              Senior Data Scientist   \n",
       "3                          Senior Data Scientist IN4   \n",
       "4                Senior Data Scientist (Marketplace)   \n",
       "5  Hiring For Manager and Sr. Manager | Data Scie...   \n",
       "6    Hiring For Data Scientist / Statistical Analyst   \n",
       "7                           Associate Data Scientist   \n",
       "8                                     Data Scientist   \n",
       "9                                  Sr Data Scientist   \n",
       "\n",
       "                                         comapny experience  \\\n",
       "0                                 CRISIL LIMITED    2-6 Yrs   \n",
       "1                                   Walmart Labs   6-10 Yrs   \n",
       "2                                         Airbnb   7-12 Yrs   \n",
       "3                                   Walmart Labs   7-10 Yrs   \n",
       "4                                   Walmart Labs    4-8 Yrs   \n",
       "5  Vision Beyond Resources India Private Limited   8-13 Yrs   \n",
       "6   ManpowerGroup Services India Private Limited    2-4 Yrs   \n",
       "7                          Philips India Limited    3-5 Yrs   \n",
       "8                         Oracle India Pvt. Ltd.    5-9 Yrs   \n",
       "9                         IBM India Pvt. Limited    6-8 Yrs   \n",
       "\n",
       "                                            location  \n",
       "0            Bangalore/Bengaluru, Mumbai (All Areas)  \n",
       "1                                Bangalore/Bengaluru  \n",
       "2                                Bangalore/Bengaluru  \n",
       "3                                Bangalore/Bengaluru  \n",
       "4                                Bangalore/Bengaluru  \n",
       "5  Noida, Mumbai, New Delhi, Gurgaon/Gurugram, Ba...  \n",
       "6                                Bangalore/Bengaluru  \n",
       "7                                Bangalore/Bengaluru  \n",
       "8                         Noida, Bangalore/Bengaluru  \n",
       "9                                Bangalore/Bengaluru  "
      ]
     },
     "execution_count": 55,
     "metadata": {},
     "output_type": "execute_result"
    }
   ],
   "source": [
    "jobs_ds=pd.DataFrame({})\n",
    "jobs_ds['title']=job_titles\n",
    "jobs_ds['comapny']=company_names\n",
    "jobs_ds['experience']=job_experiences\n",
    "jobs_ds['location']=job_locations\n",
    "jobs"
   ]
  },
  {
   "cell_type": "markdown",
   "metadata": {},
   "source": [
    "# question 4"
   ]
  },
  {
   "cell_type": "code",
   "execution_count": 227,
   "metadata": {},
   "outputs": [],
   "source": [
    "import selenium\n",
    "import pandas as pd\n",
    "from selenium import webdriver\n",
    "import warnings\n",
    "warnings.filterwarnings('ignore')"
   ]
  },
  {
   "cell_type": "code",
   "execution_count": 228,
   "metadata": {},
   "outputs": [],
   "source": [
    "driver = webdriver.Chrome(r\"C:\\Users\\gokula krishnan\\Downloads\\chromedriver_win32\\chromedriver.exe\")"
   ]
  },
  {
   "cell_type": "code",
   "execution_count": 229,
   "metadata": {},
   "outputs": [],
   "source": [
    "search_job=driver.find_element_by_xpath('//input[@class=\"sugInp\"]')\n",
    "search_job"
   ]
  },
  {
   "cell_type": "code",
   "execution_count": 230,
   "metadata": {},
   "outputs": [],
   "source": [
    "search_job=driver.find_element_by_id(\"sc.keyword\")\n",
    "search_job.send_keys(\"Data Scientist\")"
   ]
  },
  {
   "cell_type": "code",
   "execution_count": 231,
   "metadata": {},
   "outputs": [],
   "source": [
    "search_loc=driver.find_element_by_id(\"sc.location\")\n",
    "search_loc.send_keys(\"Noida\")"
   ]
  },
  {
   "cell_type": "code",
   "execution_count": 136,
   "metadata": {},
   "outputs": [
    {
     "data": {
      "text/plain": [
       "[<selenium.webdriver.remote.webelement.WebElement (session=\"d4b3452207b380fa029899f32ef020c5\", element=\"dc96d1c6-ede1-4e75-ad6e-35b024eb4c00\")>,\n",
       " <selenium.webdriver.remote.webelement.WebElement (session=\"d4b3452207b380fa029899f32ef020c5\", element=\"b3af766e-a68f-420d-ab7c-0f64514a1f51\")>,\n",
       " <selenium.webdriver.remote.webelement.WebElement (session=\"d4b3452207b380fa029899f32ef020c5\", element=\"ea9d8074-2ccc-4980-a2be-a41b01315c1e\")>,\n",
       " <selenium.webdriver.remote.webelement.WebElement (session=\"d4b3452207b380fa029899f32ef020c5\", element=\"4e34d870-3950-4540-a31e-44e2d33bf3ca\")>,\n",
       " <selenium.webdriver.remote.webelement.WebElement (session=\"d4b3452207b380fa029899f32ef020c5\", element=\"2bceac2d-a5bd-4040-9c65-828a2c541b0a\")>,\n",
       " <selenium.webdriver.remote.webelement.WebElement (session=\"d4b3452207b380fa029899f32ef020c5\", element=\"62167723-22bc-461f-9db5-9607412be207\")>,\n",
       " <selenium.webdriver.remote.webelement.WebElement (session=\"d4b3452207b380fa029899f32ef020c5\", element=\"8cb0eeb0-e55b-46ba-a530-45b19db81cd7\")>,\n",
       " <selenium.webdriver.remote.webelement.WebElement (session=\"d4b3452207b380fa029899f32ef020c5\", element=\"b3375e07-5748-4414-a093-23168a9269f7\")>,\n",
       " <selenium.webdriver.remote.webelement.WebElement (session=\"d4b3452207b380fa029899f32ef020c5\", element=\"67b9c83f-60d8-4071-b2fd-a965bb5ac199\")>,\n",
       " <selenium.webdriver.remote.webelement.WebElement (session=\"d4b3452207b380fa029899f32ef020c5\", element=\"dc02c722-52c0-4548-a1c9-fc4bcc73f9f6\")>,\n",
       " <selenium.webdriver.remote.webelement.WebElement (session=\"d4b3452207b380fa029899f32ef020c5\", element=\"c89eba58-881a-4e65-a88e-8a9a5584e773\")>,\n",
       " <selenium.webdriver.remote.webelement.WebElement (session=\"d4b3452207b380fa029899f32ef020c5\", element=\"ee05145a-4d6e-4792-a464-9c6d5452f80c\")>,\n",
       " <selenium.webdriver.remote.webelement.WebElement (session=\"d4b3452207b380fa029899f32ef020c5\", element=\"c48878dd-32cc-43c5-b16d-e2d9a235a0ef\")>,\n",
       " <selenium.webdriver.remote.webelement.WebElement (session=\"d4b3452207b380fa029899f32ef020c5\", element=\"b00a0f80-7856-4337-897a-778542e7756e\")>,\n",
       " <selenium.webdriver.remote.webelement.WebElement (session=\"d4b3452207b380fa029899f32ef020c5\", element=\"39e5a5a1-d49d-4288-ab4f-fad372b85a80\")>,\n",
       " <selenium.webdriver.remote.webelement.WebElement (session=\"d4b3452207b380fa029899f32ef020c5\", element=\"cf2a701c-75fa-4922-9b36-fa8bab5be314\")>,\n",
       " <selenium.webdriver.remote.webelement.WebElement (session=\"d4b3452207b380fa029899f32ef020c5\", element=\"aab984b8-a531-45c8-862d-ebd6e2114b2d\")>,\n",
       " <selenium.webdriver.remote.webelement.WebElement (session=\"d4b3452207b380fa029899f32ef020c5\", element=\"2bab2f75-0edc-4e0e-a7d6-26da8b813a4b\")>,\n",
       " <selenium.webdriver.remote.webelement.WebElement (session=\"d4b3452207b380fa029899f32ef020c5\", element=\"0e0e4ba3-67dc-46ad-bef1-1021ceb46f9a\")>,\n",
       " <selenium.webdriver.remote.webelement.WebElement (session=\"d4b3452207b380fa029899f32ef020c5\", element=\"d5a57020-2d0b-4e26-83a9-e925c6989834\")>,\n",
       " <selenium.webdriver.remote.webelement.WebElement (session=\"d4b3452207b380fa029899f32ef020c5\", element=\"67bcb339-d0e7-48b3-afb7-ebc03d51cca8\")>,\n",
       " <selenium.webdriver.remote.webelement.WebElement (session=\"d4b3452207b380fa029899f32ef020c5\", element=\"121e4dc0-a86f-4361-a0b7-f5ace9b60db9\")>,\n",
       " <selenium.webdriver.remote.webelement.WebElement (session=\"d4b3452207b380fa029899f32ef020c5\", element=\"404a697b-4189-472c-be5c-3ec217980a1e\")>,\n",
       " <selenium.webdriver.remote.webelement.WebElement (session=\"d4b3452207b380fa029899f32ef020c5\", element=\"f7c6f9b6-757d-4dcb-9cd6-37fc0ed6d086\")>,\n",
       " <selenium.webdriver.remote.webelement.WebElement (session=\"d4b3452207b380fa029899f32ef020c5\", element=\"74a193b0-04dc-4af9-a92b-408c19524e0e\")>,\n",
       " <selenium.webdriver.remote.webelement.WebElement (session=\"d4b3452207b380fa029899f32ef020c5\", element=\"ae26ce64-623e-4a33-9232-81216d68d135\")>,\n",
       " <selenium.webdriver.remote.webelement.WebElement (session=\"d4b3452207b380fa029899f32ef020c5\", element=\"7df46a94-291b-4111-bb7d-810a4c1ad8a0\")>,\n",
       " <selenium.webdriver.remote.webelement.WebElement (session=\"d4b3452207b380fa029899f32ef020c5\", element=\"fd90b157-b642-4490-b2d3-f0ca3576ceae\")>,\n",
       " <selenium.webdriver.remote.webelement.WebElement (session=\"d4b3452207b380fa029899f32ef020c5\", element=\"0ae66523-0e12-408b-94ad-71d602b9c475\")>,\n",
       " <selenium.webdriver.remote.webelement.WebElement (session=\"d4b3452207b380fa029899f32ef020c5\", element=\"3635ed1d-023c-4340-88b2-b6400b5d8a1c\")>]"
      ]
     },
     "execution_count": 136,
     "metadata": {},
     "output_type": "execute_result"
    }
   ],
   "source": [
    "company_tags=driver.find_elements_by_xpath(\"//div[@class='d-flex justify-content-between align-items-start']/a\")\n",
    "company_tags"
   ]
  },
  {
   "cell_type": "code",
   "execution_count": 137,
   "metadata": {},
   "outputs": [
    {
     "data": {
      "text/plain": [
       "['Liberin Technologies Private Limited',\n",
       " 'Noisy Lion',\n",
       " 'AlgoScale Technologies Private Limited',\n",
       " 'Grail Insights',\n",
       " 'Grail Insights',\n",
       " 'Salasar New Age Technologies',\n",
       " 'Techlive',\n",
       " 'Ericsson',\n",
       " 'Newgen Software',\n",
       " 'Salasar New Age Technologies']"
      ]
     },
     "execution_count": 137,
     "metadata": {},
     "output_type": "execute_result"
    }
   ],
   "source": [
    "company_names=[]\n",
    "for i in company_tags[:10]:\n",
    "    company_names.append(i.text)\n",
    "\n",
    "company_names"
   ]
  },
  {
   "cell_type": "code",
   "execution_count": 147,
   "metadata": {},
   "outputs": [
    {
     "data": {
      "text/plain": [
       "10"
      ]
     },
     "execution_count": 147,
     "metadata": {},
     "output_type": "execute_result"
    }
   ],
   "source": [
    "len(company_names)"
   ]
  },
  {
   "cell_type": "code",
   "execution_count": 155,
   "metadata": {},
   "outputs": [],
   "source": [
    "job_days=[]\n",
    "for i in driver.find_elements_by_xpath(\"//div[@class='d-flex align-items-end pl-std css-mi55ob']\")[:10]:\n",
    "    job_days.append(i.text)"
   ]
  },
  {
   "cell_type": "code",
   "execution_count": 156,
   "metadata": {},
   "outputs": [
    {
     "data": {
      "text/plain": [
       "[]"
      ]
     },
     "execution_count": 156,
     "metadata": {},
     "output_type": "execute_result"
    }
   ],
   "source": [
    "job_days"
   ]
  },
  {
   "cell_type": "code",
   "execution_count": 150,
   "metadata": {},
   "outputs": [
    {
     "data": {
      "text/plain": [
       "[]"
      ]
     },
     "execution_count": 150,
     "metadata": {},
     "output_type": "execute_result"
    }
   ],
   "source": [
    "ratings_gd=[]\n",
    "for i in driver.find_elements_by_xpath(\"//div[@class='d-flex flex-column css-x75kgh e1rrn5ka3']\")[:10]:\n",
    "    ratings_gd.append(i.text)\n",
    "\n",
    "ratings_gd"
   ]
  },
  {
   "cell_type": "code",
   "execution_count": 151,
   "metadata": {},
   "outputs": [
    {
     "ename": "ValueError",
     "evalue": "Length of values (0) does not match length of index (10)",
     "output_type": "error",
     "traceback": [
      "\u001b[1;31m---------------------------------------------------------------------------\u001b[0m",
      "\u001b[1;31mValueError\u001b[0m                                Traceback (most recent call last)",
      "\u001b[1;32m<ipython-input-151-8d880983ecad>\u001b[0m in \u001b[0;36m<module>\u001b[1;34m\u001b[0m\n\u001b[0;32m      1\u001b[0m \u001b[0mglassdoor_jobs\u001b[0m\u001b[1;33m=\u001b[0m\u001b[0mpd\u001b[0m\u001b[1;33m.\u001b[0m\u001b[0mDataFrame\u001b[0m\u001b[1;33m(\u001b[0m\u001b[1;33m{\u001b[0m\u001b[1;33m}\u001b[0m\u001b[1;33m)\u001b[0m\u001b[1;33m\u001b[0m\u001b[1;33m\u001b[0m\u001b[0m\n\u001b[0;32m      2\u001b[0m \u001b[0mglassdoor_jobs\u001b[0m\u001b[1;33m[\u001b[0m\u001b[1;34m'company names'\u001b[0m\u001b[1;33m]\u001b[0m\u001b[1;33m=\u001b[0m\u001b[0mcompany_names\u001b[0m\u001b[1;33m\u001b[0m\u001b[1;33m\u001b[0m\u001b[0m\n\u001b[1;32m----> 3\u001b[1;33m \u001b[0mglassdoor_jobs\u001b[0m\u001b[1;33m[\u001b[0m\u001b[1;34m'ratings'\u001b[0m\u001b[1;33m]\u001b[0m\u001b[1;33m=\u001b[0m\u001b[0mratings_gd\u001b[0m\u001b[1;33m\u001b[0m\u001b[1;33m\u001b[0m\u001b[0m\n\u001b[0m\u001b[0;32m      4\u001b[0m \u001b[0mglassdoor_jobs\u001b[0m\u001b[1;33m[\u001b[0m\u001b[1;34m'No. of days ago when job was posted'\u001b[0m\u001b[1;33m]\u001b[0m\u001b[1;33m=\u001b[0m\u001b[0mjob_days\u001b[0m\u001b[1;33m\u001b[0m\u001b[1;33m\u001b[0m\u001b[0m\n\u001b[0;32m      5\u001b[0m \u001b[0mglassdoor_jobs\u001b[0m\u001b[1;33m\u001b[0m\u001b[1;33m\u001b[0m\u001b[0m\n",
      "\u001b[1;32m~\\anaconda3\\lib\\site-packages\\pandas\\core\\frame.py\u001b[0m in \u001b[0;36m__setitem__\u001b[1;34m(self, key, value)\u001b[0m\n\u001b[0;32m   3038\u001b[0m         \u001b[1;32melse\u001b[0m\u001b[1;33m:\u001b[0m\u001b[1;33m\u001b[0m\u001b[1;33m\u001b[0m\u001b[0m\n\u001b[0;32m   3039\u001b[0m             \u001b[1;31m# set column\u001b[0m\u001b[1;33m\u001b[0m\u001b[1;33m\u001b[0m\u001b[1;33m\u001b[0m\u001b[0m\n\u001b[1;32m-> 3040\u001b[1;33m             \u001b[0mself\u001b[0m\u001b[1;33m.\u001b[0m\u001b[0m_set_item\u001b[0m\u001b[1;33m(\u001b[0m\u001b[0mkey\u001b[0m\u001b[1;33m,\u001b[0m \u001b[0mvalue\u001b[0m\u001b[1;33m)\u001b[0m\u001b[1;33m\u001b[0m\u001b[1;33m\u001b[0m\u001b[0m\n\u001b[0m\u001b[0;32m   3041\u001b[0m \u001b[1;33m\u001b[0m\u001b[0m\n\u001b[0;32m   3042\u001b[0m     \u001b[1;32mdef\u001b[0m \u001b[0m_setitem_slice\u001b[0m\u001b[1;33m(\u001b[0m\u001b[0mself\u001b[0m\u001b[1;33m,\u001b[0m \u001b[0mkey\u001b[0m\u001b[1;33m:\u001b[0m \u001b[0mslice\u001b[0m\u001b[1;33m,\u001b[0m \u001b[0mvalue\u001b[0m\u001b[1;33m)\u001b[0m\u001b[1;33m:\u001b[0m\u001b[1;33m\u001b[0m\u001b[1;33m\u001b[0m\u001b[0m\n",
      "\u001b[1;32m~\\anaconda3\\lib\\site-packages\\pandas\\core\\frame.py\u001b[0m in \u001b[0;36m_set_item\u001b[1;34m(self, key, value)\u001b[0m\n\u001b[0;32m   3114\u001b[0m         \"\"\"\n\u001b[0;32m   3115\u001b[0m         \u001b[0mself\u001b[0m\u001b[1;33m.\u001b[0m\u001b[0m_ensure_valid_index\u001b[0m\u001b[1;33m(\u001b[0m\u001b[0mvalue\u001b[0m\u001b[1;33m)\u001b[0m\u001b[1;33m\u001b[0m\u001b[1;33m\u001b[0m\u001b[0m\n\u001b[1;32m-> 3116\u001b[1;33m         \u001b[0mvalue\u001b[0m \u001b[1;33m=\u001b[0m \u001b[0mself\u001b[0m\u001b[1;33m.\u001b[0m\u001b[0m_sanitize_column\u001b[0m\u001b[1;33m(\u001b[0m\u001b[0mkey\u001b[0m\u001b[1;33m,\u001b[0m \u001b[0mvalue\u001b[0m\u001b[1;33m)\u001b[0m\u001b[1;33m\u001b[0m\u001b[1;33m\u001b[0m\u001b[0m\n\u001b[0m\u001b[0;32m   3117\u001b[0m         \u001b[0mNDFrame\u001b[0m\u001b[1;33m.\u001b[0m\u001b[0m_set_item\u001b[0m\u001b[1;33m(\u001b[0m\u001b[0mself\u001b[0m\u001b[1;33m,\u001b[0m \u001b[0mkey\u001b[0m\u001b[1;33m,\u001b[0m \u001b[0mvalue\u001b[0m\u001b[1;33m)\u001b[0m\u001b[1;33m\u001b[0m\u001b[1;33m\u001b[0m\u001b[0m\n\u001b[0;32m   3118\u001b[0m \u001b[1;33m\u001b[0m\u001b[0m\n",
      "\u001b[1;32m~\\anaconda3\\lib\\site-packages\\pandas\\core\\frame.py\u001b[0m in \u001b[0;36m_sanitize_column\u001b[1;34m(self, key, value, broadcast)\u001b[0m\n\u001b[0;32m   3762\u001b[0m \u001b[1;33m\u001b[0m\u001b[0m\n\u001b[0;32m   3763\u001b[0m             \u001b[1;31m# turn me into an ndarray\u001b[0m\u001b[1;33m\u001b[0m\u001b[1;33m\u001b[0m\u001b[1;33m\u001b[0m\u001b[0m\n\u001b[1;32m-> 3764\u001b[1;33m             \u001b[0mvalue\u001b[0m \u001b[1;33m=\u001b[0m \u001b[0msanitize_index\u001b[0m\u001b[1;33m(\u001b[0m\u001b[0mvalue\u001b[0m\u001b[1;33m,\u001b[0m \u001b[0mself\u001b[0m\u001b[1;33m.\u001b[0m\u001b[0mindex\u001b[0m\u001b[1;33m)\u001b[0m\u001b[1;33m\u001b[0m\u001b[1;33m\u001b[0m\u001b[0m\n\u001b[0m\u001b[0;32m   3765\u001b[0m             \u001b[1;32mif\u001b[0m \u001b[1;32mnot\u001b[0m \u001b[0misinstance\u001b[0m\u001b[1;33m(\u001b[0m\u001b[0mvalue\u001b[0m\u001b[1;33m,\u001b[0m \u001b[1;33m(\u001b[0m\u001b[0mnp\u001b[0m\u001b[1;33m.\u001b[0m\u001b[0mndarray\u001b[0m\u001b[1;33m,\u001b[0m \u001b[0mIndex\u001b[0m\u001b[1;33m)\u001b[0m\u001b[1;33m)\u001b[0m\u001b[1;33m:\u001b[0m\u001b[1;33m\u001b[0m\u001b[1;33m\u001b[0m\u001b[0m\n\u001b[0;32m   3766\u001b[0m                 \u001b[1;32mif\u001b[0m \u001b[0misinstance\u001b[0m\u001b[1;33m(\u001b[0m\u001b[0mvalue\u001b[0m\u001b[1;33m,\u001b[0m \u001b[0mlist\u001b[0m\u001b[1;33m)\u001b[0m \u001b[1;32mand\u001b[0m \u001b[0mlen\u001b[0m\u001b[1;33m(\u001b[0m\u001b[0mvalue\u001b[0m\u001b[1;33m)\u001b[0m \u001b[1;33m>\u001b[0m \u001b[1;36m0\u001b[0m\u001b[1;33m:\u001b[0m\u001b[1;33m\u001b[0m\u001b[1;33m\u001b[0m\u001b[0m\n",
      "\u001b[1;32m~\\anaconda3\\lib\\site-packages\\pandas\\core\\internals\\construction.py\u001b[0m in \u001b[0;36msanitize_index\u001b[1;34m(data, index)\u001b[0m\n\u001b[0;32m    745\u001b[0m     \"\"\"\n\u001b[0;32m    746\u001b[0m     \u001b[1;32mif\u001b[0m \u001b[0mlen\u001b[0m\u001b[1;33m(\u001b[0m\u001b[0mdata\u001b[0m\u001b[1;33m)\u001b[0m \u001b[1;33m!=\u001b[0m \u001b[0mlen\u001b[0m\u001b[1;33m(\u001b[0m\u001b[0mindex\u001b[0m\u001b[1;33m)\u001b[0m\u001b[1;33m:\u001b[0m\u001b[1;33m\u001b[0m\u001b[1;33m\u001b[0m\u001b[0m\n\u001b[1;32m--> 747\u001b[1;33m         raise ValueError(\n\u001b[0m\u001b[0;32m    748\u001b[0m             \u001b[1;34m\"Length of values \"\u001b[0m\u001b[1;33m\u001b[0m\u001b[1;33m\u001b[0m\u001b[0m\n\u001b[0;32m    749\u001b[0m             \u001b[1;34mf\"({len(data)}) \"\u001b[0m\u001b[1;33m\u001b[0m\u001b[1;33m\u001b[0m\u001b[0m\n",
      "\u001b[1;31mValueError\u001b[0m: Length of values (0) does not match length of index (10)"
     ]
    }
   ],
   "source": [
    "glassdoor_jobs=pd.DataFrame({})\n",
    "glassdoor_jobs['company names']=company_names\n",
    "glassdoor_jobs['ratings']=ratings_gd\n",
    "glassdoor_jobs['No. of days ago when job was posted']=job_days\n",
    "glassdoor_jobs"
   ]
  },
  {
   "cell_type": "markdown",
   "metadata": {},
   "source": [
    "# Question 5"
   ]
  },
  {
   "cell_type": "code",
   "execution_count": 157,
   "metadata": {},
   "outputs": [],
   "source": [
    "import selenium\n",
    "import pandas as pd\n",
    "from selenium import webdriver\n",
    "import warnings\n",
    "warnings.filterwarnings('ignore')"
   ]
  },
  {
   "cell_type": "code",
   "execution_count": 158,
   "metadata": {},
   "outputs": [],
   "source": [
    "driver = webdriver.Chrome(r\"C:\\Users\\gokula krishnan\\Downloads\\chromedriver_win32\\chromedriver.exe\")"
   ]
  },
  {
   "cell_type": "code",
   "execution_count": 159,
   "metadata": {},
   "outputs": [],
   "source": [
    "url = 'https://www.glassdoor.co.in/Salaries/index.htm'\n",
    "driver.get(url)"
   ]
  },
  {
   "cell_type": "code",
   "execution_count": 160,
   "metadata": {},
   "outputs": [
    {
     "data": {
      "text/plain": [
       "<selenium.webdriver.remote.webelement.WebElement (session=\"aa9ffcf30a43b48a2416a138c957e322\", element=\"1268f852-513c-40ac-af6b-022702073140\")>"
      ]
     },
     "execution_count": 160,
     "metadata": {},
     "output_type": "execute_result"
    }
   ],
   "source": [
    "search_job = driver.find_element_by_id('KeywordSearch')\n",
    "search_job"
   ]
  },
  {
   "cell_type": "code",
   "execution_count": 161,
   "metadata": {},
   "outputs": [],
   "source": [
    "search_job.send_keys(\"Data Scientist\")"
   ]
  },
  {
   "cell_type": "code",
   "execution_count": 162,
   "metadata": {},
   "outputs": [],
   "source": [
    "search_loc=driver.find_element_by_id(\"LocationSearch\")\n",
    "search_loc.send_keys(\"Noida\")"
   ]
  },
  {
   "cell_type": "code",
   "execution_count": 163,
   "metadata": {},
   "outputs": [],
   "source": [
    "btn=driver.find_element_by_xpath(\"//button[@class='gd-btn-mkt']\")\n",
    "btn.click()"
   ]
  },
  {
   "cell_type": "code",
   "execution_count": 165,
   "metadata": {},
   "outputs": [
    {
     "data": {
      "text/plain": [
       "[]"
      ]
     },
     "execution_count": 165,
     "metadata": {},
     "output_type": "execute_result"
    }
   ],
   "source": [
    "company_tags=driver.find_elements_by_xpath(\"//p[@class='m-0 ']\")\n",
    "company_tags"
   ]
  },
  {
   "cell_type": "code",
   "execution_count": 166,
   "metadata": {},
   "outputs": [
    {
     "data": {
      "text/plain": [
       "[]"
      ]
     },
     "execution_count": 166,
     "metadata": {},
     "output_type": "execute_result"
    }
   ],
   "source": [
    "company_titles = []\n",
    "for i in companies_tags:\n",
    "    company_titles.append(i.text)\n",
    "company_titles"
   ]
  },
  {
   "cell_type": "code",
   "execution_count": 102,
   "metadata": {},
   "outputs": [
    {
     "data": {
      "text/plain": [
       "[]"
      ]
     },
     "execution_count": 102,
     "metadata": {},
     "output_type": "execute_result"
    }
   ],
   "source": [
    "sal_tags = driver.find_elements_by_xpath(\"//div[@class='d-flex mt-xxsm css-79elbk epuxyqn0']\")\n",
    "salary = []\n",
    "for i in sal_tags:\n",
    "    salary.append(i.text)\n",
    "salary"
   ]
  },
  {
   "cell_type": "code",
   "execution_count": 103,
   "metadata": {
    "scrolled": true
   },
   "outputs": [
    {
     "data": {
      "text/plain": [
       "[]"
      ]
     },
     "execution_count": 103,
     "metadata": {},
     "output_type": "execute_result"
    }
   ],
   "source": [
    "min_salary = [i.split('\\n')[0] for i in salary]\n",
    "min_salary"
   ]
  },
  {
   "cell_type": "code",
   "execution_count": 108,
   "metadata": {},
   "outputs": [
    {
     "data": {
      "text/plain": [
       "[]"
      ]
     },
     "execution_count": 108,
     "metadata": {},
     "output_type": "execute_result"
    }
   ],
   "source": [
    "max_salary =  [i[-4:] for i in salary]\n",
    "max_salary"
   ]
  },
  {
   "cell_type": "code",
   "execution_count": 109,
   "metadata": {},
   "outputs": [
    {
     "data": {
      "text/plain": [
       "[]"
      ]
     },
     "execution_count": 109,
     "metadata": {},
     "output_type": "execute_result"
    }
   ],
   "source": [
    "no_of_salary = driver.find_elements_by_xpath(\"//div[@class='col-12 col-lg-auto']\")\n",
    "no_of_salaries = []\n",
    "for i in no_of_salary:\n",
    "    no_of_salaries.append(i.text)\n",
    "no_of_salaries"
   ]
  },
  {
   "cell_type": "code",
   "execution_count": 110,
   "metadata": {},
   "outputs": [
    {
     "data": {
      "text/plain": [
       "[]"
      ]
     },
     "execution_count": 110,
     "metadata": {},
     "output_type": "execute_result"
    }
   ],
   "source": [
    "avg= driver.find_elements_by_xpath(\"//div[@class='col-12 col-lg-4 px-lg-0 d-flex align-items-baseline']\")\n",
    "average_salary = []\n",
    "for i in avg:\n",
    "    average_salary.append(i.text)\n",
    "average_salary"
   ]
  },
  {
   "cell_type": "code",
   "execution_count": 111,
   "metadata": {},
   "outputs": [
    {
     "data": {
      "text/plain": [
       "[]"
      ]
     },
     "execution_count": 111,
     "metadata": {},
     "output_type": "execute_result"
    }
   ],
   "source": [
    "rating= driver.find_elements_by_xpath(\"//span[@class='m-0 css-kyx745']\")\n",
    "ratings = []\n",
    "for i in rating:\n",
    "    ratings.append(i.text)\n",
    "ratings"
   ]
  },
  {
   "cell_type": "code",
   "execution_count": 113,
   "metadata": {},
   "outputs": [
    {
     "data": {
      "text/html": [
       "<div>\n",
       "<style scoped>\n",
       "    .dataframe tbody tr th:only-of-type {\n",
       "        vertical-align: middle;\n",
       "    }\n",
       "\n",
       "    .dataframe tbody tr th {\n",
       "        vertical-align: top;\n",
       "    }\n",
       "\n",
       "    .dataframe thead th {\n",
       "        text-align: right;\n",
       "    }\n",
       "</style>\n",
       "<table border=\"1\" class=\"dataframe\">\n",
       "  <thead>\n",
       "    <tr style=\"text-align: right;\">\n",
       "      <th></th>\n",
       "      <th>Company name</th>\n",
       "      <th>Min Salry</th>\n",
       "      <th>Max Salary</th>\n",
       "      <th>Location</th>\n",
       "      <th>Rating</th>\n",
       "    </tr>\n",
       "  </thead>\n",
       "  <tbody>\n",
       "  </tbody>\n",
       "</table>\n",
       "</div>"
      ],
      "text/plain": [
       "Empty DataFrame\n",
       "Columns: [Company name, Min Salry, Max Salary, Location, Rating]\n",
       "Index: []"
      ]
     },
     "execution_count": 113,
     "metadata": {},
     "output_type": "execute_result"
    }
   ],
   "source": [
    "jobs5 = pd.DataFrame({})\n",
    "jobs5['Company name'] = company_titles[0:10]\n",
    "jobs5['Min Salry'] = min_salary[0:10]\n",
    "jobs5['Max Salary'] = max_salary[0:10]\n",
    "jobs5['Location'] = average_salary[0:10]\n",
    "jobs5['Rating'] = ratings[0:10]\n",
    "jobs5"
   ]
  },
  {
   "cell_type": "markdown",
   "metadata": {},
   "source": [
    "# Question 6"
   ]
  },
  {
   "cell_type": "code",
   "execution_count": 84,
   "metadata": {},
   "outputs": [],
   "source": [
    "import selenium\n",
    "import pandas as pd\n",
    "from selenium import webdriver\n",
    "import warnings\n",
    "warnings.filterwarnings('ignore')"
   ]
  },
  {
   "cell_type": "code",
   "execution_count": 85,
   "metadata": {},
   "outputs": [],
   "source": [
    "driver = webdriver.Chrome(r\"C:\\Users\\gokula krishnan\\Downloads\\chromedriver_win32\\chromedriver.exe\")"
   ]
  },
  {
   "cell_type": "code",
   "execution_count": 86,
   "metadata": {},
   "outputs": [],
   "source": [
    "url = 'https://www.flipkart.com/'\n",
    "driver.get(url)"
   ]
  },
  {
   "cell_type": "code",
   "execution_count": 87,
   "metadata": {},
   "outputs": [
    {
     "data": {
      "text/plain": [
       "<selenium.webdriver.remote.webelement.WebElement (session=\"ded7c4c98d6a19cac5d7b85a298572d8\", element=\"f3985df8-7b91-4d12-a4a5-74cec210b76c\")>"
      ]
     },
     "execution_count": 87,
     "metadata": {},
     "output_type": "execute_result"
    }
   ],
   "source": [
    "search_products=driver.find_element_by_xpath(\"//input[@class='_3704LK']\")\n",
    "search_products"
   ]
  },
  {
   "cell_type": "code",
   "execution_count": 88,
   "metadata": {},
   "outputs": [],
   "source": [
    "search_products.send_keys(\"sunglasses\")"
   ]
  },
  {
   "cell_type": "code",
   "execution_count": 91,
   "metadata": {},
   "outputs": [],
   "source": [
    "search_btn=driver.find_element_by_xpath(\"//button[@class='L0Z3Pu']\")"
   ]
  },
  {
   "cell_type": "code",
   "execution_count": 93,
   "metadata": {},
   "outputs": [],
   "source": [
    "search_btn.click()"
   ]
  },
  {
   "cell_type": "code",
   "execution_count": 94,
   "metadata": {},
   "outputs": [
    {
     "data": {
      "text/plain": [
       "[<selenium.webdriver.remote.webelement.WebElement (session=\"ded7c4c98d6a19cac5d7b85a298572d8\", element=\"053e9068-a7c6-469d-8129-e662159dd90f\")>,\n",
       " <selenium.webdriver.remote.webelement.WebElement (session=\"ded7c4c98d6a19cac5d7b85a298572d8\", element=\"efc67518-98b8-49d7-a73f-986c923620cc\")>,\n",
       " <selenium.webdriver.remote.webelement.WebElement (session=\"ded7c4c98d6a19cac5d7b85a298572d8\", element=\"d91ee6a2-3b90-4365-ac30-822beae24c2f\")>,\n",
       " <selenium.webdriver.remote.webelement.WebElement (session=\"ded7c4c98d6a19cac5d7b85a298572d8\", element=\"a48c2133-9c48-41c4-9dd8-41fe266f6720\")>,\n",
       " <selenium.webdriver.remote.webelement.WebElement (session=\"ded7c4c98d6a19cac5d7b85a298572d8\", element=\"c3cb886b-278e-4d84-adb2-27c50ca3dc1a\")>,\n",
       " <selenium.webdriver.remote.webelement.WebElement (session=\"ded7c4c98d6a19cac5d7b85a298572d8\", element=\"13d93ada-9e9a-4386-87bd-2abefec7e74d\")>,\n",
       " <selenium.webdriver.remote.webelement.WebElement (session=\"ded7c4c98d6a19cac5d7b85a298572d8\", element=\"46d9bd35-206e-4649-9fba-3f9d6c3f67b2\")>,\n",
       " <selenium.webdriver.remote.webelement.WebElement (session=\"ded7c4c98d6a19cac5d7b85a298572d8\", element=\"cec70e81-cefa-4ea1-8c1c-ffca10cd1bdf\")>,\n",
       " <selenium.webdriver.remote.webelement.WebElement (session=\"ded7c4c98d6a19cac5d7b85a298572d8\", element=\"9cf7dec9-3e87-43af-ba36-6cfa764e7e8b\")>,\n",
       " <selenium.webdriver.remote.webelement.WebElement (session=\"ded7c4c98d6a19cac5d7b85a298572d8\", element=\"72ff861d-e57f-4b9a-bac8-a0b1f2c40416\")>,\n",
       " <selenium.webdriver.remote.webelement.WebElement (session=\"ded7c4c98d6a19cac5d7b85a298572d8\", element=\"7e4d264e-4ec3-4873-b20b-e396053b4751\")>,\n",
       " <selenium.webdriver.remote.webelement.WebElement (session=\"ded7c4c98d6a19cac5d7b85a298572d8\", element=\"552415fd-934e-4667-9bb8-f5ff18dc65d5\")>,\n",
       " <selenium.webdriver.remote.webelement.WebElement (session=\"ded7c4c98d6a19cac5d7b85a298572d8\", element=\"91211edc-f93e-4415-9319-da4281b98ead\")>,\n",
       " <selenium.webdriver.remote.webelement.WebElement (session=\"ded7c4c98d6a19cac5d7b85a298572d8\", element=\"f26af62a-5c9f-4efe-bb61-854ca1449895\")>,\n",
       " <selenium.webdriver.remote.webelement.WebElement (session=\"ded7c4c98d6a19cac5d7b85a298572d8\", element=\"e0986b3a-8a12-4528-9b15-34cd8e9e3421\")>,\n",
       " <selenium.webdriver.remote.webelement.WebElement (session=\"ded7c4c98d6a19cac5d7b85a298572d8\", element=\"a7d9ad72-fdea-4d73-b549-55d64eaeac2e\")>,\n",
       " <selenium.webdriver.remote.webelement.WebElement (session=\"ded7c4c98d6a19cac5d7b85a298572d8\", element=\"d8996be7-e3dd-4f1e-be80-4786de5d99f9\")>,\n",
       " <selenium.webdriver.remote.webelement.WebElement (session=\"ded7c4c98d6a19cac5d7b85a298572d8\", element=\"252cac65-d38b-4f32-aa4b-f0309b9e067f\")>,\n",
       " <selenium.webdriver.remote.webelement.WebElement (session=\"ded7c4c98d6a19cac5d7b85a298572d8\", element=\"4e233292-df00-405d-a809-39e9913a43f7\")>,\n",
       " <selenium.webdriver.remote.webelement.WebElement (session=\"ded7c4c98d6a19cac5d7b85a298572d8\", element=\"706f1bd7-7fda-4f13-b736-738749db8ff2\")>,\n",
       " <selenium.webdriver.remote.webelement.WebElement (session=\"ded7c4c98d6a19cac5d7b85a298572d8\", element=\"31e0a8d0-e40e-458b-a4cd-f6c4cf72c3ce\")>,\n",
       " <selenium.webdriver.remote.webelement.WebElement (session=\"ded7c4c98d6a19cac5d7b85a298572d8\", element=\"1d32d030-095e-44d6-9986-365f827cdc0d\")>,\n",
       " <selenium.webdriver.remote.webelement.WebElement (session=\"ded7c4c98d6a19cac5d7b85a298572d8\", element=\"ccb26597-9031-4350-a23c-4af8ec827254\")>,\n",
       " <selenium.webdriver.remote.webelement.WebElement (session=\"ded7c4c98d6a19cac5d7b85a298572d8\", element=\"b6752019-6ad6-418c-b955-f95047e8458a\")>,\n",
       " <selenium.webdriver.remote.webelement.WebElement (session=\"ded7c4c98d6a19cac5d7b85a298572d8\", element=\"bcc32702-051d-45c4-8af3-ac6d7f74c596\")>,\n",
       " <selenium.webdriver.remote.webelement.WebElement (session=\"ded7c4c98d6a19cac5d7b85a298572d8\", element=\"f157b1f0-94c0-4890-88b4-12ee9ba69ae2\")>,\n",
       " <selenium.webdriver.remote.webelement.WebElement (session=\"ded7c4c98d6a19cac5d7b85a298572d8\", element=\"cc675b2a-0097-4bac-9889-5e6b4fd8454b\")>,\n",
       " <selenium.webdriver.remote.webelement.WebElement (session=\"ded7c4c98d6a19cac5d7b85a298572d8\", element=\"59da2b53-d934-40c2-b3a9-e9aad0ce00d4\")>,\n",
       " <selenium.webdriver.remote.webelement.WebElement (session=\"ded7c4c98d6a19cac5d7b85a298572d8\", element=\"458aa55a-55ac-4afa-b9c1-f4a040959155\")>,\n",
       " <selenium.webdriver.remote.webelement.WebElement (session=\"ded7c4c98d6a19cac5d7b85a298572d8\", element=\"dc7603f5-879d-4265-9d38-3b81702bd2bb\")>,\n",
       " <selenium.webdriver.remote.webelement.WebElement (session=\"ded7c4c98d6a19cac5d7b85a298572d8\", element=\"7da0ee7e-9cfc-4b97-89eb-e77ceefcf8a7\")>,\n",
       " <selenium.webdriver.remote.webelement.WebElement (session=\"ded7c4c98d6a19cac5d7b85a298572d8\", element=\"68855fba-3002-4118-823d-c4baa999aa96\")>,\n",
       " <selenium.webdriver.remote.webelement.WebElement (session=\"ded7c4c98d6a19cac5d7b85a298572d8\", element=\"a5c14eaa-c68c-493d-a124-6a414f9c7afa\")>,\n",
       " <selenium.webdriver.remote.webelement.WebElement (session=\"ded7c4c98d6a19cac5d7b85a298572d8\", element=\"f1a5da62-9f15-4e5c-84e4-a6e14877f023\")>,\n",
       " <selenium.webdriver.remote.webelement.WebElement (session=\"ded7c4c98d6a19cac5d7b85a298572d8\", element=\"ea0f91e1-900c-4e2a-af32-f6e2bf5daf65\")>,\n",
       " <selenium.webdriver.remote.webelement.WebElement (session=\"ded7c4c98d6a19cac5d7b85a298572d8\", element=\"4c9b1e68-b00f-42e8-8f94-45e1a19d42c4\")>,\n",
       " <selenium.webdriver.remote.webelement.WebElement (session=\"ded7c4c98d6a19cac5d7b85a298572d8\", element=\"c600e3e9-5bd1-4f92-9f14-643101fd8e63\")>,\n",
       " <selenium.webdriver.remote.webelement.WebElement (session=\"ded7c4c98d6a19cac5d7b85a298572d8\", element=\"6125be14-f6ef-4e3e-9841-da2e6f322861\")>,\n",
       " <selenium.webdriver.remote.webelement.WebElement (session=\"ded7c4c98d6a19cac5d7b85a298572d8\", element=\"2de4688b-5464-4180-9313-9aa2236634f9\")>,\n",
       " <selenium.webdriver.remote.webelement.WebElement (session=\"ded7c4c98d6a19cac5d7b85a298572d8\", element=\"db2a84b4-1f07-451b-9cea-ff166d82652c\")>]"
      ]
     },
     "execution_count": 94,
     "metadata": {},
     "output_type": "execute_result"
    }
   ],
   "source": [
    "brand_tags=driver.find_elements_by_xpath(\"//div[@class='_2WkVRV']\")\n",
    "brand_tags"
   ]
  },
  {
   "cell_type": "code",
   "execution_count": 95,
   "metadata": {},
   "outputs": [
    {
     "data": {
      "text/plain": [
       "['WROGN',\n",
       " 'Villain',\n",
       " 'SHAAH COLLECTIONS',\n",
       " 'PIRASO',\n",
       " 'Elligator',\n",
       " 'kingsunglasses',\n",
       " 'PIRASO',\n",
       " 'AISLIN',\n",
       " 'Fastrack',\n",
       " 'ROYAL SON',\n",
       " 'Fastrack',\n",
       " 'NuVew',\n",
       " 'ROZZETTA CRAFT',\n",
       " 'SHAAH COLLECTIONS',\n",
       " 'SHAAH COLLECTIONS',\n",
       " 'AISLIN',\n",
       " 'Fastrack',\n",
       " 'SUNBEE',\n",
       " 'NuVew',\n",
       " 'ROZZETTA CRAFT',\n",
       " 'PHENOMENAL',\n",
       " 'kingsunglasses',\n",
       " 'DEIXELS',\n",
       " 'AISLIN',\n",
       " 'ROZZETTA CRAFT',\n",
       " 'Silver Kartz',\n",
       " 'PIRASO',\n",
       " 'ROYAL SON',\n",
       " 'ROZZETTA CRAFT',\n",
       " 'ROYAL SON',\n",
       " 'PIRASO',\n",
       " 'AISLIN',\n",
       " 'PIRASO',\n",
       " 'Fastrack',\n",
       " 'Fastrack',\n",
       " 'AISLIN',\n",
       " 'Rich Club',\n",
       " 'OCCARIO',\n",
       " 'HIPPON',\n",
       " 'NuVew']"
      ]
     },
     "execution_count": 95,
     "metadata": {},
     "output_type": "execute_result"
    }
   ],
   "source": [
    "brand_names=[]\n",
    "for i in brand_tags:\n",
    "    brand_names.append(i.text)\n",
    "    \n",
    "brand_names"
   ]
  },
  {
   "cell_type": "code",
   "execution_count": 96,
   "metadata": {},
   "outputs": [
    {
     "data": {
      "text/plain": [
       "[<selenium.webdriver.remote.webelement.WebElement (session=\"ded7c4c98d6a19cac5d7b85a298572d8\", element=\"be34800f-b432-4c87-99c4-1b00cfe9a8e1\")>,\n",
       " <selenium.webdriver.remote.webelement.WebElement (session=\"ded7c4c98d6a19cac5d7b85a298572d8\", element=\"e0078a75-e7d8-474a-a5a4-5d4ca1a987e4\")>,\n",
       " <selenium.webdriver.remote.webelement.WebElement (session=\"ded7c4c98d6a19cac5d7b85a298572d8\", element=\"a20967d0-30a0-46b7-85f5-80b2553d8e5c\")>,\n",
       " <selenium.webdriver.remote.webelement.WebElement (session=\"ded7c4c98d6a19cac5d7b85a298572d8\", element=\"6fbd8817-f4ad-49ab-9243-9dfe01417108\")>,\n",
       " <selenium.webdriver.remote.webelement.WebElement (session=\"ded7c4c98d6a19cac5d7b85a298572d8\", element=\"966dba34-94dc-4f16-9bc2-6c4f5f15e1e5\")>,\n",
       " <selenium.webdriver.remote.webelement.WebElement (session=\"ded7c4c98d6a19cac5d7b85a298572d8\", element=\"518f6080-3f14-4df8-bbf3-b850e3be07b9\")>,\n",
       " <selenium.webdriver.remote.webelement.WebElement (session=\"ded7c4c98d6a19cac5d7b85a298572d8\", element=\"5b19f29e-f68e-438c-9969-6e4d9516da14\")>,\n",
       " <selenium.webdriver.remote.webelement.WebElement (session=\"ded7c4c98d6a19cac5d7b85a298572d8\", element=\"10a6cc57-62c3-4fa2-a616-ca1373374e74\")>,\n",
       " <selenium.webdriver.remote.webelement.WebElement (session=\"ded7c4c98d6a19cac5d7b85a298572d8\", element=\"5af4542f-b3f9-479b-bb6a-11baae5b7c5c\")>,\n",
       " <selenium.webdriver.remote.webelement.WebElement (session=\"ded7c4c98d6a19cac5d7b85a298572d8\", element=\"4a7c9de0-b7ea-40d5-9369-63fbb9020882\")>,\n",
       " <selenium.webdriver.remote.webelement.WebElement (session=\"ded7c4c98d6a19cac5d7b85a298572d8\", element=\"4351d98a-485a-42d9-8400-7eadaa86fb38\")>,\n",
       " <selenium.webdriver.remote.webelement.WebElement (session=\"ded7c4c98d6a19cac5d7b85a298572d8\", element=\"47a29c69-5ba4-4e4f-861d-2b9a8420b28a\")>,\n",
       " <selenium.webdriver.remote.webelement.WebElement (session=\"ded7c4c98d6a19cac5d7b85a298572d8\", element=\"d3d6ea98-2afe-48b7-95ec-838668896662\")>,\n",
       " <selenium.webdriver.remote.webelement.WebElement (session=\"ded7c4c98d6a19cac5d7b85a298572d8\", element=\"0290d357-55f8-4b8e-8f27-b8f001fe5b39\")>,\n",
       " <selenium.webdriver.remote.webelement.WebElement (session=\"ded7c4c98d6a19cac5d7b85a298572d8\", element=\"1bfb9bd3-a193-4070-af5b-93d084e10545\")>,\n",
       " <selenium.webdriver.remote.webelement.WebElement (session=\"ded7c4c98d6a19cac5d7b85a298572d8\", element=\"1684fb97-bb19-4909-a666-6349e714fd50\")>,\n",
       " <selenium.webdriver.remote.webelement.WebElement (session=\"ded7c4c98d6a19cac5d7b85a298572d8\", element=\"d2b9ba5d-5a64-405b-a221-ca094afef22f\")>,\n",
       " <selenium.webdriver.remote.webelement.WebElement (session=\"ded7c4c98d6a19cac5d7b85a298572d8\", element=\"f39bbc67-d2ae-458e-8c5a-0763d416a007\")>,\n",
       " <selenium.webdriver.remote.webelement.WebElement (session=\"ded7c4c98d6a19cac5d7b85a298572d8\", element=\"2aa7a544-426b-48a7-8208-70142efd1865\")>,\n",
       " <selenium.webdriver.remote.webelement.WebElement (session=\"ded7c4c98d6a19cac5d7b85a298572d8\", element=\"1e21a576-3d17-4e54-ba27-8fd06a284377\")>,\n",
       " <selenium.webdriver.remote.webelement.WebElement (session=\"ded7c4c98d6a19cac5d7b85a298572d8\", element=\"428c7e02-8900-4097-ab42-95ac7e5d2a0a\")>,\n",
       " <selenium.webdriver.remote.webelement.WebElement (session=\"ded7c4c98d6a19cac5d7b85a298572d8\", element=\"a1e44347-9164-473b-97b4-7a6a9ba739a3\")>,\n",
       " <selenium.webdriver.remote.webelement.WebElement (session=\"ded7c4c98d6a19cac5d7b85a298572d8\", element=\"c8176f87-2f66-4705-93a4-12960ed27226\")>,\n",
       " <selenium.webdriver.remote.webelement.WebElement (session=\"ded7c4c98d6a19cac5d7b85a298572d8\", element=\"b7371249-5878-4714-b6ff-a0af6d244e3a\")>,\n",
       " <selenium.webdriver.remote.webelement.WebElement (session=\"ded7c4c98d6a19cac5d7b85a298572d8\", element=\"ccb43586-6386-4e4e-a612-0e9dadd1c27a\")>,\n",
       " <selenium.webdriver.remote.webelement.WebElement (session=\"ded7c4c98d6a19cac5d7b85a298572d8\", element=\"2b8aca00-1e74-4615-90d0-8552fd768e9e\")>,\n",
       " <selenium.webdriver.remote.webelement.WebElement (session=\"ded7c4c98d6a19cac5d7b85a298572d8\", element=\"685c114c-f3d0-4e34-bf1d-a4e657ca53e5\")>,\n",
       " <selenium.webdriver.remote.webelement.WebElement (session=\"ded7c4c98d6a19cac5d7b85a298572d8\", element=\"46a76f8e-daa5-4a5f-89a8-3e0032fe8cde\")>,\n",
       " <selenium.webdriver.remote.webelement.WebElement (session=\"ded7c4c98d6a19cac5d7b85a298572d8\", element=\"18ca2243-b17e-40aa-b133-89a779b4adeb\")>,\n",
       " <selenium.webdriver.remote.webelement.WebElement (session=\"ded7c4c98d6a19cac5d7b85a298572d8\", element=\"8ba81f9b-7952-4cc6-afa5-95cacf12ece1\")>,\n",
       " <selenium.webdriver.remote.webelement.WebElement (session=\"ded7c4c98d6a19cac5d7b85a298572d8\", element=\"e1e77c6d-4e8d-40de-9d99-eae6f797fbd3\")>,\n",
       " <selenium.webdriver.remote.webelement.WebElement (session=\"ded7c4c98d6a19cac5d7b85a298572d8\", element=\"f2413a52-2c5c-4c17-8fb3-9d8cc07f2c4e\")>,\n",
       " <selenium.webdriver.remote.webelement.WebElement (session=\"ded7c4c98d6a19cac5d7b85a298572d8\", element=\"264e7d91-e9c1-4541-a470-243e71aaaff2\")>,\n",
       " <selenium.webdriver.remote.webelement.WebElement (session=\"ded7c4c98d6a19cac5d7b85a298572d8\", element=\"b60620ff-a864-4afd-9651-c4ef020b6b23\")>,\n",
       " <selenium.webdriver.remote.webelement.WebElement (session=\"ded7c4c98d6a19cac5d7b85a298572d8\", element=\"01ee3a16-227e-4ed4-8693-606f8ddafe97\")>,\n",
       " <selenium.webdriver.remote.webelement.WebElement (session=\"ded7c4c98d6a19cac5d7b85a298572d8\", element=\"02e5c2c9-ab3d-461f-beb5-f2d81ed08768\")>,\n",
       " <selenium.webdriver.remote.webelement.WebElement (session=\"ded7c4c98d6a19cac5d7b85a298572d8\", element=\"ba0f1ec9-6f41-4272-a033-095def95613f\")>,\n",
       " <selenium.webdriver.remote.webelement.WebElement (session=\"ded7c4c98d6a19cac5d7b85a298572d8\", element=\"c68491ba-31fd-4cdf-aa91-3614e500e481\")>,\n",
       " <selenium.webdriver.remote.webelement.WebElement (session=\"ded7c4c98d6a19cac5d7b85a298572d8\", element=\"a7e04cd6-df1e-4a16-be50-cab773945c31\")>,\n",
       " <selenium.webdriver.remote.webelement.WebElement (session=\"ded7c4c98d6a19cac5d7b85a298572d8\", element=\"532337e6-630f-4cc7-a5bd-539fcf00d13e\")>]"
      ]
     },
     "execution_count": 96,
     "metadata": {},
     "output_type": "execute_result"
    }
   ],
   "source": [
    "desc_tags=driver.find_elements_by_xpath(\"//a[@class='IRpwTa']\")\n",
    "desc_tags"
   ]
  },
  {
   "cell_type": "code",
   "execution_count": 97,
   "metadata": {},
   "outputs": [
    {
     "data": {
      "text/plain": [
       "['UV Protection Aviator Sunglasses (60)',\n",
       " 'Others Wayfarer Sunglasses (Free Size)',\n",
       " 'UV Protection, Polarized, Mirrored Rectangular Sunglass...',\n",
       " 'UV Protection Aviator Sunglasses (54)',\n",
       " 'UV Protection Round Sunglasses (54)',\n",
       " 'Mirrored, UV Protection Wayfarer Sunglasses (Free Size)',\n",
       " 'UV Protection Aviator Sunglasses (54)',\n",
       " 'UV Protection, Gradient Wayfarer, Clubmaster Sunglasses...',\n",
       " 'Gradient, UV Protection Wayfarer Sunglasses (Free Size)',\n",
       " 'UV Protection Rectangular Sunglasses (58)',\n",
       " 'UV Protection Wayfarer Sunglasses (Free Size)',\n",
       " 'UV Protection Aviator Sunglasses (57)',\n",
       " 'UV Protection, Gradient Rectangular Sunglasses (Free Si...',\n",
       " 'UV Protection Round Sunglasses (Free Size)',\n",
       " 'UV Protection, Polarized, Mirrored Rectangular Sunglass...',\n",
       " 'UV Protection, Gradient Butterfly, Retro Square Sunglas...',\n",
       " 'UV Protection Aviator Sunglasses (Free Size)',\n",
       " 'UV Protection, Polarized, Mirrored Wayfarer Sunglasses ...',\n",
       " 'UV Protection, Mirrored Aviator Sunglasses (58)',\n",
       " 'UV Protection, Gradient Retro Square Sunglasses (Free S...',\n",
       " 'UV Protection Retro Square Sunglasses (Free Size)',\n",
       " 'Mirrored, UV Protection Wayfarer Sunglasses (Free Size)',\n",
       " 'UV Protection Aviator, Wayfarer Sunglasses (Free Size)',\n",
       " 'UV Protection, Gradient Wayfarer, Clubmaster Sunglasses...',\n",
       " 'UV Protection Retro Square Sunglasses (Free Size)',\n",
       " 'UV Protection Wayfarer Sunglasses (Free Size)',\n",
       " 'UV Protection Aviator Sunglasses (54)',\n",
       " 'Polarized, UV Protection Aviator Sunglasses (58)',\n",
       " 'UV Protection, Riding Glasses Rectangular Sunglasses (F...',\n",
       " 'Mirrored Aviator Sunglasses (55)',\n",
       " 'UV Protection Aviator Sunglasses (58)',\n",
       " 'UV Protection, Gradient Butterfly, Retro Square Sunglas...',\n",
       " 'UV Protection Butterfly Sunglasses (65)',\n",
       " 'UV Protection Wayfarer Sunglasses (Free Size)',\n",
       " 'UV Protection Wayfarer Sunglasses (57)',\n",
       " 'UV Protection, Gradient Round, Cat-eye Sunglasses (60)',\n",
       " 'UV Protection, Mirrored, Gradient Round Sunglasses (51)',\n",
       " 'Others Round Sunglasses (52)',\n",
       " 'UV Protection Wayfarer Sunglasses (55)',\n",
       " 'UV Protection, Night Vision, Riding Glasses, Polarized ...']"
      ]
     },
     "execution_count": 97,
     "metadata": {},
     "output_type": "execute_result"
    }
   ],
   "source": [
    "brand_desc=[]\n",
    "for i in desc_tags:\n",
    "    brand_desc.append(i.text)\n",
    "    \n",
    "brand_desc"
   ]
  },
  {
   "cell_type": "code",
   "execution_count": 98,
   "metadata": {},
   "outputs": [
    {
     "data": {
      "text/plain": [
       "[<selenium.webdriver.remote.webelement.WebElement (session=\"ded7c4c98d6a19cac5d7b85a298572d8\", element=\"affd44dd-7bfb-4de4-8671-2fa40556b76c\")>,\n",
       " <selenium.webdriver.remote.webelement.WebElement (session=\"ded7c4c98d6a19cac5d7b85a298572d8\", element=\"caaa3501-c3e4-434d-9c5e-6b2d5f35b7a8\")>,\n",
       " <selenium.webdriver.remote.webelement.WebElement (session=\"ded7c4c98d6a19cac5d7b85a298572d8\", element=\"07e97b5e-ec15-4192-ae7f-e87eb774e62e\")>,\n",
       " <selenium.webdriver.remote.webelement.WebElement (session=\"ded7c4c98d6a19cac5d7b85a298572d8\", element=\"427084d4-6c05-4544-bd99-128f6ad1b193\")>,\n",
       " <selenium.webdriver.remote.webelement.WebElement (session=\"ded7c4c98d6a19cac5d7b85a298572d8\", element=\"664a839a-57fb-4857-8408-16618b3c0975\")>,\n",
       " <selenium.webdriver.remote.webelement.WebElement (session=\"ded7c4c98d6a19cac5d7b85a298572d8\", element=\"e3e73414-e43b-4f57-86f6-778f5bed7498\")>,\n",
       " <selenium.webdriver.remote.webelement.WebElement (session=\"ded7c4c98d6a19cac5d7b85a298572d8\", element=\"789ad371-f33d-4ea8-837e-3e4160eeab8a\")>,\n",
       " <selenium.webdriver.remote.webelement.WebElement (session=\"ded7c4c98d6a19cac5d7b85a298572d8\", element=\"8008e6e5-6ad4-4d1c-8eab-bc174a4af99a\")>,\n",
       " <selenium.webdriver.remote.webelement.WebElement (session=\"ded7c4c98d6a19cac5d7b85a298572d8\", element=\"ca510564-0c5c-4a21-9c79-9158a44cefb1\")>,\n",
       " <selenium.webdriver.remote.webelement.WebElement (session=\"ded7c4c98d6a19cac5d7b85a298572d8\", element=\"44749ced-5a6a-4318-a712-0ee12b435d74\")>,\n",
       " <selenium.webdriver.remote.webelement.WebElement (session=\"ded7c4c98d6a19cac5d7b85a298572d8\", element=\"3348cff8-92de-4e2d-8c12-39da59fc11c9\")>,\n",
       " <selenium.webdriver.remote.webelement.WebElement (session=\"ded7c4c98d6a19cac5d7b85a298572d8\", element=\"0c672804-f528-4fb8-911d-1bdf2a746913\")>,\n",
       " <selenium.webdriver.remote.webelement.WebElement (session=\"ded7c4c98d6a19cac5d7b85a298572d8\", element=\"41860992-37d3-4311-998e-235d2a7006ac\")>,\n",
       " <selenium.webdriver.remote.webelement.WebElement (session=\"ded7c4c98d6a19cac5d7b85a298572d8\", element=\"4ab611a9-1c31-417a-b757-33e5b4493d95\")>,\n",
       " <selenium.webdriver.remote.webelement.WebElement (session=\"ded7c4c98d6a19cac5d7b85a298572d8\", element=\"5995cd9f-b775-42e3-9f97-3bda46af8d35\")>,\n",
       " <selenium.webdriver.remote.webelement.WebElement (session=\"ded7c4c98d6a19cac5d7b85a298572d8\", element=\"cce8e383-d73c-41de-9309-1fb05a43705f\")>,\n",
       " <selenium.webdriver.remote.webelement.WebElement (session=\"ded7c4c98d6a19cac5d7b85a298572d8\", element=\"ebfc237d-2d39-4421-9bf9-14a2b5949e7e\")>,\n",
       " <selenium.webdriver.remote.webelement.WebElement (session=\"ded7c4c98d6a19cac5d7b85a298572d8\", element=\"c2bedcfe-ccfd-4df3-8c26-717b51cc4c28\")>,\n",
       " <selenium.webdriver.remote.webelement.WebElement (session=\"ded7c4c98d6a19cac5d7b85a298572d8\", element=\"50c7d6ac-00f0-4caf-a01a-b33780e47656\")>,\n",
       " <selenium.webdriver.remote.webelement.WebElement (session=\"ded7c4c98d6a19cac5d7b85a298572d8\", element=\"d3fe1118-c96c-4ed0-bd4a-7d468a51cd4f\")>,\n",
       " <selenium.webdriver.remote.webelement.WebElement (session=\"ded7c4c98d6a19cac5d7b85a298572d8\", element=\"2395c5fa-5c2c-402f-b146-0a8dd33e6f2c\")>,\n",
       " <selenium.webdriver.remote.webelement.WebElement (session=\"ded7c4c98d6a19cac5d7b85a298572d8\", element=\"206c0bc0-e94f-4900-93ee-4f34bfecaf38\")>,\n",
       " <selenium.webdriver.remote.webelement.WebElement (session=\"ded7c4c98d6a19cac5d7b85a298572d8\", element=\"070a5e4b-c89f-4bf8-92a9-cedf71bf0acb\")>,\n",
       " <selenium.webdriver.remote.webelement.WebElement (session=\"ded7c4c98d6a19cac5d7b85a298572d8\", element=\"b02612d5-c204-47be-95bb-5172d77b9def\")>,\n",
       " <selenium.webdriver.remote.webelement.WebElement (session=\"ded7c4c98d6a19cac5d7b85a298572d8\", element=\"8d79f3f9-e8bc-4a0f-990b-05bd2f8cb2fb\")>,\n",
       " <selenium.webdriver.remote.webelement.WebElement (session=\"ded7c4c98d6a19cac5d7b85a298572d8\", element=\"d1c3a0e1-c005-460e-922c-d2a305b5f872\")>,\n",
       " <selenium.webdriver.remote.webelement.WebElement (session=\"ded7c4c98d6a19cac5d7b85a298572d8\", element=\"95bc738b-75b6-402a-ad62-4c26a6481e77\")>,\n",
       " <selenium.webdriver.remote.webelement.WebElement (session=\"ded7c4c98d6a19cac5d7b85a298572d8\", element=\"d125640a-7128-4ed0-ba27-078813c461bd\")>,\n",
       " <selenium.webdriver.remote.webelement.WebElement (session=\"ded7c4c98d6a19cac5d7b85a298572d8\", element=\"7721ea5c-abf3-4ac7-ab00-01f6af974fdb\")>,\n",
       " <selenium.webdriver.remote.webelement.WebElement (session=\"ded7c4c98d6a19cac5d7b85a298572d8\", element=\"80df7208-c601-4d93-9695-32d92bc26d1c\")>,\n",
       " <selenium.webdriver.remote.webelement.WebElement (session=\"ded7c4c98d6a19cac5d7b85a298572d8\", element=\"bd4bb77c-ba37-4668-9e7e-73bcc5fc47c9\")>,\n",
       " <selenium.webdriver.remote.webelement.WebElement (session=\"ded7c4c98d6a19cac5d7b85a298572d8\", element=\"465e1d42-3cc4-48b4-b6fa-d0429a440f96\")>,\n",
       " <selenium.webdriver.remote.webelement.WebElement (session=\"ded7c4c98d6a19cac5d7b85a298572d8\", element=\"26be6938-408b-4c45-b46c-7ba229c275f4\")>,\n",
       " <selenium.webdriver.remote.webelement.WebElement (session=\"ded7c4c98d6a19cac5d7b85a298572d8\", element=\"816e44c4-c2f1-4deb-9bed-6a9a410f60f4\")>,\n",
       " <selenium.webdriver.remote.webelement.WebElement (session=\"ded7c4c98d6a19cac5d7b85a298572d8\", element=\"5c8729de-4fc4-4f3e-83f8-66da4551fc8a\")>,\n",
       " <selenium.webdriver.remote.webelement.WebElement (session=\"ded7c4c98d6a19cac5d7b85a298572d8\", element=\"e8b54ecb-456f-490c-9348-83c15e811dce\")>,\n",
       " <selenium.webdriver.remote.webelement.WebElement (session=\"ded7c4c98d6a19cac5d7b85a298572d8\", element=\"15c69127-9ea1-4b26-9f17-c73531c0a6dd\")>,\n",
       " <selenium.webdriver.remote.webelement.WebElement (session=\"ded7c4c98d6a19cac5d7b85a298572d8\", element=\"01515f6e-096c-4484-8a70-aacaad8185b1\")>,\n",
       " <selenium.webdriver.remote.webelement.WebElement (session=\"ded7c4c98d6a19cac5d7b85a298572d8\", element=\"06a1e8da-7585-4e3e-8068-b2ec5f6bb978\")>,\n",
       " <selenium.webdriver.remote.webelement.WebElement (session=\"ded7c4c98d6a19cac5d7b85a298572d8\", element=\"f5113fb4-9249-458b-97e2-90704a55f68e\")>]"
      ]
     },
     "execution_count": 98,
     "metadata": {},
     "output_type": "execute_result"
    }
   ],
   "source": [
    "price_tags=driver.find_elements_by_xpath(\"//div[@class='_30jeq3']\")\n",
    "price_tags"
   ]
  },
  {
   "cell_type": "code",
   "execution_count": 99,
   "metadata": {},
   "outputs": [
    {
     "data": {
      "text/plain": [
       "['₹1,007',\n",
       " '₹599',\n",
       " '₹198',\n",
       " '₹237',\n",
       " '₹329',\n",
       " '₹284',\n",
       " '₹237',\n",
       " '₹525',\n",
       " '₹509',\n",
       " '₹474',\n",
       " '₹758',\n",
       " '₹258',\n",
       " '₹404',\n",
       " '₹331',\n",
       " '₹215',\n",
       " '₹516',\n",
       " '₹520',\n",
       " '₹265',\n",
       " '₹186',\n",
       " '₹404',\n",
       " '₹399',\n",
       " '₹284',\n",
       " '₹202',\n",
       " '₹445',\n",
       " '₹499',\n",
       " '₹246',\n",
       " '₹237',\n",
       " '₹711',\n",
       " '₹449',\n",
       " '₹379',\n",
       " '₹399',\n",
       " '₹498',\n",
       " '₹449',\n",
       " '₹689',\n",
       " '₹499',\n",
       " '₹498',\n",
       " '₹215',\n",
       " '₹179',\n",
       " '₹257',\n",
       " '₹375']"
      ]
     },
     "execution_count": 99,
     "metadata": {},
     "output_type": "execute_result"
    }
   ],
   "source": [
    "brand_price=[]\n",
    "for i in price_tags:\n",
    "    brand_price.append(i.text)\n",
    "    \n",
    "brand_price"
   ]
  },
  {
   "cell_type": "code",
   "execution_count": 100,
   "metadata": {},
   "outputs": [
    {
     "data": {
      "text/plain": [
       "[<selenium.webdriver.remote.webelement.WebElement (session=\"ded7c4c98d6a19cac5d7b85a298572d8\", element=\"083dd0b1-7819-440f-81a3-213cf6e9d383\")>,\n",
       " <selenium.webdriver.remote.webelement.WebElement (session=\"ded7c4c98d6a19cac5d7b85a298572d8\", element=\"464f3c83-c645-49ac-b4dd-780061130a70\")>,\n",
       " <selenium.webdriver.remote.webelement.WebElement (session=\"ded7c4c98d6a19cac5d7b85a298572d8\", element=\"c282d1b5-c271-4e00-96e7-e197af94d2e5\")>,\n",
       " <selenium.webdriver.remote.webelement.WebElement (session=\"ded7c4c98d6a19cac5d7b85a298572d8\", element=\"62e016e8-ab16-456e-83d7-6bdd83dedef2\")>,\n",
       " <selenium.webdriver.remote.webelement.WebElement (session=\"ded7c4c98d6a19cac5d7b85a298572d8\", element=\"fe266c41-a600-4933-9623-34d6a43f51b4\")>,\n",
       " <selenium.webdriver.remote.webelement.WebElement (session=\"ded7c4c98d6a19cac5d7b85a298572d8\", element=\"a85e5802-7ffe-4ad0-8cff-b99e6e902c75\")>,\n",
       " <selenium.webdriver.remote.webelement.WebElement (session=\"ded7c4c98d6a19cac5d7b85a298572d8\", element=\"f924982b-5618-4a6b-aa1f-a683db08e82b\")>,\n",
       " <selenium.webdriver.remote.webelement.WebElement (session=\"ded7c4c98d6a19cac5d7b85a298572d8\", element=\"3f87b798-8b8c-4e7d-8862-b8dce2e83c35\")>,\n",
       " <selenium.webdriver.remote.webelement.WebElement (session=\"ded7c4c98d6a19cac5d7b85a298572d8\", element=\"34f7eb21-89f6-4fed-90c6-eadcc493269a\")>,\n",
       " <selenium.webdriver.remote.webelement.WebElement (session=\"ded7c4c98d6a19cac5d7b85a298572d8\", element=\"60738b06-d15c-4dec-bf9e-aca0e1e26348\")>,\n",
       " <selenium.webdriver.remote.webelement.WebElement (session=\"ded7c4c98d6a19cac5d7b85a298572d8\", element=\"71b9ae79-a8b6-4fa3-9906-c5eeabf5a16b\")>,\n",
       " <selenium.webdriver.remote.webelement.WebElement (session=\"ded7c4c98d6a19cac5d7b85a298572d8\", element=\"ccece545-8f1f-4879-aa5e-062b2e8be0c4\")>,\n",
       " <selenium.webdriver.remote.webelement.WebElement (session=\"ded7c4c98d6a19cac5d7b85a298572d8\", element=\"d1e0a2d4-a06c-4c22-bb4b-ce8fed07a8d6\")>,\n",
       " <selenium.webdriver.remote.webelement.WebElement (session=\"ded7c4c98d6a19cac5d7b85a298572d8\", element=\"05fdc012-feb9-4177-ac4f-955349936b69\")>,\n",
       " <selenium.webdriver.remote.webelement.WebElement (session=\"ded7c4c98d6a19cac5d7b85a298572d8\", element=\"1824463f-b3c1-4062-9b45-960fd4fb64f2\")>,\n",
       " <selenium.webdriver.remote.webelement.WebElement (session=\"ded7c4c98d6a19cac5d7b85a298572d8\", element=\"2eed010b-12fe-4b66-9e88-c29ad1f2b2f4\")>,\n",
       " <selenium.webdriver.remote.webelement.WebElement (session=\"ded7c4c98d6a19cac5d7b85a298572d8\", element=\"788cfd17-9a88-4b72-a728-3c09ae58fead\")>,\n",
       " <selenium.webdriver.remote.webelement.WebElement (session=\"ded7c4c98d6a19cac5d7b85a298572d8\", element=\"35686dc1-4908-4bc5-a7f6-cc851c390b42\")>,\n",
       " <selenium.webdriver.remote.webelement.WebElement (session=\"ded7c4c98d6a19cac5d7b85a298572d8\", element=\"a90d0f0a-0aeb-4271-85c5-7f4d8e0549c2\")>,\n",
       " <selenium.webdriver.remote.webelement.WebElement (session=\"ded7c4c98d6a19cac5d7b85a298572d8\", element=\"65bd5a1b-c52b-4cf9-897a-1664a0e05eae\")>,\n",
       " <selenium.webdriver.remote.webelement.WebElement (session=\"ded7c4c98d6a19cac5d7b85a298572d8\", element=\"9176fdb0-426f-4397-9a6b-28628b02185b\")>,\n",
       " <selenium.webdriver.remote.webelement.WebElement (session=\"ded7c4c98d6a19cac5d7b85a298572d8\", element=\"39671503-ef04-4986-b5b6-74d994ec89b7\")>,\n",
       " <selenium.webdriver.remote.webelement.WebElement (session=\"ded7c4c98d6a19cac5d7b85a298572d8\", element=\"ba46b25a-5f6d-40ba-b951-a0506e373edb\")>,\n",
       " <selenium.webdriver.remote.webelement.WebElement (session=\"ded7c4c98d6a19cac5d7b85a298572d8\", element=\"6ff98300-bf75-4dcd-9526-21ce0888f11d\")>,\n",
       " <selenium.webdriver.remote.webelement.WebElement (session=\"ded7c4c98d6a19cac5d7b85a298572d8\", element=\"ebfecd12-4f80-4733-a25e-0926bb18a62b\")>,\n",
       " <selenium.webdriver.remote.webelement.WebElement (session=\"ded7c4c98d6a19cac5d7b85a298572d8\", element=\"d1d16f37-025b-46c1-a8eb-34a582e7202e\")>,\n",
       " <selenium.webdriver.remote.webelement.WebElement (session=\"ded7c4c98d6a19cac5d7b85a298572d8\", element=\"047c531d-afa7-44a1-8250-3f62c1273231\")>,\n",
       " <selenium.webdriver.remote.webelement.WebElement (session=\"ded7c4c98d6a19cac5d7b85a298572d8\", element=\"e6845bd5-cd86-4461-9be6-5a8dbb3d63aa\")>,\n",
       " <selenium.webdriver.remote.webelement.WebElement (session=\"ded7c4c98d6a19cac5d7b85a298572d8\", element=\"421c4658-5ed8-42a2-be44-6c937834563b\")>,\n",
       " <selenium.webdriver.remote.webelement.WebElement (session=\"ded7c4c98d6a19cac5d7b85a298572d8\", element=\"c37eeea0-cdac-4084-a782-5924ca0db693\")>,\n",
       " <selenium.webdriver.remote.webelement.WebElement (session=\"ded7c4c98d6a19cac5d7b85a298572d8\", element=\"b77ef0b2-8813-4fd6-b539-11493e7ae37d\")>,\n",
       " <selenium.webdriver.remote.webelement.WebElement (session=\"ded7c4c98d6a19cac5d7b85a298572d8\", element=\"e47652b7-d569-4d92-ae2d-d8e167c432af\")>,\n",
       " <selenium.webdriver.remote.webelement.WebElement (session=\"ded7c4c98d6a19cac5d7b85a298572d8\", element=\"61748fd7-ac8c-41fa-b492-994246fe948f\")>,\n",
       " <selenium.webdriver.remote.webelement.WebElement (session=\"ded7c4c98d6a19cac5d7b85a298572d8\", element=\"1d2b749a-764b-4f15-a7ec-84c0cedd93f5\")>,\n",
       " <selenium.webdriver.remote.webelement.WebElement (session=\"ded7c4c98d6a19cac5d7b85a298572d8\", element=\"0d4393d3-0d17-4648-b57b-51691a726ea2\")>,\n",
       " <selenium.webdriver.remote.webelement.WebElement (session=\"ded7c4c98d6a19cac5d7b85a298572d8\", element=\"451ffb9d-0069-4bf9-9eac-56bd8ef26ccf\")>,\n",
       " <selenium.webdriver.remote.webelement.WebElement (session=\"ded7c4c98d6a19cac5d7b85a298572d8\", element=\"37429c6b-08fe-4559-989e-f29c679a94d7\")>,\n",
       " <selenium.webdriver.remote.webelement.WebElement (session=\"ded7c4c98d6a19cac5d7b85a298572d8\", element=\"788958b2-c875-4ede-9567-8a22f5b50e3f\")>,\n",
       " <selenium.webdriver.remote.webelement.WebElement (session=\"ded7c4c98d6a19cac5d7b85a298572d8\", element=\"cb4b0639-824a-4fc5-99d2-2c75e26a1f34\")>,\n",
       " <selenium.webdriver.remote.webelement.WebElement (session=\"ded7c4c98d6a19cac5d7b85a298572d8\", element=\"dbece2ed-0201-471d-87db-b1097df8d7af\")>]"
      ]
     },
     "execution_count": 100,
     "metadata": {},
     "output_type": "execute_result"
    }
   ],
   "source": [
    "images_tags=driver.find_elements_by_xpath(\"//img[@class='_2r_T1I']\")\n",
    "images_tags"
   ]
  },
  {
   "cell_type": "code",
   "execution_count": 101,
   "metadata": {},
   "outputs": [
    {
     "data": {
      "text/plain": [
       "['https://rukminim1.flixcart.com/image/329/395/kh3qkcw0-0/sunglass/n/v/j/60-wr7003c3-wrogn-original-imafx7ybbg6hsjug.jpeg?q=50',\n",
       " 'https://rukminim1.flixcart.com/image/329/395/kpft18w0/sunglass/k/q/s/one-size-wingman-bottle-opener-sunglasses-villain-original-imag3z5j82gkrmzz.jpeg?q=50',\n",
       " 'https://rukminim1.flixcart.com/image/329/395/ki0loy80-0/sunglass/t/7/i/medium-white01-like-future-original-imafxwg6dfrfae9n.jpeg?q=50',\n",
       " 'https://rukminim1.flixcart.com/image/329/395/kelptow0-0/sunglass/n/9/6/3077-black-v-s-black-m-piraso-original-imafv8xzcygwmafq.jpeg?q=50',\n",
       " 'https://rukminim1.flixcart.com/image/329/395/k7dnonk0/sunglass/c/d/b/medium-ro-dc001-elligator-original-imafpmy5rurzjutm.jpeg?q=50',\n",
       " 'https://rukminim1.flixcart.com/image/329/395/ko62xzk0/sunglass/i/x/j/medium-wayfarer-5-kingsunglasses-original-imag2zy9vghannhh.jpeg?q=50',\n",
       " 'https://rukminim1.flixcart.com/image/329/395/k6mibgw0/sunglass/w/s/v/free-size-3077-green-lens-piraso-original-imafpfgyyugpckvm.jpeg?q=50',\n",
       " 'https://rukminim1.flixcart.com/image/329/395/k9u8zgw0/sunglass/t/k/s/m-as-8822-89-14539-aislin-original-imafrgy9f3upugqf.jpeg?q=50',\n",
       " 'https://rukminim1.flixcart.com/image/329/395/kgtqhe80-0/sunglass/1/s/c/p448gr1t-m-fastrack-original-imafwz5epdsgebq8.jpeg?q=50',\n",
       " 'https://rukminim1.flixcart.com/image/329/395/k65d18w0/sunglass/x/3/h/m-rs0038av-royal-son-original-imafzzdm2vh2rgyp.jpeg?q=50',\n",
       " 'https://rukminim1.flixcart.com/image/329/395/jmqmpow0-1/sunglass/t/2/w/one-size-fits-all-p429gr3-fastrack-original-imaf9kx9fuceyggz.jpeg?q=50',\n",
       " 'https://rukminim1.flixcart.com/image/329/395/k0vbgy80/sunglass/r/b/e/m-nw-av-c3-51210-nuvew-original-imafkk5jkg5qk9n3.jpeg?q=50',\n",
       " 'https://rukminim1.flixcart.com/image/329/395/kbpeoi80/sunglass/f/k/s/m-iron-man-tony-stark-avengers-infinity-war-endgame-unisex-original-imafszt2pg5t4kfw.jpeg?q=50',\n",
       " 'https://rukminim1.flixcart.com/image/329/395/kb1470w0/sunglass/n/m/c/medium-combo-six-mono-shah-collections-original-imafsh59hjfzmsxt.jpeg?q=50',\n",
       " 'https://rukminim1.flixcart.com/image/329/395/ki0loy80-0/sunglass/u/y/h/medium-white01-like-future-original-imafxwfz9cd4s9hm.jpeg?q=50',\n",
       " 'https://rukminim1.flixcart.com/image/329/395/k9stjm80/sunglass/d/t/m/m-as-18004-89-14578-aislin-original-imafrguzukyvf6pw.jpeg?q=50',\n",
       " 'https://rukminim1.flixcart.com/image/329/395/jpvihzk0/sunglass/e/r/z/free-size-nbp358bk2-fastrack-original-imafcyh552twc4xg.jpeg?q=50',\n",
       " 'https://rukminim1.flixcart.com/image/329/395/kp78e4w0/sunglass/o/9/a/medium-combo-3-lv-like-future-original-imag3gwfqh4g5mka.jpeg?q=50',\n",
       " 'https://rukminim1.flixcart.com/image/329/395/k0r15e80/sunglass/y/k/z/m-nw-3025c-22-15403-nuvew-original-imafkhh2hmrhyzfr.jpeg?q=50',\n",
       " 'https://rukminim1.flixcart.com/image/329/395/klgx0280/sunglass/y/v/c/m-kendall-unisex-narrow-square-frame-uv400-protection-rozzetta-original-imagykh9xuyg6upk.jpeg?q=50',\n",
       " 'https://rukminim1.flixcart.com/image/329/395/ke5zzbk0-0/sunglass/n/c/j/kabirsingh-combo-022-m-phenomenal-original-imafuwzasgfkrbsh.jpeg?q=50',\n",
       " 'https://rukminim1.flixcart.com/image/329/395/ko62xzk0/sunglass/h/m/w/medium-wayfarer-5-kingsunglasses-original-imag2zy2yzvhbqkj.jpeg?q=50',\n",
       " 'https://rukminim1.flixcart.com/image/329/395/jd3epow0/sunglass/a/c/v/combo-wf03-av01-m-deixels-original-imaf2yz397hdfdxp.jpeg?q=50',\n",
       " 'https://rukminim1.flixcart.com/image/329/395/k9stjm80/sunglass/3/e/g/m-as-8822-89-14536-aislin-original-imafrguzqhurvda6.jpeg?q=50',\n",
       " 'https://rukminim1.flixcart.com/image/329/395/k5fn3ww0/sunglass/2/n/w/m-4028-ivy-vacker-original-imafz27hdfqwy7yu.jpeg?q=50',\n",
       " 'https://rukminim1.flixcart.com/image/329/395/km0x5zk0/sunglass/8/y/y/m-wc35-silver-kartz-original-imagfyn8pddz6sss.jpeg?q=50',\n",
       " 'https://rukminim1.flixcart.com/image/329/395/kgcl7680-0/sunglass/w/q/l/3077-black-lens-m-piraso-original-imafwhwmyfqgkmbm.jpeg?q=50',\n",
       " 'https://rukminim1.flixcart.com/image/329/395/k612pow0/sunglass/h/u/g/s-chi0082-c1-royal-son-original-imafzjzfsxvuzgpt.jpeg?q=50',\n",
       " 'https://rukminim1.flixcart.com/image/329/395/kh5607k0-0/sunglass/z/x/a/m-iron-man-tony-stark-avengers-infinity-war-endgame-unisex-original-imafx84mqrqc72xx.jpeg?q=50',\n",
       " 'https://rukminim1.flixcart.com/image/329/395/jx7uykw0/sunglass/t/j/t/m-rs006av-royal-son-original-imafeb2yvwwnbrpg.jpeg?q=50',\n",
       " 'https://rukminim1.flixcart.com/image/329/395/kbqu4cw0/sunglass/f/q/s/m-4494-black-gold-piraso-original-imaftyy5gngzhez4.jpeg?q=50',\n",
       " 'https://rukminim1.flixcart.com/image/329/395/k9u8zgw0/sunglass/e/n/y/m-as-18004-89-14577-aislin-original-imafrgy9hs6mkkak.jpeg?q=50',\n",
       " 'https://rukminim1.flixcart.com/image/329/395/klmmrgw0/sunglass/k/m/y/over-size-blue-black-vcb4-piraso-original-imagypzwqtsgbhh7.jpeg?q=50',\n",
       " 'https://rukminim1.flixcart.com/image/329/395/jnkmykw0/sunglass/y/v/y/p429bu4-one-size-fits-all-fastrack-original-imafa8fgbc2ec6pd.jpeg?q=50',\n",
       " 'https://rukminim1.flixcart.com/image/329/395/k12go7k0/sunglass/y/f/y/m-p448bk3t-fastrack-original-imafjsjcrwgfwea8.jpeg?q=50',\n",
       " 'https://rukminim1.flixcart.com/image/329/395/k9u8zgw0/sunglass/j/p/p/l-as-9231-89-14558-aislin-original-imafrgy9cdzyvnct.jpeg?q=50',\n",
       " 'https://rukminim1.flixcart.com/image/329/395/kdxfc7k0-0/sunglass/s/j/i/hq-s-black-r-46-shade-house-original-imafrhm6p3vdyayf.jpeg?q=50',\n",
       " 'https://rukminim1.flixcart.com/image/329/395/kkbh8cw0/sunglass/6/e/0/large-58-ap-sunglasses-42-amour-propre-original-imafzzsh4f8hwehh.jpeg?q=50',\n",
       " 'https://rukminim1.flixcart.com/image/329/395/k2f1n680/sunglass/k/n/g/55-wayf-new-3-hippon-original-imafhry2zrbeg3pe.jpeg?q=50',\n",
       " 'https://rukminim1.flixcart.com/image/329/395/k0sgl8w0/sunglass/n/2/g/l-nw-nvpol-32-16029-nuvew-original-imafkgmgsagyyvmh.jpeg?q=50']"
      ]
     },
     "execution_count": 101,
     "metadata": {},
     "output_type": "execute_result"
    }
   ],
   "source": [
    "brand_images=[]\n",
    "for i in images_tags:\n",
    "    brand_images.append(i.get_attribute('src'))\n",
    "    \n",
    "brand_images"
   ]
  },
  {
   "cell_type": "code",
   "execution_count": 102,
   "metadata": {},
   "outputs": [],
   "source": [
    "next_btn=driver.find_element_by_xpath(\"//a[@class='_1LKTO3']\")\n",
    "next_btn.click()"
   ]
  },
  {
   "cell_type": "code",
   "execution_count": 103,
   "metadata": {},
   "outputs": [
    {
     "data": {
      "text/plain": [
       "[<selenium.webdriver.remote.webelement.WebElement (session=\"ded7c4c98d6a19cac5d7b85a298572d8\", element=\"8f38ede4-1dc1-455f-a732-e40becb8629d\")>,\n",
       " <selenium.webdriver.remote.webelement.WebElement (session=\"ded7c4c98d6a19cac5d7b85a298572d8\", element=\"25a183f0-bb2a-4b6a-9ee4-d515cfae7834\")>,\n",
       " <selenium.webdriver.remote.webelement.WebElement (session=\"ded7c4c98d6a19cac5d7b85a298572d8\", element=\"f749e307-2273-42a5-adde-d3498207263b\")>,\n",
       " <selenium.webdriver.remote.webelement.WebElement (session=\"ded7c4c98d6a19cac5d7b85a298572d8\", element=\"1a0a1dc3-b4fc-441b-8603-9e0dd1fe2429\")>,\n",
       " <selenium.webdriver.remote.webelement.WebElement (session=\"ded7c4c98d6a19cac5d7b85a298572d8\", element=\"0b49004d-8286-43af-9e7e-6d0bfed73b33\")>,\n",
       " <selenium.webdriver.remote.webelement.WebElement (session=\"ded7c4c98d6a19cac5d7b85a298572d8\", element=\"f5179851-090e-4f15-a363-a2f717feadea\")>,\n",
       " <selenium.webdriver.remote.webelement.WebElement (session=\"ded7c4c98d6a19cac5d7b85a298572d8\", element=\"293ee3ff-24fc-4ea5-b9be-bf546d09d1f2\")>,\n",
       " <selenium.webdriver.remote.webelement.WebElement (session=\"ded7c4c98d6a19cac5d7b85a298572d8\", element=\"feaf21d0-b095-4d81-9057-66d3e67bffcc\")>,\n",
       " <selenium.webdriver.remote.webelement.WebElement (session=\"ded7c4c98d6a19cac5d7b85a298572d8\", element=\"0a2df043-c08b-4ecb-b236-5c0b078440d8\")>,\n",
       " <selenium.webdriver.remote.webelement.WebElement (session=\"ded7c4c98d6a19cac5d7b85a298572d8\", element=\"5180c093-2de9-4baa-80b5-0ccae1e065ef\")>,\n",
       " <selenium.webdriver.remote.webelement.WebElement (session=\"ded7c4c98d6a19cac5d7b85a298572d8\", element=\"53a48e2a-b599-4ba9-a0c9-cf6cb07c57ff\")>,\n",
       " <selenium.webdriver.remote.webelement.WebElement (session=\"ded7c4c98d6a19cac5d7b85a298572d8\", element=\"89b480e9-6698-4d19-a758-9f5e5353d478\")>,\n",
       " <selenium.webdriver.remote.webelement.WebElement (session=\"ded7c4c98d6a19cac5d7b85a298572d8\", element=\"c3d4d6dc-a766-43e8-91cd-3e9123a2dfd6\")>,\n",
       " <selenium.webdriver.remote.webelement.WebElement (session=\"ded7c4c98d6a19cac5d7b85a298572d8\", element=\"1bceebc1-454b-40fe-b13b-f6a36a8391f7\")>,\n",
       " <selenium.webdriver.remote.webelement.WebElement (session=\"ded7c4c98d6a19cac5d7b85a298572d8\", element=\"5f402d1a-4838-46fb-b85e-91ba29827799\")>,\n",
       " <selenium.webdriver.remote.webelement.WebElement (session=\"ded7c4c98d6a19cac5d7b85a298572d8\", element=\"b7635bb7-c97f-41db-89f1-f2b99351b793\")>,\n",
       " <selenium.webdriver.remote.webelement.WebElement (session=\"ded7c4c98d6a19cac5d7b85a298572d8\", element=\"ded74818-8c41-4580-8884-7f80319d812e\")>,\n",
       " <selenium.webdriver.remote.webelement.WebElement (session=\"ded7c4c98d6a19cac5d7b85a298572d8\", element=\"5ab0e4f5-af61-408d-9d05-6796991a0945\")>,\n",
       " <selenium.webdriver.remote.webelement.WebElement (session=\"ded7c4c98d6a19cac5d7b85a298572d8\", element=\"9677efe2-365a-47d7-8b64-2a04080f0485\")>,\n",
       " <selenium.webdriver.remote.webelement.WebElement (session=\"ded7c4c98d6a19cac5d7b85a298572d8\", element=\"e44e06dd-c77e-4cdf-b451-86cac6b71cb8\")>,\n",
       " <selenium.webdriver.remote.webelement.WebElement (session=\"ded7c4c98d6a19cac5d7b85a298572d8\", element=\"f68a08c0-c728-4efc-8a68-da0b56a966e4\")>,\n",
       " <selenium.webdriver.remote.webelement.WebElement (session=\"ded7c4c98d6a19cac5d7b85a298572d8\", element=\"9aef53da-cb6e-4400-a0be-59a48ae4e49e\")>,\n",
       " <selenium.webdriver.remote.webelement.WebElement (session=\"ded7c4c98d6a19cac5d7b85a298572d8\", element=\"15b9d9f0-99f4-440f-b69a-22dd496301a9\")>,\n",
       " <selenium.webdriver.remote.webelement.WebElement (session=\"ded7c4c98d6a19cac5d7b85a298572d8\", element=\"5f2b9e90-f6f4-468f-b7ae-426c52c1a56e\")>,\n",
       " <selenium.webdriver.remote.webelement.WebElement (session=\"ded7c4c98d6a19cac5d7b85a298572d8\", element=\"f49ae2a2-211e-49e5-949f-7a840f864979\")>,\n",
       " <selenium.webdriver.remote.webelement.WebElement (session=\"ded7c4c98d6a19cac5d7b85a298572d8\", element=\"4715f112-09ce-4d44-8585-5d219cd73371\")>,\n",
       " <selenium.webdriver.remote.webelement.WebElement (session=\"ded7c4c98d6a19cac5d7b85a298572d8\", element=\"134add41-dff9-4af4-9f70-00be87520609\")>,\n",
       " <selenium.webdriver.remote.webelement.WebElement (session=\"ded7c4c98d6a19cac5d7b85a298572d8\", element=\"f887e098-8f60-4097-b34b-36f67b922dea\")>,\n",
       " <selenium.webdriver.remote.webelement.WebElement (session=\"ded7c4c98d6a19cac5d7b85a298572d8\", element=\"af3fc9b2-a4c6-445e-a169-ca3738513098\")>,\n",
       " <selenium.webdriver.remote.webelement.WebElement (session=\"ded7c4c98d6a19cac5d7b85a298572d8\", element=\"52cb262c-28f6-4ebf-b4d1-f5c0f38fc727\")>,\n",
       " <selenium.webdriver.remote.webelement.WebElement (session=\"ded7c4c98d6a19cac5d7b85a298572d8\", element=\"c213227a-8387-4ea4-ad17-b62ffad30e75\")>,\n",
       " <selenium.webdriver.remote.webelement.WebElement (session=\"ded7c4c98d6a19cac5d7b85a298572d8\", element=\"2501c25b-bcf4-487f-9d99-674216b309b1\")>,\n",
       " <selenium.webdriver.remote.webelement.WebElement (session=\"ded7c4c98d6a19cac5d7b85a298572d8\", element=\"0a18e7ab-548c-439c-8e4d-ebc9e8c13d7d\")>,\n",
       " <selenium.webdriver.remote.webelement.WebElement (session=\"ded7c4c98d6a19cac5d7b85a298572d8\", element=\"e7bc0bf7-9926-46b4-9dce-104e449e3bc2\")>,\n",
       " <selenium.webdriver.remote.webelement.WebElement (session=\"ded7c4c98d6a19cac5d7b85a298572d8\", element=\"5b6af6e9-2bd5-40b6-a6c6-976a6a3044d3\")>,\n",
       " <selenium.webdriver.remote.webelement.WebElement (session=\"ded7c4c98d6a19cac5d7b85a298572d8\", element=\"546c32e6-de1b-4d3e-aa22-21edbe6de182\")>,\n",
       " <selenium.webdriver.remote.webelement.WebElement (session=\"ded7c4c98d6a19cac5d7b85a298572d8\", element=\"306b378d-277d-44bc-862e-3f79279f9680\")>,\n",
       " <selenium.webdriver.remote.webelement.WebElement (session=\"ded7c4c98d6a19cac5d7b85a298572d8\", element=\"ce442090-6832-41f5-b254-d1f14833deed\")>,\n",
       " <selenium.webdriver.remote.webelement.WebElement (session=\"ded7c4c98d6a19cac5d7b85a298572d8\", element=\"56c3ba05-d881-44cc-8cfc-ff55e46a2de2\")>,\n",
       " <selenium.webdriver.remote.webelement.WebElement (session=\"ded7c4c98d6a19cac5d7b85a298572d8\", element=\"69b8954b-0fb5-4886-8cf6-2ab28fdef1a4\")>]"
      ]
     },
     "execution_count": 103,
     "metadata": {},
     "output_type": "execute_result"
    }
   ],
   "source": [
    "brand_tags_second=driver.find_elements_by_xpath(\"//div[@class='_2WkVRV']\")\n",
    "brand_tags_second"
   ]
  },
  {
   "cell_type": "code",
   "execution_count": 104,
   "metadata": {},
   "outputs": [
    {
     "data": {
      "text/plain": [
       "['Elligator',\n",
       " 'GANSTA',\n",
       " 'kingsunglasses',\n",
       " 'AISLIN',\n",
       " 'SUNBEE',\n",
       " 'kingsunglasses',\n",
       " 'Elligator',\n",
       " 'WROGN',\n",
       " 'hipe',\n",
       " 'kingsunglasses',\n",
       " 'kingsunglasses',\n",
       " 'Villain',\n",
       " 'Elligator',\n",
       " 'kingsunglasses',\n",
       " 'hipe',\n",
       " 'NuVew',\n",
       " 'PHENOMENAL',\n",
       " 'SUNBEE',\n",
       " 'ROYAL SON',\n",
       " 'ROZZETTA CRAFT',\n",
       " 'Fastrack',\n",
       " 'Elligator',\n",
       " 'Fastrack',\n",
       " 'AISLIN',\n",
       " 'PIRASO',\n",
       " 'Singco',\n",
       " 'ROYAL SON',\n",
       " 'AISLIN',\n",
       " 'SRPM',\n",
       " 'NuVew',\n",
       " 'Silver Kartz',\n",
       " 'AISLIN',\n",
       " 'PHENOMENAL',\n",
       " 'Singco India',\n",
       " 'DEIXELS',\n",
       " 'ROYAL SON',\n",
       " 'povty',\n",
       " 'GANSTA',\n",
       " 'AISLIN',\n",
       " 'AISLIN']"
      ]
     },
     "execution_count": 104,
     "metadata": {},
     "output_type": "execute_result"
    }
   ],
   "source": [
    "brand_names_second=[]\n",
    "for i in brand_tags_second:\n",
    "    brand_names_second.append(i.text)\n",
    "    \n",
    "brand_names_second"
   ]
  },
  {
   "cell_type": "code",
   "execution_count": 105,
   "metadata": {},
   "outputs": [
    {
     "data": {
      "text/plain": [
       "['Mirrored Round Sunglasses (53)',\n",
       " 'UV Protection, Night Vision, Riding Glasses Aviator Sun...',\n",
       " 'UV Protection Round Sunglasses (Free Size)',\n",
       " 'UV Protection, Gradient Wayfarer, Clubmaster Sunglasses...',\n",
       " 'UV Protection, Polarized, Mirrored Wayfarer Sunglasses ...',\n",
       " 'UV Protection Rectangular Sunglasses (55)',\n",
       " 'UV Protection, Riding Glasses Rectangular, Retro Square...',\n",
       " 'UV Protection Aviator Sunglasses (60)',\n",
       " 'UV Protection, Night Vision, Riding Glasses, Gradient, ...',\n",
       " 'UV Protection, Mirrored Round Sunglasses (Free Size)',\n",
       " 'UV Protection Rectangular Sunglasses (Free Size)',\n",
       " 'Others Wayfarer Sunglasses (Free Size)',\n",
       " 'UV Protection Round Sunglasses (55)',\n",
       " 'UV Protection, Mirrored Round Sunglasses (54)',\n",
       " 'UV Protection, Night Vision, Gradient, Mirrored Round, ...',\n",
       " 'UV Protection Aviator Sunglasses (57)',\n",
       " 'UV Protection Round Sunglasses (53)',\n",
       " 'UV Protection, Polarized, Mirrored Wayfarer Sunglasses ...',\n",
       " 'UV Protection Retro Square Sunglasses (58)',\n",
       " 'UV Protection, Gradient Retro Square Sunglasses (Free S...',\n",
       " 'UV Protection Aviator Sunglasses (Free Size)',\n",
       " 'UV Protection, Riding Glasses Rectangular, Retro Square...',\n",
       " 'UV Protection Aviator Sunglasses (58)',\n",
       " 'UV Protection, Gradient Wayfarer, Clubmaster Sunglasses...',\n",
       " 'UV Protection Aviator Sunglasses (Free Size)',\n",
       " 'Mirrored Aviator Sunglasses (53)',\n",
       " 'UV Protection Retro Square Sunglasses (88)',\n",
       " 'UV Protection, Gradient Butterfly, Retro Square Sunglas...',\n",
       " 'UV Protection Wayfarer Sunglasses (53)',\n",
       " 'UV Protection Aviator Sunglasses (58)',\n",
       " 'UV Protection Oval Sunglasses (56)',\n",
       " 'UV Protection, Gradient Round, Cat-eye Sunglasses (60)',\n",
       " 'UV Protection Clubmaster Sunglasses (Free Size)',\n",
       " 'Riding Glasses, Others, UV Protection Wrap-around Sungl...',\n",
       " 'Polarized, UV Protection, Riding Glasses Wayfarer Sungl...',\n",
       " 'Polarized, UV Protection Aviator Sunglasses (58)',\n",
       " 'UV Protection Wayfarer Sunglasses (Free Size)',\n",
       " 'UV Protection, Gradient Aviator Sunglasses (55)',\n",
       " 'UV Protection, Gradient Cat-eye Sunglasses (61)',\n",
       " 'UV Protection, Gradient Wayfarer Sunglasses (57)']"
      ]
     },
     "execution_count": 105,
     "metadata": {},
     "output_type": "execute_result"
    }
   ],
   "source": [
    "brand_desc_secound=[]\n",
    "for i in driver.find_elements_by_xpath(\"//a[@class='IRpwTa']\"):\n",
    "    brand_desc_secound.append(i.text)\n",
    "    \n",
    "brand_desc_secound"
   ]
  },
  {
   "cell_type": "code",
   "execution_count": 106,
   "metadata": {},
   "outputs": [
    {
     "data": {
      "text/plain": [
       "['₹355',\n",
       " '₹295',\n",
       " '₹331',\n",
       " '₹525',\n",
       " '₹284',\n",
       " '₹199',\n",
       " '₹443',\n",
       " '₹1,007',\n",
       " '₹210',\n",
       " '₹274',\n",
       " '₹197',\n",
       " '₹599',\n",
       " '₹266',\n",
       " '₹236',\n",
       " '₹210',\n",
       " '₹258',\n",
       " '₹295',\n",
       " '₹314',\n",
       " '₹474',\n",
       " '₹404',\n",
       " '₹695',\n",
       " '₹443',\n",
       " '₹1,085',\n",
       " '₹445',\n",
       " '₹331',\n",
       " '₹239',\n",
       " '₹569',\n",
       " '₹498',\n",
       " '₹230',\n",
       " '₹202',\n",
       " '₹284',\n",
       " '₹498',\n",
       " '₹319',\n",
       " '₹293',\n",
       " '₹236',\n",
       " '₹711',\n",
       " '₹349',\n",
       " '₹289',\n",
       " '₹498',\n",
       " '₹625']"
      ]
     },
     "execution_count": 106,
     "metadata": {},
     "output_type": "execute_result"
    }
   ],
   "source": [
    "brand_prices_second=[]\n",
    "for i in driver.find_elements_by_xpath(\"//div[@class='_30jeq3']\"):\n",
    "    brand_prices_second.append(i.text)\n",
    "    \n",
    "brand_prices_second"
   ]
  },
  {
   "cell_type": "code",
   "execution_count": 107,
   "metadata": {},
   "outputs": [
    {
     "data": {
      "text/plain": [
       "['https://rukminim1.flixcart.com/image/329/395/jpu324w0/sunglass/y/e/y/free-size-mr-027-elligator-original-imafbttdydnvpn2g.jpeg?q=50',\n",
       " 'https://rukminim1.flixcart.com/image/329/395/kazor680/sunglass/a/m/n/m-gn-3002-sil-yel-gn-3002-sil-clr-gansta-original-imafsg69g7fwhnep.jpeg?q=50',\n",
       " 'https://rukminim1.flixcart.com/image/329/395/kb1470w0/sunglass/a/1/n/medium-combo-six-mono-shah-collections-original-imafsh5ynyzjhbxa.jpeg?q=50',\n",
       " 'https://rukminim1.flixcart.com/image/329/395/k9u8zgw0/sunglass/t/k/s/m-as-8822-89-14539-aislin-original-imafrgy9f3upugqf.jpeg?q=50',\n",
       " 'https://rukminim1.flixcart.com/image/329/395/kn7sdjk0/sunglass/f/y/h/medium-waycombo-like-future-original-imagfy2ujbtdmgeu.jpeg?q=50',\n",
       " 'https://rukminim1.flixcart.com/image/329/395/kkr72q80/sunglass/c/f/f/small-medium-lv-new-2-kingsunglasses-original-imagyfgzwydweure.jpeg?q=50',\n",
       " 'https://rukminim1.flixcart.com/image/329/395/kiulxu80-0/sunglass/s/x/2/kbds-023-medium-elligator-original-imafyjyxke2hxyz6.jpeg?q=50',\n",
       " 'https://rukminim1.flixcart.com/image/329/395/kh3qkcw0-0/sunglass/n/v/j/60-wr7003c3-wrogn-original-imafx7ybbg6hsjug.jpeg?q=50',\n",
       " 'https://rukminim1.flixcart.com/image/329/395/k62i5jk0/sunglass/f/f/u/55-9095-r-y-hipe-original-imafzhtppqg7ha6s.jpeg?q=50',\n",
       " 'https://rukminim1.flixcart.com/image/329/395/kp78e4w0/sunglass/u/9/8/medium-ganmon3-kingsunglasses-original-imag3hqzxuzfqpwa.jpeg?q=50',\n",
       " 'https://rukminim1.flixcart.com/image/329/395/ki0loy80-0/sunglass/t/7/i/medium-white01-like-future-original-imafxwg6dfrfae9n.jpeg?q=50',\n",
       " 'https://rukminim1.flixcart.com/image/329/395/kpft18w0/sunglass/k/q/s/one-size-wingman-bottle-opener-sunglasses-villain-original-imag3z5j82gkrmzz.jpeg?q=50',\n",
       " 'https://rukminim1.flixcart.com/image/329/395/jpu324w0/sunglass/t/m/v/free-size-mr-026-elligator-original-imafbtta6mp9hsuc.jpeg?q=50',\n",
       " 'https://rukminim1.flixcart.com/image/329/395/kc7zekw0/sunglass/a/z/8/free-size-ganmon-3-new-specs-original-imafcgn3dqszgs9x.jpeg?q=50',\n",
       " 'https://rukminim1.flixcart.com/image/329/395/kgwld3k0-0/sunglass/g/n/u/bay-round-sunglasses-baby-sunglasses-hipe-original-imafxfhyvaq7wuye.jpeg?q=50',\n",
       " 'https://rukminim1.flixcart.com/image/329/395/k0vbgy80/sunglass/r/b/e/m-nw-av-c3-51210-nuvew-original-imafkk5jkg5qk9n3.jpeg?q=50',\n",
       " 'https://rukminim1.flixcart.com/image/329/395/k4bms280/sunglass/a/z/d/m-round-blue-silvblk-silvr-goldnvyllw-goldred-sg-phenomenal-original-imafn8jhuktgqd7c.jpeg?q=50',\n",
       " 'https://rukminim1.flixcart.com/image/329/395/kp4difk0/sunglass/k/2/l/medium-waycombosix-like-future-original-imag3fhsjuth8wdh.jpeg?q=50',\n",
       " 'https://rukminim1.flixcart.com/image/329/395/k65d18w0/sunglass/y/z/d/m-rs0039av-royal-son-original-imafzzdmrtmzdd7m.jpeg?q=50',\n",
       " 'https://rukminim1.flixcart.com/image/329/395/klgx0280/sunglass/y/v/c/m-kendall-unisex-narrow-square-frame-uv400-protection-rozzetta-original-imagykh9xuyg6upk.jpeg?q=50',\n",
       " 'https://rukminim1.flixcart.com/image/329/395/jpa2w7k0/sunglass/u/b/c/free-size-p358bk2-fastrack-original-imafbjvf4kyfckcr.jpeg?q=50',\n",
       " 'https://rukminim1.flixcart.com/image/329/395/kiulxu80-0/sunglass/l/7/w/kbds-022-medium-elligator-original-imafykyqageb5xk5.jpeg?q=50',\n",
       " 'https://rukminim1.flixcart.com/image/329/395/k0zlsi80/sunglass/g/g/g/l-m242bk2t-fastrack-original-imafkz5mzkkdhv72.jpeg?q=50',\n",
       " 'https://rukminim1.flixcart.com/image/329/395/k9stjm80/sunglass/3/e/g/m-as-8822-89-14536-aislin-original-imafrguzqhurvda6.jpeg?q=50',\n",
       " 'https://rukminim1.flixcart.com/image/329/395/k5vcya80/sunglass/g/r/p/m-3026-gold-black-b-piraso-original-imafzggcnn5urwcw.jpeg?q=50',\n",
       " 'https://rukminim1.flixcart.com/image/329/395/jle1qq80/sunglass/b/s/w/90041000-normal-singco-original-imaf8j65z99ywypw.jpeg?q=50',\n",
       " 'https://rukminim1.flixcart.com/image/329/395/k4rcmfk0/sunglass/r/6/v/medium-tony-stark-royal-son-original-imafng5jhgyhntge.jpeg?q=50',\n",
       " 'https://rukminim1.flixcart.com/image/329/395/k9u8zgw0/sunglass/e/n/y/m-as-18004-89-14577-aislin-original-imafrgy9hs6mkkak.jpeg?q=50',\n",
       " 'https://rukminim1.flixcart.com/image/329/395/jy90eq80/sunglass/p/c/z/free-size-av0333-srpm-original-imafgj6trtbjauzw.jpeg?q=50',\n",
       " 'https://rukminim1.flixcart.com/image/329/395/k0wqwsw0/sunglass/m/y/u/m-nw-av-c2-51347-nuvew-original-imafkh8rwxp4mg6g.jpeg?q=50',\n",
       " 'https://rukminim1.flixcart.com/image/329/395/jzygccw0/sunglass/a/n/c/medium-latest-green-lens-aviator-silver-kartz-original-imafjtkvgv8p8wsu.jpeg?q=50',\n",
       " 'https://rukminim1.flixcart.com/image/329/395/k9u8zgw0/sunglass/j/p/p/l-as-9231-89-14558-aislin-original-imafrgy9cdzyvnct.jpeg?q=50',\n",
       " 'https://rukminim1.flixcart.com/image/329/395/jv44mfk0/sunglass/q/b/s/s-club-kids-011-phenomenal-original-imafbnwtdf5r6du3.jpeg?q=50',\n",
       " 'https://rukminim1.flixcart.com/image/329/395/kfbfr0w0-0/sunglass/c/i/i/2053-medium-singco-india-original-imafvsqs9eeyzeae.jpeg?q=50',\n",
       " 'https://rukminim1.flixcart.com/image/329/395/klo27bk0/sunglass/7/w/1/m-fld-bl-deixels-original-imagyqjegfxcc4kt.jpeg?q=50',\n",
       " 'https://rukminim1.flixcart.com/image/329/395/k612pow0/sunglass/h/u/g/s-chi0082-c1-royal-son-original-imafzjzfsxvuzgpt.jpeg?q=50',\n",
       " 'https://rukminim1.flixcart.com/image/329/395/k73nlow0/sunglass/g/y/u/free-trending-sunglasses-kabir-singh-square-metal-body-100-original-imafpf8a3c7phdjm.jpeg?q=50',\n",
       " 'https://rukminim1.flixcart.com/image/329/395/j6mhxu80/sunglass/h/t/g/gn-3002-blk-blu-gn-3002-blk-grn-m-gansta-original-imaexfw4hy2hxytw.jpeg?q=50',\n",
       " 'https://rukminim1.flixcart.com/image/329/395/k9stjm80/sunglass/8/p/g/l-as-9227-89-14551-aislin-original-imafrguzakh5gmqc.jpeg?q=50',\n",
       " 'https://rukminim1.flixcart.com/image/329/395/k9u8zgw0/sunglass/k/p/a/m-as-6101-85-14517-aislin-original-imafrgy9zrfwnacf.jpeg?q=50']"
      ]
     },
     "execution_count": 107,
     "metadata": {},
     "output_type": "execute_result"
    }
   ],
   "source": [
    "brand_images_second=[]\n",
    "for i in driver.find_elements_by_xpath(\"//img[@class='_2r_T1I']\"):\n",
    "    brand_images_second.append(i.get_attribute('src'))\n",
    "    \n",
    "brand_images_second"
   ]
  },
  {
   "cell_type": "code",
   "execution_count": 109,
   "metadata": {},
   "outputs": [],
   "source": [
    "next_btn=driver.find_element_by_xpath(\"//div[@class='_2MImiq']/nav/a[4]\")\n",
    "next_btn.click()"
   ]
  },
  {
   "cell_type": "code",
   "execution_count": 110,
   "metadata": {},
   "outputs": [
    {
     "data": {
      "text/plain": [
       "['ROYAL SON',\n",
       " 'kingsunglasses',\n",
       " 'SUNBEE',\n",
       " 'AISLIN',\n",
       " 'GANSTA',\n",
       " 'SUNBEE',\n",
       " 'GANSTA',\n",
       " 'NuVew',\n",
       " 'Elligator',\n",
       " 'Fravy',\n",
       " 'Badfella',\n",
       " 'AISLIN',\n",
       " 'Singco India',\n",
       " 'ROYAL SON',\n",
       " 'ROYAL SON',\n",
       " 'AISLIN',\n",
       " 'Singco India',\n",
       " 'ROYAL SON',\n",
       " 'ROYAL SON',\n",
       " 'NuVew']"
      ]
     },
     "execution_count": 110,
     "metadata": {},
     "output_type": "execute_result"
    }
   ],
   "source": [
    "brand_names_third=[]\n",
    "for i in driver.find_elements_by_xpath(\"//div[@class='_2WkVRV']\")[:20]:\n",
    "    brand_names_third.append(i.text)\n",
    "    \n",
    "brand_names_third"
   ]
  },
  {
   "cell_type": "code",
   "execution_count": 112,
   "metadata": {},
   "outputs": [
    {
     "data": {
      "text/plain": [
       "['UV Protection Retro Square Sunglasses (88)',\n",
       " 'UV Protection, Riding Glasses, Mirrored Wayfarer Sungla...',\n",
       " 'UV Protection, Polarized, Mirrored Retro Square Sunglas...',\n",
       " 'UV Protection, Gradient Butterfly, Retro Square Sunglas...',\n",
       " 'UV Protection, Mirrored Wayfarer Sunglasses (53)',\n",
       " 'UV Protection, Polarized, Mirrored Retro Square, Rectan...',\n",
       " 'UV Protection Aviator Sunglasses (57)',\n",
       " 'UV Protection Sports Sunglasses (73)',\n",
       " 'UV Protection Retro Square, Aviator Sunglasses (54)',\n",
       " 'UV Protection Retro Square Sunglasses (Free Size)',\n",
       " 'Polarized, UV Protection Retro Square Sunglasses (53)',\n",
       " 'UV Protection, Mirrored Shield, Wayfarer Sunglasses (61...',\n",
       " 'Mirrored, UV Protection, Riding Glasses, Others Wrap-ar...',\n",
       " 'UV Protection Over-sized Sunglasses (60)',\n",
       " 'UV Protection Retro Square Sunglasses (58)',\n",
       " 'UV Protection, Mirrored Wayfarer, Rectangular Sunglasse...',\n",
       " 'UV Protection, Riding Glasses, Others Aviator, Wayfarer...',\n",
       " 'UV Protection Wayfarer Sunglasses (55)',\n",
       " 'UV Protection, Gradient Wayfarer Sunglasses (55)',\n",
       " 'UV Protection, Mirrored Aviator Sunglasses (58)']"
      ]
     },
     "execution_count": 112,
     "metadata": {},
     "output_type": "execute_result"
    }
   ],
   "source": [
    "brand_desc_third=[]\n",
    "for i in driver.find_elements_by_xpath(\"//a[@class='IRpwTa']\")[:20]:\n",
    "    brand_desc_third.append(i.text)\n",
    "    \n",
    "brand_desc_third"
   ]
  },
  {
   "cell_type": "code",
   "execution_count": 113,
   "metadata": {},
   "outputs": [
    {
     "data": {
      "text/plain": [
       "['₹569',\n",
       " '₹217',\n",
       " '₹314',\n",
       " '₹516',\n",
       " '₹221',\n",
       " '₹189',\n",
       " '₹284',\n",
       " '₹355',\n",
       " '₹388',\n",
       " '₹299',\n",
       " '₹269',\n",
       " '₹445',\n",
       " '₹331',\n",
       " '₹664',\n",
       " '₹474',\n",
       " '₹1,045',\n",
       " '₹225',\n",
       " '₹248',\n",
       " '₹203',\n",
       " '₹398']"
      ]
     },
     "execution_count": 113,
     "metadata": {},
     "output_type": "execute_result"
    }
   ],
   "source": [
    "brand_prices_third=[]\n",
    "for i in driver.find_elements_by_xpath(\"//div[@class='_30jeq3']\")[:20]:\n",
    "    brand_prices_third.append(i.text)\n",
    "    \n",
    "brand_prices_third"
   ]
  },
  {
   "cell_type": "code",
   "execution_count": 114,
   "metadata": {},
   "outputs": [
    {
     "data": {
      "text/plain": [
       "['https://rukminim1.flixcart.com/image/329/395/k4rcmfk0/sunglass/c/f/h/medium-tony-stark-royal-son-original-imafng5hfzfxcn9e.jpeg?q=50',\n",
       " 'https://rukminim1.flixcart.com/image/329/395/kcnp8y80/sunglass/2/e/d/medium-wayfarer-5-kingsunglasses-original-imaftquncanpctx7.jpeg?q=50',\n",
       " 'https://rukminim1.flixcart.com/image/329/395/kp78e4w0/sunglass/e/w/u/medium-combo-3-lv-like-future-original-imag3gw6e9ajxx2d.jpeg?q=50',\n",
       " 'https://rukminim1.flixcart.com/image/329/395/k9stjm80/sunglass/d/t/m/m-as-18004-89-14578-aislin-original-imafrguzukyvf6pw.jpeg?q=50',\n",
       " 'https://rukminim1.flixcart.com/image/329/395/jm3ro280/sunglass/s/9/8/gn11096-gld-grn-mr-m-gansta-original-imaf926hzgfkdsmh.jpeg?q=50',\n",
       " 'https://rukminim1.flixcart.com/image/329/395/ki0loy80-0/sunglass/t/7/i/medium-white01-like-future-original-imafxwg6dfrfae9n.jpeg?q=50',\n",
       " 'https://rukminim1.flixcart.com/image/329/395/kd3f3bk0pkrrdj/sunglass/n/d/f/medium-3002-blk-blk-3002-sil-blk-gansta-original-imafu656n5kmgrxw.jpeg?q=50',\n",
       " 'https://rukminim1.flixcart.com/image/329/395/k0r15e80/sunglass/b/u/z/l-nw-81008-28-16012-nuvew-original-imafkhhhsa5j7q3y.jpeg?q=50',\n",
       " 'https://rukminim1.flixcart.com/image/329/395/kf8kvbk0-0/sunglass/s/a/w/kb018-medium-elligator-original-imafvqhyygxthae3.jpeg?q=50',\n",
       " 'https://rukminim1.flixcart.com/image/329/395/kmi2g7k0/sunglass/3/p/x/free-square-silver-frem-blue-glass-fravy-original-imagfdcxvkjhzp3g.jpeg?q=50',\n",
       " 'https://rukminim1.flixcart.com/image/329/395/kcrzki80/sunglass/m/q/d/m-carryminati-pink-goggles-badfella-original-imafttmu3znr2959.jpeg?q=50',\n",
       " 'https://rukminim1.flixcart.com/image/329/395/ka73y4w0/sunglass/t/z/5/l-as-irnms-98-14697-aislin-original-imafrtqhwyxmgdxw.jpeg?q=50',\n",
       " 'https://rukminim1.flixcart.com/image/329/395/kdqa4y80-0/sunglass/g/r/t/sahil-khan34-medium-singco-india-original-imafuk9nvghmhz8f.jpeg?q=50',\n",
       " 'https://rukminim1.flixcart.com/image/329/395/k6zda4w0/sunglass/r/d/g/l-chi0096-c1-royal-son-original-imafpbn8etfnzsne.jpeg?q=50',\n",
       " 'https://rukminim1.flixcart.com/image/329/395/jz05rww0/sunglass/z/8/w/m-rs0024dp-sf-royal-son-original-imafjyyjw9jzswkh.jpeg?q=50',\n",
       " 'https://rukminim1.flixcart.com/image/329/395/k9re3rk0/sunglass/f/b/q/m-as-9012-53-14165-aislin-original-imafrhh6kcvjsc5w.jpeg?q=50',\n",
       " 'https://rukminim1.flixcart.com/image/329/395/kerfl3k0-0/sunglass/u/v/4/bk-212-free-singco-india-original-imafvdff2uxx6ved.jpeg?q=50',\n",
       " 'https://rukminim1.flixcart.com/image/329/395/jxqfonk0/sunglass/j/2/n/medium-sunglasses-combo-royal-son-original-imaffytm3hhzjqup.jpeg?q=50',\n",
       " 'https://rukminim1.flixcart.com/image/329/395/jxqfonk0/sunglass/5/f/h/medium-sunglasses-combo-royal-son-original-imaffyuygpkdggtx.jpeg?q=50',\n",
       " 'https://rukminim1.flixcart.com/image/329/395/k0vbgy80/sunglass/j/e/t/m-nw-av-c5-51045-nuvew-original-imafkk5j6shcmwnv.jpeg?q=50']"
      ]
     },
     "execution_count": 114,
     "metadata": {},
     "output_type": "execute_result"
    }
   ],
   "source": [
    "brand_images_third=[]\n",
    "for i in driver.find_elements_by_xpath(\"//img[@class='_2r_T1I']\")[:20]:\n",
    "    brand_images_third.append(i.get_attribute('src'))\n",
    "    \n",
    "brand_images_third"
   ]
  },
  {
   "cell_type": "code",
   "execution_count": 115,
   "metadata": {},
   "outputs": [
    {
     "data": {
      "text/plain": [
       "['WROGN',\n",
       " 'Villain',\n",
       " 'SHAAH COLLECTIONS',\n",
       " 'PIRASO',\n",
       " 'Elligator',\n",
       " 'kingsunglasses',\n",
       " 'PIRASO',\n",
       " 'AISLIN',\n",
       " 'Fastrack',\n",
       " 'ROYAL SON',\n",
       " 'Fastrack',\n",
       " 'NuVew',\n",
       " 'ROZZETTA CRAFT',\n",
       " 'SHAAH COLLECTIONS',\n",
       " 'SHAAH COLLECTIONS',\n",
       " 'AISLIN',\n",
       " 'Fastrack',\n",
       " 'SUNBEE',\n",
       " 'NuVew',\n",
       " 'ROZZETTA CRAFT',\n",
       " 'PHENOMENAL',\n",
       " 'kingsunglasses',\n",
       " 'DEIXELS',\n",
       " 'AISLIN',\n",
       " 'ROZZETTA CRAFT',\n",
       " 'Silver Kartz',\n",
       " 'PIRASO',\n",
       " 'ROYAL SON',\n",
       " 'ROZZETTA CRAFT',\n",
       " 'ROYAL SON',\n",
       " 'PIRASO',\n",
       " 'AISLIN',\n",
       " 'PIRASO',\n",
       " 'Fastrack',\n",
       " 'Fastrack',\n",
       " 'AISLIN',\n",
       " 'Rich Club',\n",
       " 'OCCARIO',\n",
       " 'HIPPON',\n",
       " 'NuVew',\n",
       " 'Elligator',\n",
       " 'GANSTA',\n",
       " 'kingsunglasses',\n",
       " 'AISLIN',\n",
       " 'SUNBEE',\n",
       " 'kingsunglasses',\n",
       " 'Elligator',\n",
       " 'WROGN',\n",
       " 'hipe',\n",
       " 'kingsunglasses',\n",
       " 'kingsunglasses',\n",
       " 'Villain',\n",
       " 'Elligator',\n",
       " 'kingsunglasses',\n",
       " 'hipe',\n",
       " 'NuVew',\n",
       " 'PHENOMENAL',\n",
       " 'SUNBEE',\n",
       " 'ROYAL SON',\n",
       " 'ROZZETTA CRAFT',\n",
       " 'Fastrack',\n",
       " 'Elligator',\n",
       " 'Fastrack',\n",
       " 'AISLIN',\n",
       " 'PIRASO',\n",
       " 'Singco',\n",
       " 'ROYAL SON',\n",
       " 'AISLIN',\n",
       " 'SRPM',\n",
       " 'NuVew',\n",
       " 'Silver Kartz',\n",
       " 'AISLIN',\n",
       " 'PHENOMENAL',\n",
       " 'Singco India',\n",
       " 'DEIXELS',\n",
       " 'ROYAL SON',\n",
       " 'povty',\n",
       " 'GANSTA',\n",
       " 'AISLIN',\n",
       " 'AISLIN',\n",
       " 'ROYAL SON',\n",
       " 'kingsunglasses',\n",
       " 'SUNBEE',\n",
       " 'AISLIN',\n",
       " 'GANSTA',\n",
       " 'SUNBEE',\n",
       " 'GANSTA',\n",
       " 'NuVew',\n",
       " 'Elligator',\n",
       " 'Fravy',\n",
       " 'Badfella',\n",
       " 'AISLIN',\n",
       " 'Singco India',\n",
       " 'ROYAL SON',\n",
       " 'ROYAL SON',\n",
       " 'AISLIN',\n",
       " 'Singco India',\n",
       " 'ROYAL SON',\n",
       " 'ROYAL SON',\n",
       " 'NuVew']"
      ]
     },
     "execution_count": 115,
     "metadata": {},
     "output_type": "execute_result"
    }
   ],
   "source": [
    "final_brand_names=brand_names+brand_names_second+brand_names_third\n",
    "final_brand_names"
   ]
  },
  {
   "cell_type": "code",
   "execution_count": 116,
   "metadata": {},
   "outputs": [
    {
     "data": {
      "text/plain": [
       "['UV Protection Aviator Sunglasses (60)',\n",
       " 'Others Wayfarer Sunglasses (Free Size)',\n",
       " 'UV Protection, Polarized, Mirrored Rectangular Sunglass...',\n",
       " 'UV Protection Aviator Sunglasses (54)',\n",
       " 'UV Protection Round Sunglasses (54)',\n",
       " 'Mirrored, UV Protection Wayfarer Sunglasses (Free Size)',\n",
       " 'UV Protection Aviator Sunglasses (54)',\n",
       " 'UV Protection, Gradient Wayfarer, Clubmaster Sunglasses...',\n",
       " 'Gradient, UV Protection Wayfarer Sunglasses (Free Size)',\n",
       " 'UV Protection Rectangular Sunglasses (58)',\n",
       " 'UV Protection Wayfarer Sunglasses (Free Size)',\n",
       " 'UV Protection Aviator Sunglasses (57)',\n",
       " 'UV Protection, Gradient Rectangular Sunglasses (Free Si...',\n",
       " 'UV Protection Round Sunglasses (Free Size)',\n",
       " 'UV Protection, Polarized, Mirrored Rectangular Sunglass...',\n",
       " 'UV Protection, Gradient Butterfly, Retro Square Sunglas...',\n",
       " 'UV Protection Aviator Sunglasses (Free Size)',\n",
       " 'UV Protection, Polarized, Mirrored Wayfarer Sunglasses ...',\n",
       " 'UV Protection, Mirrored Aviator Sunglasses (58)',\n",
       " 'UV Protection, Gradient Retro Square Sunglasses (Free S...',\n",
       " 'UV Protection Retro Square Sunglasses (Free Size)',\n",
       " 'Mirrored, UV Protection Wayfarer Sunglasses (Free Size)',\n",
       " 'UV Protection Aviator, Wayfarer Sunglasses (Free Size)',\n",
       " 'UV Protection, Gradient Wayfarer, Clubmaster Sunglasses...',\n",
       " 'UV Protection Retro Square Sunglasses (Free Size)',\n",
       " 'UV Protection Wayfarer Sunglasses (Free Size)',\n",
       " 'UV Protection Aviator Sunglasses (54)',\n",
       " 'Polarized, UV Protection Aviator Sunglasses (58)',\n",
       " 'UV Protection, Riding Glasses Rectangular Sunglasses (F...',\n",
       " 'Mirrored Aviator Sunglasses (55)',\n",
       " 'UV Protection Aviator Sunglasses (58)',\n",
       " 'UV Protection, Gradient Butterfly, Retro Square Sunglas...',\n",
       " 'UV Protection Butterfly Sunglasses (65)',\n",
       " 'UV Protection Wayfarer Sunglasses (Free Size)',\n",
       " 'UV Protection Wayfarer Sunglasses (57)',\n",
       " 'UV Protection, Gradient Round, Cat-eye Sunglasses (60)',\n",
       " 'UV Protection, Mirrored, Gradient Round Sunglasses (51)',\n",
       " 'Others Round Sunglasses (52)',\n",
       " 'UV Protection Wayfarer Sunglasses (55)',\n",
       " 'UV Protection, Night Vision, Riding Glasses, Polarized ...',\n",
       " 'Mirrored Round Sunglasses (53)',\n",
       " 'UV Protection, Night Vision, Riding Glasses Aviator Sun...',\n",
       " 'UV Protection Round Sunglasses (Free Size)',\n",
       " 'UV Protection, Gradient Wayfarer, Clubmaster Sunglasses...',\n",
       " 'UV Protection, Polarized, Mirrored Wayfarer Sunglasses ...',\n",
       " 'UV Protection Rectangular Sunglasses (55)',\n",
       " 'UV Protection, Riding Glasses Rectangular, Retro Square...',\n",
       " 'UV Protection Aviator Sunglasses (60)',\n",
       " 'UV Protection, Night Vision, Riding Glasses, Gradient, ...',\n",
       " 'UV Protection, Mirrored Round Sunglasses (Free Size)',\n",
       " 'UV Protection Rectangular Sunglasses (Free Size)',\n",
       " 'Others Wayfarer Sunglasses (Free Size)',\n",
       " 'UV Protection Round Sunglasses (55)',\n",
       " 'UV Protection, Mirrored Round Sunglasses (54)',\n",
       " 'UV Protection, Night Vision, Gradient, Mirrored Round, ...',\n",
       " 'UV Protection Aviator Sunglasses (57)',\n",
       " 'UV Protection Round Sunglasses (53)',\n",
       " 'UV Protection, Polarized, Mirrored Wayfarer Sunglasses ...',\n",
       " 'UV Protection Retro Square Sunglasses (58)',\n",
       " 'UV Protection, Gradient Retro Square Sunglasses (Free S...',\n",
       " 'UV Protection Aviator Sunglasses (Free Size)',\n",
       " 'UV Protection, Riding Glasses Rectangular, Retro Square...',\n",
       " 'UV Protection Aviator Sunglasses (58)',\n",
       " 'UV Protection, Gradient Wayfarer, Clubmaster Sunglasses...',\n",
       " 'UV Protection Aviator Sunglasses (Free Size)',\n",
       " 'Mirrored Aviator Sunglasses (53)',\n",
       " 'UV Protection Retro Square Sunglasses (88)',\n",
       " 'UV Protection, Gradient Butterfly, Retro Square Sunglas...',\n",
       " 'UV Protection Wayfarer Sunglasses (53)',\n",
       " 'UV Protection Aviator Sunglasses (58)',\n",
       " 'UV Protection Oval Sunglasses (56)',\n",
       " 'UV Protection, Gradient Round, Cat-eye Sunglasses (60)',\n",
       " 'UV Protection Clubmaster Sunglasses (Free Size)',\n",
       " 'Riding Glasses, Others, UV Protection Wrap-around Sungl...',\n",
       " 'Polarized, UV Protection, Riding Glasses Wayfarer Sungl...',\n",
       " 'Polarized, UV Protection Aviator Sunglasses (58)',\n",
       " 'UV Protection Wayfarer Sunglasses (Free Size)',\n",
       " 'UV Protection, Gradient Aviator Sunglasses (55)',\n",
       " 'UV Protection, Gradient Cat-eye Sunglasses (61)',\n",
       " 'UV Protection, Gradient Wayfarer Sunglasses (57)',\n",
       " 'UV Protection Retro Square Sunglasses (88)',\n",
       " 'UV Protection, Riding Glasses, Mirrored Wayfarer Sungla...',\n",
       " 'UV Protection, Polarized, Mirrored Retro Square Sunglas...',\n",
       " 'UV Protection, Gradient Butterfly, Retro Square Sunglas...',\n",
       " 'UV Protection, Mirrored Wayfarer Sunglasses (53)',\n",
       " 'UV Protection, Polarized, Mirrored Retro Square, Rectan...',\n",
       " 'UV Protection Aviator Sunglasses (57)',\n",
       " 'UV Protection Sports Sunglasses (73)',\n",
       " 'UV Protection Retro Square, Aviator Sunglasses (54)',\n",
       " 'UV Protection Retro Square Sunglasses (Free Size)',\n",
       " 'Polarized, UV Protection Retro Square Sunglasses (53)',\n",
       " 'UV Protection, Mirrored Shield, Wayfarer Sunglasses (61...',\n",
       " 'Mirrored, UV Protection, Riding Glasses, Others Wrap-ar...',\n",
       " 'UV Protection Over-sized Sunglasses (60)',\n",
       " 'UV Protection Retro Square Sunglasses (58)',\n",
       " 'UV Protection, Mirrored Wayfarer, Rectangular Sunglasse...',\n",
       " 'UV Protection, Riding Glasses, Others Aviator, Wayfarer...',\n",
       " 'UV Protection Wayfarer Sunglasses (55)',\n",
       " 'UV Protection, Gradient Wayfarer Sunglasses (55)',\n",
       " 'UV Protection, Mirrored Aviator Sunglasses (58)']"
      ]
     },
     "execution_count": 116,
     "metadata": {},
     "output_type": "execute_result"
    }
   ],
   "source": [
    "final_brand_desc=brand_desc+brand_desc_secound+brand_desc_third\n",
    "final_brand_desc"
   ]
  },
  {
   "cell_type": "code",
   "execution_count": 117,
   "metadata": {},
   "outputs": [
    {
     "data": {
      "text/plain": [
       "['₹1,007',\n",
       " '₹599',\n",
       " '₹198',\n",
       " '₹237',\n",
       " '₹329',\n",
       " '₹284',\n",
       " '₹237',\n",
       " '₹525',\n",
       " '₹509',\n",
       " '₹474',\n",
       " '₹758',\n",
       " '₹258',\n",
       " '₹404',\n",
       " '₹331',\n",
       " '₹215',\n",
       " '₹516',\n",
       " '₹520',\n",
       " '₹265',\n",
       " '₹186',\n",
       " '₹404',\n",
       " '₹399',\n",
       " '₹284',\n",
       " '₹202',\n",
       " '₹445',\n",
       " '₹499',\n",
       " '₹246',\n",
       " '₹237',\n",
       " '₹711',\n",
       " '₹449',\n",
       " '₹379',\n",
       " '₹399',\n",
       " '₹498',\n",
       " '₹449',\n",
       " '₹689',\n",
       " '₹499',\n",
       " '₹498',\n",
       " '₹215',\n",
       " '₹179',\n",
       " '₹257',\n",
       " '₹375',\n",
       " '₹355',\n",
       " '₹295',\n",
       " '₹331',\n",
       " '₹525',\n",
       " '₹284',\n",
       " '₹199',\n",
       " '₹443',\n",
       " '₹1,007',\n",
       " '₹210',\n",
       " '₹274',\n",
       " '₹197',\n",
       " '₹599',\n",
       " '₹266',\n",
       " '₹236',\n",
       " '₹210',\n",
       " '₹258',\n",
       " '₹295',\n",
       " '₹314',\n",
       " '₹474',\n",
       " '₹404',\n",
       " '₹695',\n",
       " '₹443',\n",
       " '₹1,085',\n",
       " '₹445',\n",
       " '₹331',\n",
       " '₹239',\n",
       " '₹569',\n",
       " '₹498',\n",
       " '₹230',\n",
       " '₹202',\n",
       " '₹284',\n",
       " '₹498',\n",
       " '₹319',\n",
       " '₹293',\n",
       " '₹236',\n",
       " '₹711',\n",
       " '₹349',\n",
       " '₹289',\n",
       " '₹498',\n",
       " '₹625',\n",
       " '₹569',\n",
       " '₹217',\n",
       " '₹314',\n",
       " '₹516',\n",
       " '₹221',\n",
       " '₹189',\n",
       " '₹284',\n",
       " '₹355',\n",
       " '₹388',\n",
       " '₹299',\n",
       " '₹269',\n",
       " '₹445',\n",
       " '₹331',\n",
       " '₹664',\n",
       " '₹474',\n",
       " '₹1,045',\n",
       " '₹225',\n",
       " '₹248',\n",
       " '₹203',\n",
       " '₹398']"
      ]
     },
     "execution_count": 117,
     "metadata": {},
     "output_type": "execute_result"
    }
   ],
   "source": [
    "final_brand_prices=brand_price+brand_prices_second+brand_prices_third\n",
    "final_brand_prices"
   ]
  },
  {
   "cell_type": "code",
   "execution_count": 118,
   "metadata": {},
   "outputs": [
    {
     "data": {
      "text/plain": [
       "['https://rukminim1.flixcart.com/image/329/395/kh3qkcw0-0/sunglass/n/v/j/60-wr7003c3-wrogn-original-imafx7ybbg6hsjug.jpeg?q=50',\n",
       " 'https://rukminim1.flixcart.com/image/329/395/kpft18w0/sunglass/k/q/s/one-size-wingman-bottle-opener-sunglasses-villain-original-imag3z5j82gkrmzz.jpeg?q=50',\n",
       " 'https://rukminim1.flixcart.com/image/329/395/ki0loy80-0/sunglass/t/7/i/medium-white01-like-future-original-imafxwg6dfrfae9n.jpeg?q=50',\n",
       " 'https://rukminim1.flixcart.com/image/329/395/kelptow0-0/sunglass/n/9/6/3077-black-v-s-black-m-piraso-original-imafv8xzcygwmafq.jpeg?q=50',\n",
       " 'https://rukminim1.flixcart.com/image/329/395/k7dnonk0/sunglass/c/d/b/medium-ro-dc001-elligator-original-imafpmy5rurzjutm.jpeg?q=50',\n",
       " 'https://rukminim1.flixcart.com/image/329/395/ko62xzk0/sunglass/i/x/j/medium-wayfarer-5-kingsunglasses-original-imag2zy9vghannhh.jpeg?q=50',\n",
       " 'https://rukminim1.flixcart.com/image/329/395/k6mibgw0/sunglass/w/s/v/free-size-3077-green-lens-piraso-original-imafpfgyyugpckvm.jpeg?q=50',\n",
       " 'https://rukminim1.flixcart.com/image/329/395/k9u8zgw0/sunglass/t/k/s/m-as-8822-89-14539-aislin-original-imafrgy9f3upugqf.jpeg?q=50',\n",
       " 'https://rukminim1.flixcart.com/image/329/395/kgtqhe80-0/sunglass/1/s/c/p448gr1t-m-fastrack-original-imafwz5epdsgebq8.jpeg?q=50',\n",
       " 'https://rukminim1.flixcart.com/image/329/395/k65d18w0/sunglass/x/3/h/m-rs0038av-royal-son-original-imafzzdm2vh2rgyp.jpeg?q=50',\n",
       " 'https://rukminim1.flixcart.com/image/329/395/jmqmpow0-1/sunglass/t/2/w/one-size-fits-all-p429gr3-fastrack-original-imaf9kx9fuceyggz.jpeg?q=50',\n",
       " 'https://rukminim1.flixcart.com/image/329/395/k0vbgy80/sunglass/r/b/e/m-nw-av-c3-51210-nuvew-original-imafkk5jkg5qk9n3.jpeg?q=50',\n",
       " 'https://rukminim1.flixcart.com/image/329/395/kbpeoi80/sunglass/f/k/s/m-iron-man-tony-stark-avengers-infinity-war-endgame-unisex-original-imafszt2pg5t4kfw.jpeg?q=50',\n",
       " 'https://rukminim1.flixcart.com/image/329/395/kb1470w0/sunglass/n/m/c/medium-combo-six-mono-shah-collections-original-imafsh59hjfzmsxt.jpeg?q=50',\n",
       " 'https://rukminim1.flixcart.com/image/329/395/ki0loy80-0/sunglass/u/y/h/medium-white01-like-future-original-imafxwfz9cd4s9hm.jpeg?q=50',\n",
       " 'https://rukminim1.flixcart.com/image/329/395/k9stjm80/sunglass/d/t/m/m-as-18004-89-14578-aislin-original-imafrguzukyvf6pw.jpeg?q=50',\n",
       " 'https://rukminim1.flixcart.com/image/329/395/jpvihzk0/sunglass/e/r/z/free-size-nbp358bk2-fastrack-original-imafcyh552twc4xg.jpeg?q=50',\n",
       " 'https://rukminim1.flixcart.com/image/329/395/kp78e4w0/sunglass/o/9/a/medium-combo-3-lv-like-future-original-imag3gwfqh4g5mka.jpeg?q=50',\n",
       " 'https://rukminim1.flixcart.com/image/329/395/k0r15e80/sunglass/y/k/z/m-nw-3025c-22-15403-nuvew-original-imafkhh2hmrhyzfr.jpeg?q=50',\n",
       " 'https://rukminim1.flixcart.com/image/329/395/klgx0280/sunglass/y/v/c/m-kendall-unisex-narrow-square-frame-uv400-protection-rozzetta-original-imagykh9xuyg6upk.jpeg?q=50',\n",
       " 'https://rukminim1.flixcart.com/image/329/395/ke5zzbk0-0/sunglass/n/c/j/kabirsingh-combo-022-m-phenomenal-original-imafuwzasgfkrbsh.jpeg?q=50',\n",
       " 'https://rukminim1.flixcart.com/image/329/395/ko62xzk0/sunglass/h/m/w/medium-wayfarer-5-kingsunglasses-original-imag2zy2yzvhbqkj.jpeg?q=50',\n",
       " 'https://rukminim1.flixcart.com/image/329/395/jd3epow0/sunglass/a/c/v/combo-wf03-av01-m-deixels-original-imaf2yz397hdfdxp.jpeg?q=50',\n",
       " 'https://rukminim1.flixcart.com/image/329/395/k9stjm80/sunglass/3/e/g/m-as-8822-89-14536-aislin-original-imafrguzqhurvda6.jpeg?q=50',\n",
       " 'https://rukminim1.flixcart.com/image/329/395/k5fn3ww0/sunglass/2/n/w/m-4028-ivy-vacker-original-imafz27hdfqwy7yu.jpeg?q=50',\n",
       " 'https://rukminim1.flixcart.com/image/329/395/km0x5zk0/sunglass/8/y/y/m-wc35-silver-kartz-original-imagfyn8pddz6sss.jpeg?q=50',\n",
       " 'https://rukminim1.flixcart.com/image/329/395/kgcl7680-0/sunglass/w/q/l/3077-black-lens-m-piraso-original-imafwhwmyfqgkmbm.jpeg?q=50',\n",
       " 'https://rukminim1.flixcart.com/image/329/395/k612pow0/sunglass/h/u/g/s-chi0082-c1-royal-son-original-imafzjzfsxvuzgpt.jpeg?q=50',\n",
       " 'https://rukminim1.flixcart.com/image/329/395/kh5607k0-0/sunglass/z/x/a/m-iron-man-tony-stark-avengers-infinity-war-endgame-unisex-original-imafx84mqrqc72xx.jpeg?q=50',\n",
       " 'https://rukminim1.flixcart.com/image/329/395/jx7uykw0/sunglass/t/j/t/m-rs006av-royal-son-original-imafeb2yvwwnbrpg.jpeg?q=50',\n",
       " 'https://rukminim1.flixcart.com/image/329/395/kbqu4cw0/sunglass/f/q/s/m-4494-black-gold-piraso-original-imaftyy5gngzhez4.jpeg?q=50',\n",
       " 'https://rukminim1.flixcart.com/image/329/395/k9u8zgw0/sunglass/e/n/y/m-as-18004-89-14577-aislin-original-imafrgy9hs6mkkak.jpeg?q=50',\n",
       " 'https://rukminim1.flixcart.com/image/329/395/klmmrgw0/sunglass/k/m/y/over-size-blue-black-vcb4-piraso-original-imagypzwqtsgbhh7.jpeg?q=50',\n",
       " 'https://rukminim1.flixcart.com/image/329/395/jnkmykw0/sunglass/y/v/y/p429bu4-one-size-fits-all-fastrack-original-imafa8fgbc2ec6pd.jpeg?q=50',\n",
       " 'https://rukminim1.flixcart.com/image/329/395/k12go7k0/sunglass/y/f/y/m-p448bk3t-fastrack-original-imafjsjcrwgfwea8.jpeg?q=50',\n",
       " 'https://rukminim1.flixcart.com/image/329/395/k9u8zgw0/sunglass/j/p/p/l-as-9231-89-14558-aislin-original-imafrgy9cdzyvnct.jpeg?q=50',\n",
       " 'https://rukminim1.flixcart.com/image/329/395/kdxfc7k0-0/sunglass/s/j/i/hq-s-black-r-46-shade-house-original-imafrhm6p3vdyayf.jpeg?q=50',\n",
       " 'https://rukminim1.flixcart.com/image/329/395/kkbh8cw0/sunglass/6/e/0/large-58-ap-sunglasses-42-amour-propre-original-imafzzsh4f8hwehh.jpeg?q=50',\n",
       " 'https://rukminim1.flixcart.com/image/329/395/k2f1n680/sunglass/k/n/g/55-wayf-new-3-hippon-original-imafhry2zrbeg3pe.jpeg?q=50',\n",
       " 'https://rukminim1.flixcart.com/image/329/395/k0sgl8w0/sunglass/n/2/g/l-nw-nvpol-32-16029-nuvew-original-imafkgmgsagyyvmh.jpeg?q=50',\n",
       " 'https://rukminim1.flixcart.com/image/329/395/jpu324w0/sunglass/y/e/y/free-size-mr-027-elligator-original-imafbttdydnvpn2g.jpeg?q=50',\n",
       " 'https://rukminim1.flixcart.com/image/329/395/kazor680/sunglass/a/m/n/m-gn-3002-sil-yel-gn-3002-sil-clr-gansta-original-imafsg69g7fwhnep.jpeg?q=50',\n",
       " 'https://rukminim1.flixcart.com/image/329/395/kb1470w0/sunglass/a/1/n/medium-combo-six-mono-shah-collections-original-imafsh5ynyzjhbxa.jpeg?q=50',\n",
       " 'https://rukminim1.flixcart.com/image/329/395/k9u8zgw0/sunglass/t/k/s/m-as-8822-89-14539-aislin-original-imafrgy9f3upugqf.jpeg?q=50',\n",
       " 'https://rukminim1.flixcart.com/image/329/395/kn7sdjk0/sunglass/f/y/h/medium-waycombo-like-future-original-imagfy2ujbtdmgeu.jpeg?q=50',\n",
       " 'https://rukminim1.flixcart.com/image/329/395/kkr72q80/sunglass/c/f/f/small-medium-lv-new-2-kingsunglasses-original-imagyfgzwydweure.jpeg?q=50',\n",
       " 'https://rukminim1.flixcart.com/image/329/395/kiulxu80-0/sunglass/s/x/2/kbds-023-medium-elligator-original-imafyjyxke2hxyz6.jpeg?q=50',\n",
       " 'https://rukminim1.flixcart.com/image/329/395/kh3qkcw0-0/sunglass/n/v/j/60-wr7003c3-wrogn-original-imafx7ybbg6hsjug.jpeg?q=50',\n",
       " 'https://rukminim1.flixcart.com/image/329/395/k62i5jk0/sunglass/f/f/u/55-9095-r-y-hipe-original-imafzhtppqg7ha6s.jpeg?q=50',\n",
       " 'https://rukminim1.flixcart.com/image/329/395/kp78e4w0/sunglass/u/9/8/medium-ganmon3-kingsunglasses-original-imag3hqzxuzfqpwa.jpeg?q=50',\n",
       " 'https://rukminim1.flixcart.com/image/329/395/ki0loy80-0/sunglass/t/7/i/medium-white01-like-future-original-imafxwg6dfrfae9n.jpeg?q=50',\n",
       " 'https://rukminim1.flixcart.com/image/329/395/kpft18w0/sunglass/k/q/s/one-size-wingman-bottle-opener-sunglasses-villain-original-imag3z5j82gkrmzz.jpeg?q=50',\n",
       " 'https://rukminim1.flixcart.com/image/329/395/jpu324w0/sunglass/t/m/v/free-size-mr-026-elligator-original-imafbtta6mp9hsuc.jpeg?q=50',\n",
       " 'https://rukminim1.flixcart.com/image/329/395/kc7zekw0/sunglass/a/z/8/free-size-ganmon-3-new-specs-original-imafcgn3dqszgs9x.jpeg?q=50',\n",
       " 'https://rukminim1.flixcart.com/image/329/395/kgwld3k0-0/sunglass/g/n/u/bay-round-sunglasses-baby-sunglasses-hipe-original-imafxfhyvaq7wuye.jpeg?q=50',\n",
       " 'https://rukminim1.flixcart.com/image/329/395/k0vbgy80/sunglass/r/b/e/m-nw-av-c3-51210-nuvew-original-imafkk5jkg5qk9n3.jpeg?q=50',\n",
       " 'https://rukminim1.flixcart.com/image/329/395/k4bms280/sunglass/a/z/d/m-round-blue-silvblk-silvr-goldnvyllw-goldred-sg-phenomenal-original-imafn8jhuktgqd7c.jpeg?q=50',\n",
       " 'https://rukminim1.flixcart.com/image/329/395/kp4difk0/sunglass/k/2/l/medium-waycombosix-like-future-original-imag3fhsjuth8wdh.jpeg?q=50',\n",
       " 'https://rukminim1.flixcart.com/image/329/395/k65d18w0/sunglass/y/z/d/m-rs0039av-royal-son-original-imafzzdmrtmzdd7m.jpeg?q=50',\n",
       " 'https://rukminim1.flixcart.com/image/329/395/klgx0280/sunglass/y/v/c/m-kendall-unisex-narrow-square-frame-uv400-protection-rozzetta-original-imagykh9xuyg6upk.jpeg?q=50',\n",
       " 'https://rukminim1.flixcart.com/image/329/395/jpa2w7k0/sunglass/u/b/c/free-size-p358bk2-fastrack-original-imafbjvf4kyfckcr.jpeg?q=50',\n",
       " 'https://rukminim1.flixcart.com/image/329/395/kiulxu80-0/sunglass/l/7/w/kbds-022-medium-elligator-original-imafykyqageb5xk5.jpeg?q=50',\n",
       " 'https://rukminim1.flixcart.com/image/329/395/k0zlsi80/sunglass/g/g/g/l-m242bk2t-fastrack-original-imafkz5mzkkdhv72.jpeg?q=50',\n",
       " 'https://rukminim1.flixcart.com/image/329/395/k9stjm80/sunglass/3/e/g/m-as-8822-89-14536-aislin-original-imafrguzqhurvda6.jpeg?q=50',\n",
       " 'https://rukminim1.flixcart.com/image/329/395/k5vcya80/sunglass/g/r/p/m-3026-gold-black-b-piraso-original-imafzggcnn5urwcw.jpeg?q=50',\n",
       " 'https://rukminim1.flixcart.com/image/329/395/jle1qq80/sunglass/b/s/w/90041000-normal-singco-original-imaf8j65z99ywypw.jpeg?q=50',\n",
       " 'https://rukminim1.flixcart.com/image/329/395/k4rcmfk0/sunglass/r/6/v/medium-tony-stark-royal-son-original-imafng5jhgyhntge.jpeg?q=50',\n",
       " 'https://rukminim1.flixcart.com/image/329/395/k9u8zgw0/sunglass/e/n/y/m-as-18004-89-14577-aislin-original-imafrgy9hs6mkkak.jpeg?q=50',\n",
       " 'https://rukminim1.flixcart.com/image/329/395/jy90eq80/sunglass/p/c/z/free-size-av0333-srpm-original-imafgj6trtbjauzw.jpeg?q=50',\n",
       " 'https://rukminim1.flixcart.com/image/329/395/k0wqwsw0/sunglass/m/y/u/m-nw-av-c2-51347-nuvew-original-imafkh8rwxp4mg6g.jpeg?q=50',\n",
       " 'https://rukminim1.flixcart.com/image/329/395/jzygccw0/sunglass/a/n/c/medium-latest-green-lens-aviator-silver-kartz-original-imafjtkvgv8p8wsu.jpeg?q=50',\n",
       " 'https://rukminim1.flixcart.com/image/329/395/k9u8zgw0/sunglass/j/p/p/l-as-9231-89-14558-aislin-original-imafrgy9cdzyvnct.jpeg?q=50',\n",
       " 'https://rukminim1.flixcart.com/image/329/395/jv44mfk0/sunglass/q/b/s/s-club-kids-011-phenomenal-original-imafbnwtdf5r6du3.jpeg?q=50',\n",
       " 'https://rukminim1.flixcart.com/image/329/395/kfbfr0w0-0/sunglass/c/i/i/2053-medium-singco-india-original-imafvsqs9eeyzeae.jpeg?q=50',\n",
       " 'https://rukminim1.flixcart.com/image/329/395/klo27bk0/sunglass/7/w/1/m-fld-bl-deixels-original-imagyqjegfxcc4kt.jpeg?q=50',\n",
       " 'https://rukminim1.flixcart.com/image/329/395/k612pow0/sunglass/h/u/g/s-chi0082-c1-royal-son-original-imafzjzfsxvuzgpt.jpeg?q=50',\n",
       " 'https://rukminim1.flixcart.com/image/329/395/k73nlow0/sunglass/g/y/u/free-trending-sunglasses-kabir-singh-square-metal-body-100-original-imafpf8a3c7phdjm.jpeg?q=50',\n",
       " 'https://rukminim1.flixcart.com/image/329/395/j6mhxu80/sunglass/h/t/g/gn-3002-blk-blu-gn-3002-blk-grn-m-gansta-original-imaexfw4hy2hxytw.jpeg?q=50',\n",
       " 'https://rukminim1.flixcart.com/image/329/395/k9stjm80/sunglass/8/p/g/l-as-9227-89-14551-aislin-original-imafrguzakh5gmqc.jpeg?q=50',\n",
       " 'https://rukminim1.flixcart.com/image/329/395/k9u8zgw0/sunglass/k/p/a/m-as-6101-85-14517-aislin-original-imafrgy9zrfwnacf.jpeg?q=50',\n",
       " 'https://rukminim1.flixcart.com/image/329/395/k4rcmfk0/sunglass/c/f/h/medium-tony-stark-royal-son-original-imafng5hfzfxcn9e.jpeg?q=50',\n",
       " 'https://rukminim1.flixcart.com/image/329/395/kcnp8y80/sunglass/2/e/d/medium-wayfarer-5-kingsunglasses-original-imaftquncanpctx7.jpeg?q=50',\n",
       " 'https://rukminim1.flixcart.com/image/329/395/kp78e4w0/sunglass/e/w/u/medium-combo-3-lv-like-future-original-imag3gw6e9ajxx2d.jpeg?q=50',\n",
       " 'https://rukminim1.flixcart.com/image/329/395/k9stjm80/sunglass/d/t/m/m-as-18004-89-14578-aislin-original-imafrguzukyvf6pw.jpeg?q=50',\n",
       " 'https://rukminim1.flixcart.com/image/329/395/jm3ro280/sunglass/s/9/8/gn11096-gld-grn-mr-m-gansta-original-imaf926hzgfkdsmh.jpeg?q=50',\n",
       " 'https://rukminim1.flixcart.com/image/329/395/ki0loy80-0/sunglass/t/7/i/medium-white01-like-future-original-imafxwg6dfrfae9n.jpeg?q=50',\n",
       " 'https://rukminim1.flixcart.com/image/329/395/kd3f3bk0pkrrdj/sunglass/n/d/f/medium-3002-blk-blk-3002-sil-blk-gansta-original-imafu656n5kmgrxw.jpeg?q=50',\n",
       " 'https://rukminim1.flixcart.com/image/329/395/k0r15e80/sunglass/b/u/z/l-nw-81008-28-16012-nuvew-original-imafkhhhsa5j7q3y.jpeg?q=50',\n",
       " 'https://rukminim1.flixcart.com/image/329/395/kf8kvbk0-0/sunglass/s/a/w/kb018-medium-elligator-original-imafvqhyygxthae3.jpeg?q=50',\n",
       " 'https://rukminim1.flixcart.com/image/329/395/kmi2g7k0/sunglass/3/p/x/free-square-silver-frem-blue-glass-fravy-original-imagfdcxvkjhzp3g.jpeg?q=50',\n",
       " 'https://rukminim1.flixcart.com/image/329/395/kcrzki80/sunglass/m/q/d/m-carryminati-pink-goggles-badfella-original-imafttmu3znr2959.jpeg?q=50',\n",
       " 'https://rukminim1.flixcart.com/image/329/395/ka73y4w0/sunglass/t/z/5/l-as-irnms-98-14697-aislin-original-imafrtqhwyxmgdxw.jpeg?q=50',\n",
       " 'https://rukminim1.flixcart.com/image/329/395/kdqa4y80-0/sunglass/g/r/t/sahil-khan34-medium-singco-india-original-imafuk9nvghmhz8f.jpeg?q=50',\n",
       " 'https://rukminim1.flixcart.com/image/329/395/k6zda4w0/sunglass/r/d/g/l-chi0096-c1-royal-son-original-imafpbn8etfnzsne.jpeg?q=50',\n",
       " 'https://rukminim1.flixcart.com/image/329/395/jz05rww0/sunglass/z/8/w/m-rs0024dp-sf-royal-son-original-imafjyyjw9jzswkh.jpeg?q=50',\n",
       " 'https://rukminim1.flixcart.com/image/329/395/k9re3rk0/sunglass/f/b/q/m-as-9012-53-14165-aislin-original-imafrhh6kcvjsc5w.jpeg?q=50',\n",
       " 'https://rukminim1.flixcart.com/image/329/395/kerfl3k0-0/sunglass/u/v/4/bk-212-free-singco-india-original-imafvdff2uxx6ved.jpeg?q=50',\n",
       " 'https://rukminim1.flixcart.com/image/329/395/jxqfonk0/sunglass/j/2/n/medium-sunglasses-combo-royal-son-original-imaffytm3hhzjqup.jpeg?q=50',\n",
       " 'https://rukminim1.flixcart.com/image/329/395/jxqfonk0/sunglass/5/f/h/medium-sunglasses-combo-royal-son-original-imaffyuygpkdggtx.jpeg?q=50',\n",
       " 'https://rukminim1.flixcart.com/image/329/395/k0vbgy80/sunglass/j/e/t/m-nw-av-c5-51045-nuvew-original-imafkk5j6shcmwnv.jpeg?q=50']"
      ]
     },
     "execution_count": 118,
     "metadata": {},
     "output_type": "execute_result"
    }
   ],
   "source": [
    "final_brand_images=brand_images+brand_images_second+brand_images_third\n",
    "final_brand_images"
   ]
  },
  {
   "cell_type": "code",
   "execution_count": 120,
   "metadata": {},
   "outputs": [
    {
     "data": {
      "text/plain": [
       "100"
      ]
     },
     "execution_count": 120,
     "metadata": {},
     "output_type": "execute_result"
    }
   ],
   "source": [
    "len(final_brand_images)"
   ]
  },
  {
   "cell_type": "code",
   "execution_count": 121,
   "metadata": {},
   "outputs": [
    {
     "data": {
      "text/html": [
       "<div>\n",
       "<style scoped>\n",
       "    .dataframe tbody tr th:only-of-type {\n",
       "        vertical-align: middle;\n",
       "    }\n",
       "\n",
       "    .dataframe tbody tr th {\n",
       "        vertical-align: top;\n",
       "    }\n",
       "\n",
       "    .dataframe thead th {\n",
       "        text-align: right;\n",
       "    }\n",
       "</style>\n",
       "<table border=\"1\" class=\"dataframe\">\n",
       "  <thead>\n",
       "    <tr style=\"text-align: right;\">\n",
       "      <th></th>\n",
       "      <th>brand</th>\n",
       "      <th>price</th>\n",
       "      <th>image url</th>\n",
       "      <th>description</th>\n",
       "    </tr>\n",
       "  </thead>\n",
       "  <tbody>\n",
       "    <tr>\n",
       "      <th>0</th>\n",
       "      <td>WROGN</td>\n",
       "      <td>₹1,007</td>\n",
       "      <td>https://rukminim1.flixcart.com/image/329/395/k...</td>\n",
       "      <td>UV Protection Aviator Sunglasses (60)</td>\n",
       "    </tr>\n",
       "    <tr>\n",
       "      <th>1</th>\n",
       "      <td>Villain</td>\n",
       "      <td>₹599</td>\n",
       "      <td>https://rukminim1.flixcart.com/image/329/395/k...</td>\n",
       "      <td>Others Wayfarer Sunglasses (Free Size)</td>\n",
       "    </tr>\n",
       "    <tr>\n",
       "      <th>2</th>\n",
       "      <td>SHAAH COLLECTIONS</td>\n",
       "      <td>₹198</td>\n",
       "      <td>https://rukminim1.flixcart.com/image/329/395/k...</td>\n",
       "      <td>UV Protection, Polarized, Mirrored Rectangular...</td>\n",
       "    </tr>\n",
       "    <tr>\n",
       "      <th>3</th>\n",
       "      <td>PIRASO</td>\n",
       "      <td>₹237</td>\n",
       "      <td>https://rukminim1.flixcart.com/image/329/395/k...</td>\n",
       "      <td>UV Protection Aviator Sunglasses (54)</td>\n",
       "    </tr>\n",
       "    <tr>\n",
       "      <th>4</th>\n",
       "      <td>Elligator</td>\n",
       "      <td>₹329</td>\n",
       "      <td>https://rukminim1.flixcart.com/image/329/395/k...</td>\n",
       "      <td>UV Protection Round Sunglasses (54)</td>\n",
       "    </tr>\n",
       "    <tr>\n",
       "      <th>...</th>\n",
       "      <td>...</td>\n",
       "      <td>...</td>\n",
       "      <td>...</td>\n",
       "      <td>...</td>\n",
       "    </tr>\n",
       "    <tr>\n",
       "      <th>95</th>\n",
       "      <td>AISLIN</td>\n",
       "      <td>₹1,045</td>\n",
       "      <td>https://rukminim1.flixcart.com/image/329/395/k...</td>\n",
       "      <td>UV Protection, Mirrored Wayfarer, Rectangular ...</td>\n",
       "    </tr>\n",
       "    <tr>\n",
       "      <th>96</th>\n",
       "      <td>Singco India</td>\n",
       "      <td>₹225</td>\n",
       "      <td>https://rukminim1.flixcart.com/image/329/395/k...</td>\n",
       "      <td>UV Protection, Riding Glasses, Others Aviator,...</td>\n",
       "    </tr>\n",
       "    <tr>\n",
       "      <th>97</th>\n",
       "      <td>ROYAL SON</td>\n",
       "      <td>₹248</td>\n",
       "      <td>https://rukminim1.flixcart.com/image/329/395/j...</td>\n",
       "      <td>UV Protection Wayfarer Sunglasses (55)</td>\n",
       "    </tr>\n",
       "    <tr>\n",
       "      <th>98</th>\n",
       "      <td>ROYAL SON</td>\n",
       "      <td>₹203</td>\n",
       "      <td>https://rukminim1.flixcart.com/image/329/395/j...</td>\n",
       "      <td>UV Protection, Gradient Wayfarer Sunglasses (55)</td>\n",
       "    </tr>\n",
       "    <tr>\n",
       "      <th>99</th>\n",
       "      <td>NuVew</td>\n",
       "      <td>₹398</td>\n",
       "      <td>https://rukminim1.flixcart.com/image/329/395/k...</td>\n",
       "      <td>UV Protection, Mirrored Aviator Sunglasses (58)</td>\n",
       "    </tr>\n",
       "  </tbody>\n",
       "</table>\n",
       "<p>100 rows × 4 columns</p>\n",
       "</div>"
      ],
      "text/plain": [
       "                brand   price  \\\n",
       "0               WROGN  ₹1,007   \n",
       "1             Villain    ₹599   \n",
       "2   SHAAH COLLECTIONS    ₹198   \n",
       "3              PIRASO    ₹237   \n",
       "4           Elligator    ₹329   \n",
       "..                ...     ...   \n",
       "95             AISLIN  ₹1,045   \n",
       "96       Singco India    ₹225   \n",
       "97          ROYAL SON    ₹248   \n",
       "98          ROYAL SON    ₹203   \n",
       "99              NuVew    ₹398   \n",
       "\n",
       "                                            image url  \\\n",
       "0   https://rukminim1.flixcart.com/image/329/395/k...   \n",
       "1   https://rukminim1.flixcart.com/image/329/395/k...   \n",
       "2   https://rukminim1.flixcart.com/image/329/395/k...   \n",
       "3   https://rukminim1.flixcart.com/image/329/395/k...   \n",
       "4   https://rukminim1.flixcart.com/image/329/395/k...   \n",
       "..                                                ...   \n",
       "95  https://rukminim1.flixcart.com/image/329/395/k...   \n",
       "96  https://rukminim1.flixcart.com/image/329/395/k...   \n",
       "97  https://rukminim1.flixcart.com/image/329/395/j...   \n",
       "98  https://rukminim1.flixcart.com/image/329/395/j...   \n",
       "99  https://rukminim1.flixcart.com/image/329/395/k...   \n",
       "\n",
       "                                          description  \n",
       "0               UV Protection Aviator Sunglasses (60)  \n",
       "1              Others Wayfarer Sunglasses (Free Size)  \n",
       "2   UV Protection, Polarized, Mirrored Rectangular...  \n",
       "3               UV Protection Aviator Sunglasses (54)  \n",
       "4                 UV Protection Round Sunglasses (54)  \n",
       "..                                                ...  \n",
       "95  UV Protection, Mirrored Wayfarer, Rectangular ...  \n",
       "96  UV Protection, Riding Glasses, Others Aviator,...  \n",
       "97             UV Protection Wayfarer Sunglasses (55)  \n",
       "98   UV Protection, Gradient Wayfarer Sunglasses (55)  \n",
       "99    UV Protection, Mirrored Aviator Sunglasses (58)  \n",
       "\n",
       "[100 rows x 4 columns]"
      ]
     },
     "execution_count": 121,
     "metadata": {},
     "output_type": "execute_result"
    }
   ],
   "source": [
    "flipkart_sg=pd.DataFrame({})\n",
    "flipkart_sg['brand']=final_brand_names\n",
    "flipkart_sg['price']=final_brand_prices\n",
    "flipkart_sg['image url']=final_brand_images\n",
    "flipkart_sg['description']=final_brand_desc\n",
    "flipkart_sg"
   ]
  },
  {
   "cell_type": "markdown",
   "metadata": {},
   "source": [
    "# Question 7"
   ]
  },
  {
   "cell_type": "code",
   "execution_count": 167,
   "metadata": {},
   "outputs": [],
   "source": [
    "import selenium\n",
    "import pandas as pd\n",
    "from selenium import webdriver\n",
    "import warnings\n",
    "warnings.filterwarnings('ignore')"
   ]
  },
  {
   "cell_type": "code",
   "execution_count": 168,
   "metadata": {},
   "outputs": [],
   "source": [
    "driver = webdriver.Chrome(r\"C:\\Users\\gokula krishnan\\Downloads\\chromedriver_win32\\chromedriver.exe\")"
   ]
  },
  {
   "cell_type": "code",
   "execution_count": 169,
   "metadata": {},
   "outputs": [],
   "source": [
    "url='https://www.flipkart.com/apple-iphone-11-black-64-gb-includes-earpods-power-adapter/p/itm0f37c2240b217?pid=MOBFKCTSVZAXUHGR&lid=LSTMOBFKCTSVZAXUHGREPBFGI&marketplace'\n",
    "driver.get(url)"
   ]
  },
  {
   "cell_type": "code",
   "execution_count": 170,
   "metadata": {},
   "outputs": [],
   "source": [
    "all_review_tags=driver.find_element_by_xpath(\"//div[@class='_3UAT2v _16PBlm']\")\n",
    "all_review_tags.click()"
   ]
  },
  {
   "cell_type": "code",
   "execution_count": 171,
   "metadata": {},
   "outputs": [],
   "source": [
    "page_tags=driver.find_elements_by_xpath(\"//div[@class='_2MImiq _1Qnn1K']/nav//a\")"
   ]
  },
  {
   "cell_type": "code",
   "execution_count": 172,
   "metadata": {},
   "outputs": [],
   "source": [
    "page_urls=[]\n",
    "for i in page_tags[:10]:\n",
    "    page_urls.append(i.get_attribute('href'))"
   ]
  },
  {
   "cell_type": "code",
   "execution_count": 173,
   "metadata": {},
   "outputs": [
    {
     "data": {
      "text/plain": [
       "['https://www.flipkart.com/apple-iphone-11-black-64-gb-includes-earpods-power-adapter/product-reviews/itm0f37c2240b217?pid=MOBFKCTSVZAXUHGR&lid=LSTMOBFKCTSVZAXUHGREPBFGI&marketplace=FLIPKART&page=1',\n",
       " 'https://www.flipkart.com/apple-iphone-11-black-64-gb-includes-earpods-power-adapter/product-reviews/itm0f37c2240b217?pid=MOBFKCTSVZAXUHGR&lid=LSTMOBFKCTSVZAXUHGREPBFGI&marketplace=FLIPKART&page=2',\n",
       " 'https://www.flipkart.com/apple-iphone-11-black-64-gb-includes-earpods-power-adapter/product-reviews/itm0f37c2240b217?pid=MOBFKCTSVZAXUHGR&lid=LSTMOBFKCTSVZAXUHGREPBFGI&marketplace=FLIPKART&page=3',\n",
       " 'https://www.flipkart.com/apple-iphone-11-black-64-gb-includes-earpods-power-adapter/product-reviews/itm0f37c2240b217?pid=MOBFKCTSVZAXUHGR&lid=LSTMOBFKCTSVZAXUHGREPBFGI&marketplace=FLIPKART&page=4',\n",
       " 'https://www.flipkart.com/apple-iphone-11-black-64-gb-includes-earpods-power-adapter/product-reviews/itm0f37c2240b217?pid=MOBFKCTSVZAXUHGR&lid=LSTMOBFKCTSVZAXUHGREPBFGI&marketplace=FLIPKART&page=5',\n",
       " 'https://www.flipkart.com/apple-iphone-11-black-64-gb-includes-earpods-power-adapter/product-reviews/itm0f37c2240b217?pid=MOBFKCTSVZAXUHGR&lid=LSTMOBFKCTSVZAXUHGREPBFGI&marketplace=FLIPKART&page=6',\n",
       " 'https://www.flipkart.com/apple-iphone-11-black-64-gb-includes-earpods-power-adapter/product-reviews/itm0f37c2240b217?pid=MOBFKCTSVZAXUHGR&lid=LSTMOBFKCTSVZAXUHGREPBFGI&marketplace=FLIPKART&page=7',\n",
       " 'https://www.flipkart.com/apple-iphone-11-black-64-gb-includes-earpods-power-adapter/product-reviews/itm0f37c2240b217?pid=MOBFKCTSVZAXUHGR&lid=LSTMOBFKCTSVZAXUHGREPBFGI&marketplace=FLIPKART&page=8',\n",
       " 'https://www.flipkart.com/apple-iphone-11-black-64-gb-includes-earpods-power-adapter/product-reviews/itm0f37c2240b217?pid=MOBFKCTSVZAXUHGR&lid=LSTMOBFKCTSVZAXUHGREPBFGI&marketplace=FLIPKART&page=9',\n",
       " 'https://www.flipkart.com/apple-iphone-11-black-64-gb-includes-earpods-power-adapter/product-reviews/itm0f37c2240b217?pid=MOBFKCTSVZAXUHGR&lid=LSTMOBFKCTSVZAXUHGREPBFGI&marketplace=FLIPKART&page=10']"
      ]
     },
     "execution_count": 173,
     "metadata": {},
     "output_type": "execute_result"
    }
   ],
   "source": [
    "page_urls"
   ]
  },
  {
   "cell_type": "code",
   "execution_count": 174,
   "metadata": {},
   "outputs": [],
   "source": [
    "import time"
   ]
  },
  {
   "cell_type": "code",
   "execution_count": 175,
   "metadata": {},
   "outputs": [
    {
     "data": {
      "text/plain": [
       "['5',\n",
       " '5',\n",
       " '5',\n",
       " '5',\n",
       " '5',\n",
       " '5',\n",
       " '5',\n",
       " '4',\n",
       " '5',\n",
       " '5',\n",
       " '5',\n",
       " '5',\n",
       " '5',\n",
       " '5',\n",
       " '5',\n",
       " '5',\n",
       " '5',\n",
       " '5',\n",
       " '5',\n",
       " '5',\n",
       " '5',\n",
       " '5',\n",
       " '4',\n",
       " '5',\n",
       " '5',\n",
       " '5',\n",
       " '5',\n",
       " '4',\n",
       " '5',\n",
       " '5',\n",
       " '5',\n",
       " '5',\n",
       " '5',\n",
       " '5',\n",
       " '5',\n",
       " '5',\n",
       " '5',\n",
       " '4',\n",
       " '1',\n",
       " '5',\n",
       " '5',\n",
       " '5',\n",
       " '5',\n",
       " '5',\n",
       " '5',\n",
       " '5',\n",
       " '5',\n",
       " '4',\n",
       " '5',\n",
       " '5',\n",
       " '5',\n",
       " '5',\n",
       " '5',\n",
       " '4',\n",
       " '5',\n",
       " '5',\n",
       " '5',\n",
       " '5',\n",
       " '5',\n",
       " '5',\n",
       " '5',\n",
       " '5',\n",
       " '1',\n",
       " '5',\n",
       " '5',\n",
       " '5',\n",
       " '4',\n",
       " '5',\n",
       " '5',\n",
       " '5',\n",
       " '4',\n",
       " '5',\n",
       " '5',\n",
       " '5',\n",
       " '4',\n",
       " '5',\n",
       " '5',\n",
       " '5',\n",
       " '5',\n",
       " '5',\n",
       " '5',\n",
       " '5',\n",
       " '5',\n",
       " '5',\n",
       " '4',\n",
       " '5',\n",
       " '5',\n",
       " '4',\n",
       " '5',\n",
       " '5',\n",
       " '5',\n",
       " '5',\n",
       " '5',\n",
       " '5',\n",
       " '5',\n",
       " '5',\n",
       " '5',\n",
       " '5',\n",
       " '3',\n",
       " '5']"
      ]
     },
     "execution_count": 175,
     "metadata": {},
     "output_type": "execute_result"
    }
   ],
   "source": [
    "ratings_iphone=[]\n",
    "for i in page_urls:\n",
    "    driver.get(i)\n",
    "    time.sleep(5)\n",
    "    ratings_tags=driver.find_elements_by_xpath(\"//div[@class='_3LWZlK _1BLPMq' or @class='_3LWZlK _1rdVr6 _1BLPMq']\")\n",
    "    for i in ratings_tags[:100]:\n",
    "        ratings_iphone.append(i.text)\n",
    "\n",
    "ratings_iphone"
   ]
  },
  {
   "cell_type": "code",
   "execution_count": 176,
   "metadata": {},
   "outputs": [
    {
     "data": {
      "text/plain": [
       "['Brilliant',\n",
       " 'Simply awesome',\n",
       " 'Best in the market!',\n",
       " 'Perfect product!',\n",
       " 'Fabulous!',\n",
       " 'Worth every penny',\n",
       " 'Great product',\n",
       " 'Good choice',\n",
       " 'Worth every penny',\n",
       " 'Highly recommended',\n",
       " 'Highly recommended',\n",
       " 'Perfect product!',\n",
       " 'Perfect product!',\n",
       " 'Classy product',\n",
       " 'Highly recommended',\n",
       " 'Worth every penny',\n",
       " 'Perfect product!',\n",
       " 'Simply awesome',\n",
       " 'Worth every penny',\n",
       " 'Terrific',\n",
       " 'Worth every penny',\n",
       " 'Wonderful',\n",
       " 'Nice product',\n",
       " 'Classy product',\n",
       " 'Perfect product!',\n",
       " 'Brilliant',\n",
       " 'Must buy!',\n",
       " 'Good choice',\n",
       " 'Wonderful',\n",
       " 'Perfect product!',\n",
       " 'Terrific purchase',\n",
       " 'Simply awesome',\n",
       " 'Great product',\n",
       " 'Mind-blowing purchase',\n",
       " 'Terrific purchase',\n",
       " 'Excellent',\n",
       " 'Simply awesome',\n",
       " 'Good quality product',\n",
       " 'Very poor',\n",
       " 'Classy product',\n",
       " 'Perfect product!',\n",
       " 'Must buy!',\n",
       " 'Fabulous!',\n",
       " 'Mind-blowing purchase',\n",
       " 'Mind-blowing purchase',\n",
       " 'Wonderful',\n",
       " 'Great product',\n",
       " 'Very Good',\n",
       " 'Classy product',\n",
       " 'Perfect product!',\n",
       " 'Just wow!',\n",
       " 'Awesome',\n",
       " 'Terrific',\n",
       " 'Pretty good',\n",
       " 'Terrific purchase',\n",
       " 'Awesome',\n",
       " 'Classy product',\n",
       " 'Brilliant',\n",
       " 'Terrific',\n",
       " 'Perfect product!',\n",
       " 'Awesome',\n",
       " 'Perfect product!',\n",
       " 'Very poor',\n",
       " 'Fabulous!',\n",
       " 'Excellent',\n",
       " 'Must buy!',\n",
       " 'Value-for-money',\n",
       " 'Best in the market!',\n",
       " 'Brilliant',\n",
       " 'Terrific purchase',\n",
       " 'Good quality product',\n",
       " 'Best in the market!',\n",
       " 'Perfect product!',\n",
       " 'Awesome',\n",
       " 'Value-for-money',\n",
       " 'Just wow!',\n",
       " 'Super!',\n",
       " 'Classy product',\n",
       " 'Must buy!',\n",
       " 'Mind-blowing purchase',\n",
       " 'Terrific',\n",
       " 'Wonderful',\n",
       " 'Excellent',\n",
       " 'Excellent',\n",
       " 'Nice product',\n",
       " 'Mind-blowing purchase',\n",
       " 'Highly recommended',\n",
       " 'Pretty good',\n",
       " 'Wonderful',\n",
       " 'Worth every penny',\n",
       " 'Fabulous!',\n",
       " 'Mind-blowing purchase',\n",
       " 'Excellent',\n",
       " 'Super!',\n",
       " 'Fabulous!',\n",
       " 'Just wow!',\n",
       " 'Terrific purchase',\n",
       " 'Awesome',\n",
       " 'Decent product',\n",
       " 'Awesome']"
      ]
     },
     "execution_count": 176,
     "metadata": {},
     "output_type": "execute_result"
    }
   ],
   "source": [
    "ratings_summ_iphone=[]\n",
    "for i in page_urls:\n",
    "    driver.get(i)\n",
    "    time.sleep(5)\n",
    "    ratings_summ_tags=driver.find_elements_by_xpath(\"//p[@class='_2-N8zT']\")\n",
    "    for i in ratings_summ_tags[:100]:\n",
    "        ratings_summ_iphone.append(i.text)\n",
    "        \n",
    "ratings_summ_iphone"
   ]
  },
  {
   "cell_type": "code",
   "execution_count": 178,
   "metadata": {},
   "outputs": [
    {
     "data": {
      "text/plain": [
       "['The Best Phone for the Money\\n\\nThe iPhone 11 offers superb cameras, a more durable design and excellent battery life for an affordable price.\\n\\nCompelling ultra-wide camera\\nNew Night mode is excellent\\nLong battery life',\n",
       " 'Really satisfied with the Product I received... It’s totally genuine and the packaging was also really good so if ur planning to buy just go for it.',\n",
       " 'Great iPhone very snappy experience as apple kind. Upgraded from iPhone 7.\\nPros\\n-Camera top class\\n- Battery top performed\\n-Chipset no need to say as apple kind\\n-Security as you expect from apple\\n- Display super bright industry leading colour\\naccuracy and super responsive\\n-Build quality as expect from apple sturdy\\npremium durable beautiful stylish.\\n-Os most stable os in smartphone industry\\n\\nCons\\n-No 5G\\n-Display is not based on OLED technology\\n-Charger headphones and 1 apple stic...\\nREAD MORE',\n",
       " 'Amazing phone with great cameras and better battery which gives you the best performance. I just love the camera .',\n",
       " 'This is my first iOS phone. I am very happy with this product. Very much satisfied with this. I love this phone.',\n",
       " 'Previously I was using one plus 3t it was a great phone\\nAnd then I decided to upgrade I am stuck between Samsung s10 plus or iPhone 11\\nI have seen the specs and everything were good except the display it’s somewhere between 720-1080 and it’s not even an amoled it’s an LCD display\\nBut I decided to go with iPhone because I have never used an IOS device I have Been an android user from the past 9 years I ordered IPhone 11 (128gb) product red\\nMy experience after using 3 weeks\\n1. The delivery ...\\nREAD MORE',\n",
       " 'Amazing Powerful and Durable Gadget.\\n\\nI’m am very happy with the camera picture quality, Amazing face id unlocked in dark room, Strong battery with perfect screen size as you can carry easily in pocket. This is my third iPhone.\\n\\nI shifted from android Samsung Note series to iPhone because of the strong build quality and peace of mind for next 3-4 years.\\n\\nDon’t think to much just go for it and I suggest you to go for minimum 128gb variant or more 256gb.\\n\\nI’ve attached my puppy pics and no fi...\\nREAD MORE',\n",
       " 'So far it’s been an AMAZING experience coming back to iOS after nearly a decade but it’s not as versatile as android though phone is sturdy dropped it accidentally a couple of times and nothing happened fortunately camera is awesome',\n",
       " 'i11 is worthy to buy, too much happy with the product. Thank u flipkart I received the item on time..loved it..',\n",
       " 'iphone 11 is a very good phone to buy only if you can compromise for the display. The display on this is device is pretty good but you can get other options with better displays in this price segment.\\nIf you can survive with an HD+ LCD panel with thicker bezels and a notch up top then this is a very good phone for you.\\nCameras are awesome, battery backup excellent, great performance and a decent premium look. Good job Apple !',\n",
       " 'What a camera .....just awesome ..you can feel this iPhone just awesome . Good for gaming also ...try pubg in hd it’s just wow',\n",
       " 'It’s a must buy who is looking for an upgrade from previous generation of iPhones. If you are using XR then still you can hold on for sometime and upgrade to 2020 model else this phone is a must buy . Camera quality is amazing and wide angle is something to count upon. Performance wise it’s amazing and feels premium while holding in hand. So a big YES for this device. Go for 128 GB variant as the 4K videos will occupy lots of space and the storage can get over very quickly. Try to buy it with...\\nREAD MORE',\n",
       " 'Value for money❤️❤️\\nIts awesome mobile phone in the world ...\\nDisplay was very good and bright ..\\nTrust me freinds you r never regret after Buying..\\nJust go for it....\\nI love this phone and i switch to iphone x to 11',\n",
       " 'Totally in love with this ❤ the camera quality is amazing just love it 😘😘😘 itsss dammnnnnnn amazing... Must buy iPhone 11 this is my best experience ever ☀👌👌🧡🧡🧡🧡🧡 thanku apple ❤',\n",
       " \"It's my first time to use iOS phone and I am loving my upgradation 😍😍 I love the color, I love the assebility of the phone....I need to learn more about its functionality, but as far as I have seen, it's quite easy and it has a lot of functions to work on, specially if you are a content writer or a blogger you get a lot of content creation platforms and they are really amazing.\\n\\nThis phone not only for good quality photography but a lot of other task too.😍💯\",\n",
       " 'Best budget Iphone till date ❤️ go for it guys without second thought. Let me explain you guys about Camera, Display, battery, and performance.\\n\\nCamera: at this price range there is no comparison of camera, you’ll love the picture quality as well as video quality. I am a Vlogger I wanted an iPhone with 4k video by front camera and I got this phone and I am more than happy 😃\\n\\nBattery: I use this phone roughly as I am active social media person and I have a youtube channel. so the battery ba...\\nREAD MORE',\n",
       " \"Iphone is just awesome.. battery backup is very very nice.. continuously for 10 hours we can use it.camera is just awesome.. display is just fab.i love it alot..i had to wait 15 days for it as i pre ordered it..overalll it's worth the price..these all images are clicked by my iPhone..and i love it.\",\n",
       " 'Excellent camera, good performance, no lag. The lcd display is also good.. but difference come when we watch movie in prime and Netflix, the colours are not vibrant.. as we see in amoled display.. and the charger in box is of 5 watts.. takes more than 3 hours to charge from 0 to 100.. so guys be prepare to buy 18 watts charger . Finally I am an android user, it was my first Iapple phone, I promise u guys the iOS is so smooth.. overall the phone is damn good.... close eyes to buy it.. thanks t...\\nREAD MORE',\n",
       " 'It’s been almost a month since I have been using this phone. I upgraded from an iPhone 8. The main issue with my 8 was battery and this phone is just awesome when it comes to battery. It lasts a day and a half for me with my regular use , internet connected always with 4g\\nCan’t move forward without saying this. Battery of this phone is a life saver when I am traveling or at work when I don’t get the option to charge\\nCamera is superb. Front cam selfies and back cam photos are just awesome.\\n...\\nREAD MORE',\n",
       " 'Really worth of money. i just love it. It is the best phone ever.',\n",
       " 'Smooth like butter, camera like fantabulous, sound is crystal clear & its red color is damn attractive, i am just loving it. Must buy if you love photography.\\n\\nLucky to get it in sale, thank you Flipkart.',\n",
       " 'This is my first ever I phone. Before this I was using my google nexus 5. But moving from android to iOS is a great experience. It’s worth at this price. I will highly recommend it if you want to move to iOS. The best part of this phone is it’s camera and it’s battery life. This two things have won my heart. I loved it. Happy to have it in my hand. Still exploring its features. And can’t forget to mention Flipkart service. Very prompt service and fast delivery.',\n",
       " 'Awesome Phone. Slightly high price but worth. Better than iPhone XR.\\nCamera is superb and wide angle camera is very clear.\\n12MP selfie camera is also very good.\\nA13 Chip gives a very good and smooth performance.',\n",
       " 'Superb Product !!!\\nA big and worthy upgrade from mi 3S to iphone 11 .\\nTotally loved it !',\n",
       " 'Battery backup is extraordinary, camera is decent & performance offered by A13 bionic is awsome. The display is good in practical usage like the visibility of display is very good in direct sun light compare to pro models. Iam extremely satisfied for the money I spent.',\n",
       " 'I have migrated from OP 7pro... and trust me, iPhone 11 is totally worth it.. following are the reasons:-\\n1)there is ABSOLUTELY NO ISSUE WITH THE DISPLAY... its crisp, sharp and I found it to be much much better than OP7 pro. Netflix, Prime video all run crisply... you won’t miss a thing. True Tone works flawlessly...the display brightness is perfect. OP have not calibrated their screens properly.\\n2) iPhone 11 series have really good cameras... others have spoken in depth about them.\\n3) bat...\\nREAD MORE',\n",
       " 'It’s an amazing product from apple and the camera is simply superb. Phone is faster.Night shot is simply superb and detailing and colour differentiation from camera is an added advantage\\n\\nThis review I have written from iPhone 11 only and I am glad to say outside.\\n\\nCons wise if we see HD+ display only, no battery percentage indicator as in older iPhone 8.\\nNo assistive touch control button in it\\nNo oleophobic coating on back panel glass and finger prints are visible but since I bought mint gr...\\nREAD MORE',\n",
       " 'Looking so good 👍 😍 super 👌 stylish 😎 phone\\nClean box 📦 good 👍 delivery 👌 fast delivery\\nOriginal box Original iphone 📱 👌 😍😍😍',\n",
       " 'I just directly switch from iphone 6s to iphone 11 .The best premium smartphone I recommend to everyone. Excellent quality and colors the iphone have in 11 series.\\nCamera quality is just awesome and the major feel when we hold in our hands. The sound quality and volume is also higher then the previous models.\\nI will recommend to buy iphone 11 instead of pro models , there is nothing much difference as this model contains everything which fulfill our needs.\\n\\nOnly one thing that I dislike abo...\\nREAD MORE',\n",
       " 'After 1 month use I found camera quality best compared to my previous Samsung note 10+.Display not good as note 10 also charging too slow.Apple should add fast charger like 11 plus and pro.Best phone for daily use',\n",
       " 'Upgraded from iphone 6 to 11 best phone for iphone users battery is much better than other iphones camera is awesome love to use it.camera is so clear in night.',\n",
       " \"It's very high performances devise i am like the service of flipkart delevary very fast and packing very nice perfect phone\",\n",
       " 'Well you all know the specifications . One of a kind. Best iPhone till date. Many enhancements to the camera app with many options. Love the glass body with matte finish in the lens area on the back. Lovely colours to choose from. Best battery in an iPhone till date, enough to last more than a day in normal usage. I tested my iPhone 11 battery and lasted for than 24 hours after full charge still with 30% battery charge left. Watched movies for some time. Normal usage on calls, browsing, musi...\\nREAD MORE',\n",
       " 'This will help you more. See if you are planning to buy iPhone 11. I will say. Yes. But there are some plans I just want to disclose before you buy. 1) If you are an existing iPhone X/XS/XS Max/ XR user, better you guys do not think it to buy. You guys have more or less better gadget. 2) If you are an android user and planning to buy premium phone. I will suggest them to please buy iPhone instead of buying an Android. I bet you will never go back to android after using IOS. Now I want to shar...\\nREAD MORE',\n",
       " 'The built quality is not very premium.\\nThe battery back is great .\\nThe LCD panel is not so sharp but the brightness level is very High .\\nCamera is super duper awesome.\\nThe red colour which people think is bright is actually very soothing and excellent colour to choose from .\\nThe A13 Bionic chip is really a flagship processor and can beat any phone which even has 12 gb ram .\\nCamera module is very great and looks very stylish.',\n",
       " 'Amazing camera and feel super machine I am not describe my feeling but this is amazing Phone I am so lucky I have this',\n",
       " 'Really good actually this is my first apple product am using its really awesome performance wise excellent. Am really happy with this iphone11',\n",
       " 'it is very good at performance. Camera is best like before and very smooth response even in water. Don’t buy 12 mini buy iPhone 11 , it is far better than 12 mini believe me ! Have a nice day \\uf8ff ☺️',\n",
       " 'Reviewing again after 5 months. At the beginning the battery and performance was good but it degraded soon. Also I was facing heating issues. The mobile will heat up like a stove sometimes. You cannot even play Pubg even in low settings properly, performance is not a problem but heating is. Also if you play that game for 10 mins the brightness will be automatically down due to over heating even when the auto brightness is set to off. This will not be solved even if u manually increase the bri...\\nREAD MORE',\n",
       " 'We are on apple ecosystem for almost eight years now with couple of iPads and iPhones, including Xr.\\n\\nBought iPhone 11 as a gift to my daughter who loves it. We chose for a purple coloured one. Believe me it is gorgeous and towards the lighter shade. Dazzling and brilliant!\\n\\nThe phone is great and does excellent RAM management like any other Apple device.\\n\\nThe screen, though a LCD and lesser ppi as compared to other flagship phones of competitor brands, is a delight to watch with perfect re...\\nREAD MORE',\n",
       " 'It is just awesome mobile for this price from Apple,\\n\\nAfter 10 days review\\n\\nBattery enough for 1 day even 24*7 Internet will be on and mostly internet usage\\n\\nCamera is just awesome cool , android 64 MP is equal to this just 12 MP\\n\\nA13 Bionic chip will give more high performance without hanging\\n\\nAudio stereo speakers will give Dolby atoms sound with crystal clear\\n\\nVideo recording is like cinematic shots of every sec can be a 4K 60fps. Just awesome this phone\\niPhone 11 loved one',\n",
       " 'Best Apple iPhone that i have bought at a very reasonable price, camera quality is next level just awesome n of superior quality android phones not even close(RIP) to that and also battery is really good but packaging by Flipkart of iPhone was very poor of such a expensive product, firstly im bit worried about the quality of product if i purchased it through online how was the product but i think now this was mine best decision to bought it through Flipkart online because i got genuine Apple...\\nREAD MORE',\n",
       " \"I can say I'm damn impressed with iPhone 11. As they says iPhone 11 have the toughest glass ever in the smartphone which you'll find on the front and back and it's totally smooth. The fit and finish is full apple quality - there's no sense that any cheaping out has happened in the construction. Without saying it's camera features this review won't complete. The iPhone 11 has a dual camera system, consisting of a wide angle len's that's pretty much same as found on the iPhone XR last year, but...\\nREAD MORE\",\n",
       " 'Best Quality Product OF iPhone Series , Sound Quality & Camera quality is very awesome, Battery Life is very Sufficient for 24 hr Backup With Full Internet Access , I love this this Product too much , It is very fast & making me Very fast in all my daily Routine\\nHighlights;\\n1.Camera: 5 STAR\\n2.Video Recording: 5 star\\n3.Night mODE sHOOTING & Camera:4 star\\n4. Audio Quality: Awesome\\n5. Battery : 5 Star\\n6. Touch:5 Star\\n7. Processor: Very Fast\\nThe M...\\nREAD MORE',\n",
       " 'First thanks to Flipkart for this amazing deal and phone is outstanding. I upgraded from iPhone 7 and this is like very big upgrade. But the packaging was very basic I expected a good packaging as they only wrapped one layer of bubble wrap which I don’t think is enough to protect this expensive phone. And I recommend this phone and seller as well.\\n\\nAnd I’m posting this review after using it for 4 days.',\n",
       " 'Superfast delivery by Flipkart. Thanks.\\n\\n1. iPhone 11 is a pretty solid phone for the money you are paying.\\n2. All the bad reviews about the display is confusing. It’s not that bad.\\n3. I switched from a Oneplus 7t. I have no complaints about the display quality of iPhone. Yes, it’s not OLED, so, we are missing on the deep blacks. But that’s it. It is a very colour accurate display. Gets adequately bright and I could not find any pixelation.\\n4. Performance is one of the best, if not best, in ...\\nREAD MORE',\n",
       " \"Again back to apple iphone after a gap of 2-3 years. It's pleasure to use iOS and the quality product by Apple. Iphone 11 still works like a beast in 2021 also. It really capable of doing day to day usage as well as hard core gaming. Battery is awesome. I'm really too much satisfied with it. Apart fto the very gorgious IPS LCD (AMOLED will be better) everything is mind boggling. Iphone💕.\",\n",
       " 'impressive super phone and best in class camera ,sound and face unlock is super fast just see and phone is unlock and fast in daily apps use',\n",
       " 'Well while switching from android to iOS the first thing you need to be careful about is that you will loose all your whatsapp chat backups as both are different operating systems. Camera clarity is awesome and though being an lcd screen clarity and resolution is good. Battery backup is also good unlike previous gen iPhone. So far the experience is good will Padre after a few months of usage.\\n\\nP.S the black is more of a dark grey shade and not jet black',\n",
       " 'In love with this iphone great performance,camera ,battery everything. Go for it have a uncompareble battery backup, no doubts in iPhone camera here You can see the picture which is shot on my iPhone In love with this iphone great performance,camera ,battery everything. Go for it have a uncompareble battery backup, no doubts in iPhone camera here You can see the picture which is shot on my iPhone In love with this iphone great performance,camera ,battery everything. Go for it have a uncompare...\\nREAD MORE',\n",
       " 'Best in class. Battery backup is good especially when you play games like Pubg COD. But it is sort of heavy when you hold in hands. Portrait mode is best to click pictures. Stage light effect is awesome. Try to click photos outside in nature because photos inside home or room will not give you the quality in any phone even in DSLR.',\n",
       " 'Very excited to have this phone. This phone has the real power unlike the android phones having SD 855 . The battery life is very good and the camera quality is excellent as comapred to redmi and other phones except google pixel. I M enjoying every single bit of it. Would recommed only if you have the budget.',\n",
       " \"I upgraded (downgraded?) from my iPhone X since the phone fell down and I didn't want to repair the screen. The box that the phone came in was super slim and I was worried that there'd be no 5W charger with it and my fears were confirmed. However, thankfully I had the 18W USB-C PD charger from Apple which I bought for my iPhone X and it worked perfectly. The charging time is as lethargic as ever though and it takes about 1:30 mins or even 2 hours depending on charge remaining. I'll list some ...\\nREAD MORE\",\n",
       " 'I was using Iphone 6s and also Oneplus 6t. Both mobiles were perfectly alright in Photos, gaming, and smooth interface . My 6s mobile getting battery issue. thought upgrade to 11. Really like this mobile of its Internal storage (compare to 6s) , camera and its touch feeling. Its a worth buying mobile for me.',\n",
       " 'Its Very awesome product working and good camera quality and all about best product and also flipkart is very great deal and offer nice price',\n",
       " 'I am using this phone for 5 days and its one of the best camera out there ❤️ the screen is not oled and i am coming from iphone xs so its little bit not up to the mark i would say\\nBut overall value for money💕😍the battery back up is far better than my iphone xs and its worth in my apple ecosystem💫❤️if u are an apple User and have the eco system then go for it❤️though i will be getting the new iphone but its pretty good💫',\n",
       " 'Best and amazing product.....phone looks so premium.... battary is also good as expected .... Wide angle camera is so addictive ...if you are a IOS lover....then this phone will be the best choice for you all!!💯🔥',\n",
       " 'Excellent camera and display touching very nice and smooth very improvement against iPhone XR and new processor is very fast',\n",
       " \"I got this beast today. And I must say the picture quality of its camera is awesome. Both the cameras works fine.\\n\\nAs for as the processing is concerned, it runs without any lag. You can play and do whatever you want without a glitch.\\n\\nThe battery runs for a day with medium and high workload.\\n\\nThe display is good and the speakers are working fine.\\n\\nThe earphones doesn't have any base and you can use it for calling mostly.\\n\\nThe charging time is approximately for 90 minutes for full charging...\\nREAD MORE\",\n",
       " 'Awesome purchase. Amazing phone with good battery backup. It’s a top notch device. White colour looks amazing. Phone has a few extra feature than iPhone XR. Overall, this is value for money',\n",
       " 'Always love the apple products, upgraded from old iPhone 6S plus to this after having my first baby. I just love to click baby’s photos with it. Overall I just love this phone. Battery back up is okay, sound quality is good. Haven’t tested yet waterproof yet. Only one thing I hate is apple could have given charger & headphones in box.',\n",
       " 'Value for money\\n5 star rating\\nExcellent camera\\nBattery backup full day in single charge.\\n\\nTougher and water resistant design, glossy back.\\nThe screen has excellent brightness and contrast.\\nApple A13 Bionic is the fastest smartphone chip on the planet.\\nExcellent battery life, fast charging support.\\nStereo speakers with great quality.',\n",
       " 'Please DONT buy from here,\\n\\nI purchased Apple iPhone 11. with an exchange of IPhone 7, the exchange did not go well, iPhone 7 had a small scratch out side screen which i could never identify till date, but the FLIPKART person could, so he reduced 50% from exchange rate. I decided not to trade in, but paid money.\\n\\niPhone 11 Detail Below\\n---------------------------------------------\\nIt came with no charging, then i have put for charging, it took lot of time for charging, the phone also showe...\\nREAD MORE',\n",
       " 'awesome phone to have. it has got many smart features apart from mind blowing looks, camera, display, battery and sound. have fallen in love with this phone. must buy phone if you have got enough money. thanks to flipkart and apple of course..',\n",
       " 'Its a fabulous mobile look awesome performance unbeaten camera like dslr battery good i think this is a beast of mobile',\n",
       " 'Dear friends... I want to share my experience with you about this amazing I phone 11....this is my first iPhone and special things about this mobile is it has great camera, battery backup and awesome display.... I mean everything is perfect.loved it 👍👍👍',\n",
       " \"Just got this iphone 11\\nAnd it is most powerful mobile phone I have used ever\\n\\nSo,go for it if you want a phone with best specification like camera,battery backup,display, A13 bionic chip\\n\\nThat's my review about this phone but yours can be differ from me....\",\n",
       " \"The best all rounder iphone. Flipkart is doing a great job. They're delivery services are blazing fast. I got delivery on the same day. Genuine Apple Product. Working great. Talking about review There's no need of review for iphones. They're simply the best.\",\n",
       " 'Amazing phone and on great deal I received with super fast delivery by Flipkart...',\n",
       " 'finally an iPhone with very nice battery backup. update from iPhone 7 and happy to have it. camera is not up to the mark in low light but overall a recommended phone if your budget allows 😀',\n",
       " \"I'm switching this phone to oppo reno 10x zoom\\nIt's really impressive\\nRarely I'm missing smooth display touch response like oppo reno but\\nI really loved it.\\nCamera really impressive\",\n",
       " 'Damn this phone is a blast . Upgraded from android to ios and is a duperb experience. Battery backup is top notch and display also pretty good',\n",
       " 'Worth the money’ starting first from its performance it beats out all phones , second the smoothness of camera is awesome, contrast ratio is much than expected. Price will not matter if u r a quality person, if not other phones are available with better discount',\n",
       " 'I dreamt about this day from a long time.... Getting an iPhone with my own money.... Super happy and worth spending every penny',\n",
       " \"I'm Really happy with the product\\nDelivery was fast as well\\n..it was a gift for my sister and she loved it so much.\",\n",
       " 'Great iphone.\\nI am writing this review after 2 months of usage.\\nCamera is excellent, especially the nightmode\\nDisplay perfect\\nBattery backup awesome\\nSound quality very good\\nOverall Apple gives you a perfect iphone in this range.\\nReally in love with iPhone 11',\n",
       " 'Did an upgrade from 6s plus to iphone 11.\\nAo far the experience is well and good. Felt smoother than 6s plus. The camera quality is superb. Battery backup is descent. Not a heavy user, and gets power more than a day. Go for it if you need an alrounder iphone in a competitve price.',\n",
       " 'Gifted my man on his 30th birthday 🎂 He loves it.. Him happy so i am more than happy 😍😘❤️🥰',\n",
       " 'I rate this product 5* as it has got amazing user experience with the best performing A13 bionic processor. The screen responds and graphics rendering is top notch. With casual gaming and internet browsing, the battery lasts for approx. 1 day. Camera is very good. You will fall in love with the portrait mode. You can call me a loyal Apple customer or whatever but I won’t stop praising the products and overall experience. That user experience matters and is worth every penny you pay.\\n\\nBelow ar...\\nREAD MORE',\n",
       " 'awesome Phone Smooth Touch Too good Sexyy looks one word Awesome',\n",
       " 'I bought iPhone 11 On March 2021, And I am Writing this review after using the phone for 4 Months. I would Say Everything is fine, Top Performance, Nice Camera as Anyone would Expect from any series of iPhone but when the Question comes to Battery it is complicated. The Battery is fully optimised and it comes 3110 mAh capacity but the problem is with the charger. Honestly Apple Removed charger from in Box items in the name of Environment and they are also forcing us to buy any 20W PD 3rd part...\\nREAD MORE',\n",
       " 'Super and marvellous phone look very cute and nice sound. I love this phone i think white is good colur.Excellent camer 5*😍😘♥️♥️',\n",
       " \"It was amazing experience for me. Honestly i am using iPhone first time so I don't have that much past experience about that. But after using 7 days this mobile i want to give some honest feedback.\\n1- Display 9 out of 10\\n2- Camera 9.5 out of 10\\n3- Battery 7 out of 10\\n4- Performance 9.5 out of 10\\n5- Features & Functions 10 out of 10\\n6- Outer looks and colour 10 out of 10\\nRest i think i will understand after using this for few months.\\nI will highly recommend you guys if you have budget then you...\\nREAD MORE\",\n",
       " \"Just go for it.\\nThis phone is really amazing. I ordered it for my wife and we click photos on this thing which are better than dslr. I own OnePlus 6t but it's camera sucks. iPhone is really amazing when it comes to camera. It's worth spending 50k on this. Cons- only display is lcd. While using u don't feel it but if u compare with other phone then u can see difference quite easily.\\nChanging from Android to iphone is bit difficult coz most of things u don't know but I liked it. Some of the a...\\nREAD MORE\",\n",
       " \"If you are looking for a premium phone under 55k, this is the one for you.Got the iPhone 11 during the Republic day sale. Performance is top notch in this price range. Camera's do a perfect job in taking good quality photos and videos. Battery backup too is satisfactory. Writing this review after using for a week. Any further observations would be updated.\",\n",
       " 'Absolutely powerful gadget. Loved it’s look! Soo glassy and classy. I would definitely recommend this model of Apple. Only disappointed with the 5W charger, one should purchase an 18W adapter for fast charging. Though battery backup is great. Bought it in September 2020, reviewing after so long so I’m gonna put the genuine review here.✅',\n",
       " 'Thanks Flipkart For this amazing deal! I had a dream of owning a iphone since i had known about.\\nIm very happy with my purchase & it is totally worth it.\\nAmazing experience all over !!\\n\\nAnyone who’s thinking of buying it in 2021, i would simply say go for it without any second thoughts ❤️',\n",
       " \"I've used this phone for over a month now and here are my takeaways.\\nI would like to first talk about the best things about this phone and then the cons of it.\\n\\nPros:\\nThis phone is a performance beast. It handles large games and applications effortlessly and you won't find any stutters or lags while playing graphic intensive games like pubg, cod , mortal kombat and asphalt.\\n\\nThis phone has only 4gb ram and yet the ram management is amazing, it can keep 3 heavy games in memory without reload...\\nREAD MORE\",\n",
       " 'Nice value for money good and best price I phone mind blowing camera processor very fast other android mobile I am happy India top selling phone 2020',\n",
       " 'Undoubtedly Iphone 11 is the most successful model till now and its performance is extraordinary and the security features are very impressive, display is more vibrant sound quality Camera Quality 5*****, but Iphone should add accessories too and act like scrooge.',\n",
       " 'I purchased the iPhone 11 a month back. I must say Apple has impressed me yet again . I have been an Apple user for past 5 years . The phone is power packed with amazing features . What impressed me the most was the battery backup the phone offers . Battery can easily run upto 1.5 days in single charge with moderate to\\nHeavy usage . If you’re looking for a value for money device , I don’t see any other phone in the price range which can match the iPhone 11 .\\nOne thing I didn’t like was that ...\\nREAD MORE',\n",
       " 'Excellent camera 📸 And Display touching very Nice And Smooth and very improvement against\\nI phone 11 and new processor is very fast',\n",
       " 'A perfect phone and a good battery super camera and the sound is dynamic overall the phone is perfect for upgrading from lower iPhone model to iPhone 11',\n",
       " 'This is my first ever iPhone.\\nAnd I truly don’t regret switching to IOS from my Android.\\n\\nIt is easily an alternative to a DSLR camera.\\nIf you’re obsessed with photos and videos, just don’t think twice or don’t compare to other androids(Samsung S10 lite or OnePlus 8/8T), as it’s far better from them in every field.\\nComparing will only make you confused.\\n\\nI am getting an average Screen on Time of around 10 hours with 30 percent left. I haven’t let my device discharged below 30 % as it aff...\\nREAD MORE',\n",
       " 'Everything is perfect pictures come out so clearly and at first I wasn’t sure when I got it then when I started to use it and get the hang of it it was amazing!! I can’t wait to see what the next future phones will be like. The screen display on this bad boy are unbelievable they are so clear and never fail me. The performance is super cool there is a lot of cool features as well I like this phone because I feel that it is easy to use and one of my favorite things about this phone is the Face...\\nREAD MORE',\n",
       " 'The ultimate performance\\nCamera is superb\\nThe battery backup also very good i never saw iphone gives this much of battery backup\\nIf any one wana buy iphone 11 definitely i will recommend this mobile\\nIt has the better battery and powerfull processer peak performance glorious camera and the display also 100% high quality lcd display if u had money for for 12 if u dont wana invest much money on that then go for iphone 11 it has maximum same specs only main difference between the 12 and 11 is...\\nREAD MORE',\n",
       " 'I use a Note10+ and have been using both iOS and Android devices.\\n\\nCamera has really good features and portraits are super good, better than Samsung flagship. Overall camera setup can still be enhanced and hopeful for better upgrades on software in next release\\n\\nOperating system is quite a breeze and user experience of daily usage is very high as compared to Android. I moved to iOS very swiftly in 2 days for all my office work from Note10+\\n\\nBattery holds up quite well with 4 hrs of call and ...\\nREAD MORE',\n",
       " 'The phone is completely good\\nAs far as camera Apple is king of it\\nAnd its a beast in performance\\nAnd the battery is pretty good too',\n",
       " 'Everything u ll like it when u use this iPhone. Simple changes only not many to lower models but it’s nice to use. Little heavy compared to previous models like 7,8',\n",
       " 'Can’t beat the software and hardware integration of apple.\\nPerforms like a beast. Great quality camera\\n6-7 hours screen on time which is good. Nothing much to complaint about the screen. Good connectivity speeds.\\nGreat buy and Flipkart’s delivery top notch as usual']"
      ]
     },
     "execution_count": 178,
     "metadata": {},
     "output_type": "execute_result"
    }
   ],
   "source": [
    "full_review_iphone=[]\n",
    "for i in page_urls:\n",
    "    driver.get(i)\n",
    "    time.sleep(5)\n",
    "    full_review_tags=driver.find_elements_by_xpath(\"//div[@class='t-ZTKy']\")\n",
    "    for i in full_review_tags[:100]:\n",
    "        full_review_iphone.append(i.text)\n",
    "\n",
    "full_review_iphone"
   ]
  },
  {
   "cell_type": "code",
   "execution_count": 179,
   "metadata": {},
   "outputs": [
    {
     "data": {
      "text/html": [
       "<div>\n",
       "<style scoped>\n",
       "    .dataframe tbody tr th:only-of-type {\n",
       "        vertical-align: middle;\n",
       "    }\n",
       "\n",
       "    .dataframe tbody tr th {\n",
       "        vertical-align: top;\n",
       "    }\n",
       "\n",
       "    .dataframe thead th {\n",
       "        text-align: right;\n",
       "    }\n",
       "</style>\n",
       "<table border=\"1\" class=\"dataframe\">\n",
       "  <thead>\n",
       "    <tr style=\"text-align: right;\">\n",
       "      <th></th>\n",
       "      <th>rating</th>\n",
       "      <th>review summary</th>\n",
       "      <th>full reveiew</th>\n",
       "    </tr>\n",
       "  </thead>\n",
       "  <tbody>\n",
       "    <tr>\n",
       "      <th>0</th>\n",
       "      <td>5</td>\n",
       "      <td>Brilliant</td>\n",
       "      <td>The Best Phone for the Money\\n\\nThe iPhone 11 ...</td>\n",
       "    </tr>\n",
       "    <tr>\n",
       "      <th>1</th>\n",
       "      <td>5</td>\n",
       "      <td>Simply awesome</td>\n",
       "      <td>Really satisfied with the Product I received.....</td>\n",
       "    </tr>\n",
       "    <tr>\n",
       "      <th>2</th>\n",
       "      <td>5</td>\n",
       "      <td>Best in the market!</td>\n",
       "      <td>Great iPhone very snappy experience as apple k...</td>\n",
       "    </tr>\n",
       "    <tr>\n",
       "      <th>3</th>\n",
       "      <td>5</td>\n",
       "      <td>Perfect product!</td>\n",
       "      <td>Amazing phone with great cameras and better ba...</td>\n",
       "    </tr>\n",
       "    <tr>\n",
       "      <th>4</th>\n",
       "      <td>5</td>\n",
       "      <td>Fabulous!</td>\n",
       "      <td>This is my first iOS phone. I am very happy wi...</td>\n",
       "    </tr>\n",
       "    <tr>\n",
       "      <th>...</th>\n",
       "      <td>...</td>\n",
       "      <td>...</td>\n",
       "      <td>...</td>\n",
       "    </tr>\n",
       "    <tr>\n",
       "      <th>95</th>\n",
       "      <td>5</td>\n",
       "      <td>Just wow!</td>\n",
       "      <td>The ultimate performance\\nCamera is superb\\nTh...</td>\n",
       "    </tr>\n",
       "    <tr>\n",
       "      <th>96</th>\n",
       "      <td>5</td>\n",
       "      <td>Terrific purchase</td>\n",
       "      <td>I use a Note10+ and have been using both iOS a...</td>\n",
       "    </tr>\n",
       "    <tr>\n",
       "      <th>97</th>\n",
       "      <td>5</td>\n",
       "      <td>Awesome</td>\n",
       "      <td>The phone is completely good\\nAs far as camera...</td>\n",
       "    </tr>\n",
       "    <tr>\n",
       "      <th>98</th>\n",
       "      <td>3</td>\n",
       "      <td>Decent product</td>\n",
       "      <td>Everything u ll like it when u use this iPhone...</td>\n",
       "    </tr>\n",
       "    <tr>\n",
       "      <th>99</th>\n",
       "      <td>5</td>\n",
       "      <td>Awesome</td>\n",
       "      <td>Can’t beat the software and hardware integrati...</td>\n",
       "    </tr>\n",
       "  </tbody>\n",
       "</table>\n",
       "<p>100 rows × 3 columns</p>\n",
       "</div>"
      ],
      "text/plain": [
       "   rating       review summary  \\\n",
       "0       5            Brilliant   \n",
       "1       5       Simply awesome   \n",
       "2       5  Best in the market!   \n",
       "3       5     Perfect product!   \n",
       "4       5            Fabulous!   \n",
       "..    ...                  ...   \n",
       "95      5            Just wow!   \n",
       "96      5    Terrific purchase   \n",
       "97      5              Awesome   \n",
       "98      3       Decent product   \n",
       "99      5              Awesome   \n",
       "\n",
       "                                         full reveiew  \n",
       "0   The Best Phone for the Money\\n\\nThe iPhone 11 ...  \n",
       "1   Really satisfied with the Product I received.....  \n",
       "2   Great iPhone very snappy experience as apple k...  \n",
       "3   Amazing phone with great cameras and better ba...  \n",
       "4   This is my first iOS phone. I am very happy wi...  \n",
       "..                                                ...  \n",
       "95  The ultimate performance\\nCamera is superb\\nTh...  \n",
       "96  I use a Note10+ and have been using both iOS a...  \n",
       "97  The phone is completely good\\nAs far as camera...  \n",
       "98  Everything u ll like it when u use this iPhone...  \n",
       "99  Can’t beat the software and hardware integrati...  \n",
       "\n",
       "[100 rows x 3 columns]"
      ]
     },
     "execution_count": 179,
     "metadata": {},
     "output_type": "execute_result"
    }
   ],
   "source": [
    "flipkart_i11=pd.DataFrame({})\n",
    "flipkart_i11['rating']=ratings_iphone\n",
    "flipkart_i11['review summary']=ratings_summ_iphone\n",
    "flipkart_i11['full reveiew']=full_review_iphone\n",
    "\n",
    "flipkart_i11"
   ]
  },
  {
   "cell_type": "markdown",
   "metadata": {},
   "source": [
    "# question 8"
   ]
  },
  {
   "cell_type": "code",
   "execution_count": 180,
   "metadata": {},
   "outputs": [],
   "source": [
    "import selenium\n",
    "import pandas as pd\n",
    "from selenium import webdriver\n",
    "import warnings\n",
    "warnings.filterwarnings('ignore')"
   ]
  },
  {
   "cell_type": "code",
   "execution_count": 181,
   "metadata": {},
   "outputs": [],
   "source": [
    "driver = webdriver.Chrome(r\"C:\\Users\\gokula krishnan\\Downloads\\chromedriver_win32\\chromedriver.exe\")"
   ]
  },
  {
   "cell_type": "code",
   "execution_count": 182,
   "metadata": {},
   "outputs": [],
   "source": [
    "url='https://www.flipkart.com/'\n",
    "driver.get(url)"
   ]
  },
  {
   "cell_type": "code",
   "execution_count": 183,
   "metadata": {},
   "outputs": [],
   "source": [
    "search_btn=driver.find_element_by_xpath(\"//input[@class='_3704LK']\")\n",
    "search_btn.send_keys(\"sneakers\")"
   ]
  },
  {
   "cell_type": "code",
   "execution_count": 184,
   "metadata": {},
   "outputs": [],
   "source": [
    "search_btns=driver.find_element_by_xpath(\"//button[@class='L0Z3Pu']\")"
   ]
  },
  {
   "cell_type": "code",
   "execution_count": 185,
   "metadata": {},
   "outputs": [],
   "source": [
    "search_btns.click()"
   ]
  },
  {
   "cell_type": "code",
   "execution_count": 186,
   "metadata": {},
   "outputs": [],
   "source": [
    "page_tags=driver.find_elements_by_xpath(\"//div[@class='_2MImiq']/nav//a\")"
   ]
  },
  {
   "cell_type": "code",
   "execution_count": 188,
   "metadata": {},
   "outputs": [
    {
     "data": {
      "text/plain": [
       "['https://www.flipkart.com/search?q=sneakers&otracker=search&otracker1=search&marketplace=FLIPKART&as-show=on&as=off&page=1',\n",
       " 'https://www.flipkart.com/search?q=sneakers&otracker=search&otracker1=search&marketplace=FLIPKART&as-show=on&as=off&page=2',\n",
       " 'https://www.flipkart.com/search?q=sneakers&otracker=search&otracker1=search&marketplace=FLIPKART&as-show=on&as=off&page=3']"
      ]
     },
     "execution_count": 188,
     "metadata": {},
     "output_type": "execute_result"
    }
   ],
   "source": [
    "page_urls=[]\n",
    "for i in page_tags[:3]:\n",
    "    page_urls.append(i.get_attribute('href'))\n",
    "page_urls"
   ]
  },
  {
   "cell_type": "code",
   "execution_count": 191,
   "metadata": {},
   "outputs": [],
   "source": [
    "import time"
   ]
  },
  {
   "cell_type": "code",
   "execution_count": 194,
   "metadata": {},
   "outputs": [
    {
     "data": {
      "text/plain": [
       "['pollachief',\n",
       " 'TR',\n",
       " 'Chevit',\n",
       " 'ASTEROID',\n",
       " 'luxury fashion',\n",
       " 'Longwalk',\n",
       " 'Chevit',\n",
       " 'tigonis',\n",
       " 'BRUTON',\n",
       " 'PEHANOSA',\n",
       " 'Creer',\n",
       " 'luxury fashion',\n",
       " 'Magnolia',\n",
       " 'SCATCHITE',\n",
       " 'Numenzo',\n",
       " 'BRUTON',\n",
       " 'BIRDE',\n",
       " 'Shoes Bank',\n",
       " 'ASTEROID',\n",
       " 'India hub',\n",
       " 'Numenzo',\n",
       " 'RODDICK SHOES',\n",
       " 'World Wear Footwear',\n",
       " 'PROVOGUE',\n",
       " 'VIPSJAZZY',\n",
       " 'Arohi',\n",
       " 'Absolute comfort',\n",
       " 'luxury fashion',\n",
       " 'Airland',\n",
       " 'Numenzo',\n",
       " 'Rising Wolf',\n",
       " 'OZJI',\n",
       " 'Kreverse',\n",
       " 'SPARX',\n",
       " 'Jack Diamond',\n",
       " 'Echor',\n",
       " 'restinfoot',\n",
       " 'Numenzo',\n",
       " 'believe',\n",
       " 'PROVOGUE',\n",
       " 'SHOEFLY',\n",
       " 'SPARX',\n",
       " 'Chevit',\n",
       " 'luxury fashion',\n",
       " 'Robbie jones',\n",
       " 'Chevit',\n",
       " 'India hub',\n",
       " 'pollachief',\n",
       " 'BIRDE',\n",
       " 'RODDICK SHOES',\n",
       " 'Jack Diamond',\n",
       " 'luxury fashion',\n",
       " 'BIRDE',\n",
       " 'Englewood',\n",
       " 'PUMA',\n",
       " 'tigonis',\n",
       " 'SPARX',\n",
       " 'Edoeviv',\n",
       " 'SHOEFLY',\n",
       " 'BRUTON',\n",
       " 'Treadfit',\n",
       " 'SPARX',\n",
       " 'Jokatoo',\n",
       " 'India hub',\n",
       " 'TR',\n",
       " 'PUMA',\n",
       " 'SPARX',\n",
       " 'Nilatin',\n",
       " 'WRIZT',\n",
       " 'BRUTON',\n",
       " 'SPARX',\n",
       " 'PROVOGUE',\n",
       " 'T-ROCK',\n",
       " 'World Wear Footwear',\n",
       " 'D-SNEAKERZ',\n",
       " 'luxury fashion',\n",
       " 'SHOEFLY',\n",
       " 'Extoes',\n",
       " 'Zorth',\n",
       " 'OZJI',\n",
       " 'BRUTON',\n",
       " 'Magnolia',\n",
       " 'D-SNEAKERZ',\n",
       " 'pollachief',\n",
       " 'bluemaker',\n",
       " 'PUMA',\n",
       " 'Labbin',\n",
       " 'luxury fashion',\n",
       " 'World Wear Footwear',\n",
       " 'India hub',\n",
       " 'tigonis',\n",
       " 'TR',\n",
       " 'BRUTON',\n",
       " 'PUMA',\n",
       " 'BIRDE',\n",
       " 'tigonis',\n",
       " 'Mr ShoesWala',\n",
       " 'SPARX',\n",
       " 'STRANGER BROTHERS',\n",
       " 'luxury fashion']"
      ]
     },
     "execution_count": 194,
     "metadata": {},
     "output_type": "execute_result"
    }
   ],
   "source": [
    "brands_sneaker=[]\n",
    "for i in page_urls:\n",
    "    driver.get(i)\n",
    "    time.sleep(5)\n",
    "    brands_tags=driver.find_elements_by_xpath(\"//div[@class='_2WkVRV']\")\n",
    "    for i in brands_tags:\n",
    "        brands_sneaker.append(i.text)\n",
    "\n",
    "bs=brands_sneaker\n",
    "bs[:100]"
   ]
  },
  {
   "cell_type": "code",
   "execution_count": 195,
   "metadata": {},
   "outputs": [
    {
     "data": {
      "text/plain": [
       "['Casual Sneaker for Men Sneakers For Men',\n",
       " 'Sneakers For Men',\n",
       " 'Super Stylish & Trendy Combo Pack of 02 Pairs Sneakers ...',\n",
       " \"Original Luxury Branded Fashionable Men's Casual Walkin...\",\n",
       " 'Luxury Fashionable casual sneaker shoes Sneakers For Me...',\n",
       " 'Men Boxer Sneakers For Men',\n",
       " 'Perfect & Affordable Combo Pack of 02 Pairs Sneakers Ou...',\n",
       " \"Luxury Branded Fashionable Men's Casual Walking Partywe...\",\n",
       " 'Combo Pack Of 4 Casual Shoes Loafer Shoes Sneakers For ...',\n",
       " 'Sneakers For Men',\n",
       " 'Sneakers For Men',\n",
       " 'Luxury Fashionable casual sneaker shoes Sneakers For Me...',\n",
       " 'Sneakers For Men',\n",
       " 'Sneakers Sneakers For Men',\n",
       " 'Sneakers For Men',\n",
       " 'Modern & Trendy Collection Combo Pack of 02 Shoes for M...',\n",
       " 'Birde Trendy Casual Shoes Sneakers For Men',\n",
       " \"White Sneaker For Men's/Boy's Sneakers For Men\",\n",
       " \"Original Luxury Branded Fashionable Men's Casual Walkin...\",\n",
       " 'Fashionable casual sneaker shoes Sneakers For Men',\n",
       " 'Sneakers For Men',\n",
       " 'Fashion Outdoor Canvas Casual Light Weight Lace-up Even...',\n",
       " '5011-Latest Collection Stylish Casual Loafer Sneakers S...',\n",
       " 'Sneakers For Men',\n",
       " 'Sneakers For Men',\n",
       " 'Sneakers For Men',\n",
       " 'SOFT Sneakers For Men',\n",
       " 'luxury fashionable casual shoes Sneakers For Men',\n",
       " 'shoe Sneakers For Men',\n",
       " 'Sneakers For Men',\n",
       " 'Sneakers For Men',\n",
       " 'Sneakers For Men',\n",
       " 'Sneakers For Men',\n",
       " 'SM439G Sneakers For Men',\n",
       " 'Sneakers For Men',\n",
       " 'Mens Walking Running Shoes - Lightweight Breathable Mes...',\n",
       " \"Casual shoes,Sneakers for men's,shoes for men's Sneaker...\",\n",
       " 'Numenzo Black Sneaker For Men Sneakers For Men',\n",
       " 'Sneakers for men(black_6) Sneakers For Men',\n",
       " 'Sneakers For Men',\n",
       " 'Combo Men Pack of 2 Loafers Shoes Sneakers For Men',\n",
       " 'Men White Sneakers Sneakers For Men',\n",
       " 'Unique & Perfect Collection Combo Pack of 02 Shoes for ...',\n",
       " 'Casual Sneaker for Men Sneakers For Men',\n",
       " 'Sneakers For Men',\n",
       " 'Smart Casuals Canvas Shoes Combo pack of 2 Sneakers For...',\n",
       " 'Fashionable sneaker casual shoes Sneakers For Men',\n",
       " 'Sneakers For Men',\n",
       " 'Combo Pack of 2 Casual Shoes Sneakers For Men',\n",
       " 'Fashion Outdoor Canvas Casual Light Weight Lace-up Even...',\n",
       " 'Canvas Sneaker Sneakers For Men',\n",
       " 'Luxury Fashionable casual sneaker shoes Sneakers For Me...',\n",
       " 'Birde Trendy Casual Shoes Sneakers For Men',\n",
       " 'White Sneakers | Top Rated Shoes | Gym Shoes | Running ...',\n",
       " 'Kor Sneakers For Men',\n",
       " \"Luxury Branded Fashionable Men's Casual Walking Partywe...\",\n",
       " 'SM-162 Sneakers For Men',\n",
       " \"Luxury Branded Fashionable Men's Casual Walking Partywe...\",\n",
       " 'Combo Men Pack of 2 Loafers Shoes Sneakers For Men',\n",
       " 'Modern & Trendy Collection Combo Pack of 02 Shoes for M...',\n",
       " 'Bright Neon Green Casual Sneakers For Men',\n",
       " 'SM-482 Sneakers For Men',\n",
       " 'casual sneaker shoes and partywear shoes Casuals For Me...',\n",
       " 'Sneakers For Men',\n",
       " 'Sneakers For Men',\n",
       " 'Simha IDP Sneakers For Men',\n",
       " 'SM-675 Sneakers For Men',\n",
       " 'luxury fashionable casual shoes Sneakers For Men',\n",
       " 'Girls Running, Walking, Sports Shoes Walking Shoes Snea...',\n",
       " 'Lightweight Pack Of 1 Trendy Sneakers Sneakers Sneakers...',\n",
       " 'Casual Sneakers Sneakers For Men',\n",
       " 'Sneakers For Men',\n",
       " 'Synthetic Leather Casual Partywear Wedding Sneakers Sho...',\n",
       " 'Men 5014 Latest Collection Stylish Casual Sports Loafer...',\n",
       " \"Casual , Partywear Sneakers Shoes For Men's And Boys Re...\",\n",
       " 'Mens Walking Running Shoes - Lightweight Breathable Mes...',\n",
       " 'Combo Men Pack of 2 Loafers Shoes Sneakers For Men',\n",
       " 'Modern Trendy Shoes Combo pack of 4 Sneakers For Men',\n",
       " 'Sneakers For Men',\n",
       " 'Sneakers For Men',\n",
       " 'Modern & Trendy Collection Combo Pack of 02 Shoes for M...',\n",
       " 'White Sneakers Sneakers For Men',\n",
       " \"Casual , Partywear Sneakers Shoes For Men's And Boys Wh...\",\n",
       " 'Casual Sneaker for Men Sneakers For Men',\n",
       " 'casual for men (beige 06) Sneakers For Men',\n",
       " 'Puma Smash Vulc Sneakers For Men',\n",
       " 'Sneakers For Men',\n",
       " 'Luxury Fashionable casual sneaker shoes Sneakers For Me...',\n",
       " 'Sneakers For Men',\n",
       " 'Sneakers For Men',\n",
       " 'Sneakers For Men',\n",
       " \"Luxury Branded Fashionable Men's Casual Walking Partywe...\",\n",
       " 'Modern Trendy Sneakers Shoes Sneakers For Men',\n",
       " 'Hip Hop Mid Perf IDP Sneakers For Men',\n",
       " 'Combo Pack of 5 Casual Shoes Sneakers For Men',\n",
       " 'Black Sneaker For Men Sneakers For Men',\n",
       " \"Men's Casual Shoes in White Color Walking Running Gymwe...\",\n",
       " 'SD-323 Sneakers For Men',\n",
       " 'Sneakers For Men',\n",
       " 'Sneakers For Men']"
      ]
     },
     "execution_count": 195,
     "metadata": {},
     "output_type": "execute_result"
    }
   ],
   "source": [
    "desc_sneaker=[]\n",
    "for i in page_urls:\n",
    "    driver.get(i)\n",
    "    time.sleep(5)\n",
    "    desc_tags=driver.find_elements_by_xpath(\"//a[@class='IRpwTa' or @class='IRpwTa _2-ICcC']\")\n",
    "    for i in desc_tags:\n",
    "        desc_sneaker.append(i.text)\n",
    "ds=desc_sneaker[:100]\n",
    "ds"
   ]
  },
  {
   "cell_type": "code",
   "execution_count": 196,
   "metadata": {},
   "outputs": [
    {
     "data": {
      "text/plain": [
       "['₹421',\n",
       " '₹389',\n",
       " '₹536',\n",
       " '₹499',\n",
       " '₹499',\n",
       " '₹236',\n",
       " '₹447',\n",
       " '₹399',\n",
       " '₹474',\n",
       " '₹371',\n",
       " '₹398',\n",
       " '₹444',\n",
       " '₹356',\n",
       " '₹398',\n",
       " '₹429',\n",
       " '₹389',\n",
       " '₹359',\n",
       " '₹349',\n",
       " '₹499',\n",
       " '₹449',\n",
       " '₹449',\n",
       " '₹474',\n",
       " '₹240',\n",
       " '₹789',\n",
       " '₹399',\n",
       " '₹460',\n",
       " '₹198',\n",
       " '₹446',\n",
       " '₹250',\n",
       " '₹398',\n",
       " '₹512',\n",
       " '₹399',\n",
       " '₹266',\n",
       " '₹649',\n",
       " '₹627',\n",
       " '₹399',\n",
       " '₹349',\n",
       " '₹449',\n",
       " '₹449',\n",
       " '₹789',\n",
       " '₹362',\n",
       " '₹623',\n",
       " '₹420',\n",
       " '₹421',\n",
       " '₹499',\n",
       " '₹322',\n",
       " '₹399',\n",
       " '₹369',\n",
       " '₹472',\n",
       " '₹474',\n",
       " '₹630',\n",
       " '₹399',\n",
       " '₹283',\n",
       " '₹475',\n",
       " '₹1,400',\n",
       " '₹444',\n",
       " '₹730',\n",
       " '₹499',\n",
       " '₹362',\n",
       " '₹449',\n",
       " '₹299',\n",
       " '₹913',\n",
       " '₹445',\n",
       " '₹789',\n",
       " '₹499',\n",
       " '₹1,047',\n",
       " '₹692',\n",
       " '₹399',\n",
       " '₹439',\n",
       " '₹168',\n",
       " '₹1,000',\n",
       " '₹446',\n",
       " '₹399',\n",
       " '₹240',\n",
       " '₹346',\n",
       " '₹399',\n",
       " '₹362',\n",
       " '₹789',\n",
       " '₹435',\n",
       " '₹378',\n",
       " '₹444',\n",
       " '₹311',\n",
       " '₹384',\n",
       " '₹421',\n",
       " '₹404',\n",
       " '₹2,100',\n",
       " '₹479',\n",
       " '₹369',\n",
       " '₹240',\n",
       " '₹399',\n",
       " '₹360',\n",
       " '₹399',\n",
       " '₹319',\n",
       " '₹1,217',\n",
       " '₹757',\n",
       " '₹389',\n",
       " '₹445',\n",
       " '₹576',\n",
       " '₹449',\n",
       " '₹789']"
      ]
     },
     "execution_count": 196,
     "metadata": {},
     "output_type": "execute_result"
    }
   ],
   "source": [
    "price_sneaker=[]\n",
    "for i in page_urls:\n",
    "    driver.get(i)\n",
    "    time.sleep(5)\n",
    "    price_tags=driver.find_elements_by_xpath(\"//div[@class='_30jeq3']\")\n",
    "    for i in price_tags:\n",
    "        price_sneaker.append(i.text)\n",
    "\n",
    "ps=price_sneaker[:100]\n",
    "ps"
   ]
  },
  {
   "cell_type": "code",
   "execution_count": 197,
   "metadata": {},
   "outputs": [
    {
     "data": {
      "text/plain": [
       "['57% off',\n",
       " '75% off',\n",
       " '66% off',\n",
       " '75% off',\n",
       " '61% off',\n",
       " '52% off',\n",
       " '75% off',\n",
       " '60% off',\n",
       " '86% off',\n",
       " '62% off',\n",
       " '60% off',\n",
       " '82% off',\n",
       " '64% off',\n",
       " '60% off',\n",
       " '66% off',\n",
       " '64% off',\n",
       " '28% off',\n",
       " '65% off',\n",
       " '50% off',\n",
       " '80% off',\n",
       " '77% off',\n",
       " '52% off',\n",
       " '51% off',\n",
       " '55% off',\n",
       " '60% off',\n",
       " '53% off',\n",
       " '60% off',\n",
       " '60% off',\n",
       " '49% off',\n",
       " '60% off',\n",
       " '67% off',\n",
       " '64% off',\n",
       " '73% off',\n",
       " '7% off',\n",
       " '37% off',\n",
       " '71% off',\n",
       " '65% off',\n",
       " '65% off',\n",
       " '55% off',\n",
       " '60% off',\n",
       " '72% off',\n",
       " '16% off',\n",
       " '71% off',\n",
       " '57% off',\n",
       " '50% off',\n",
       " '67% off',\n",
       " '80% off',\n",
       " '60% off',\n",
       " '52% off',\n",
       " '52% off',\n",
       " '36% off',\n",
       " '82% off',\n",
       " '43% off',\n",
       " '74% off',\n",
       " '64% off',\n",
       " '64% off',\n",
       " '23% off',\n",
       " '37% off',\n",
       " '63% off',\n",
       " '80% off',\n",
       " '70% off',\n",
       " '32% off',\n",
       " '69% off',\n",
       " '55% off',\n",
       " '75% off',\n",
       " '65% off',\n",
       " '23% off',\n",
       " '60% off',\n",
       " '56% off',\n",
       " '71% off',\n",
       " '23% off',\n",
       " '64% off',\n",
       " '60% off',\n",
       " '51% off',\n",
       " '65% off',\n",
       " '55% off',\n",
       " '70% off',\n",
       " '47% off',\n",
       " '56% off',\n",
       " '71% off',\n",
       " '82% off',\n",
       " '68% off',\n",
       " '61% off',\n",
       " '57% off',\n",
       " '59% off',\n",
       " '44% off',\n",
       " '52% off',\n",
       " '75% off',\n",
       " '51% off',\n",
       " '69% off',\n",
       " '79% off',\n",
       " '60% off',\n",
       " '75% off',\n",
       " '65% off',\n",
       " '69% off',\n",
       " '64% off',\n",
       " '55% off',\n",
       " '23% off',\n",
       " '55% off',\n",
       " '80% off']"
      ]
     },
     "execution_count": 197,
     "metadata": {},
     "output_type": "execute_result"
    }
   ],
   "source": [
    "discount_sneaker=[]\n",
    "for i in page_urls:\n",
    "    driver.get(i)\n",
    "    time.sleep(5)\n",
    "    discount_tags=driver.find_elements_by_xpath(\"//div[@class='_3Ay6Sb']\")\n",
    "    for i in discount_tags:\n",
    "        discount_sneaker.append(i.text)\n",
    "\n",
    "dis=discount_sneaker[:100]\n",
    "dis"
   ]
  },
  {
   "cell_type": "code",
   "execution_count": 199,
   "metadata": {},
   "outputs": [
    {
     "data": {
      "text/html": [
       "<div>\n",
       "<style scoped>\n",
       "    .dataframe tbody tr th:only-of-type {\n",
       "        vertical-align: middle;\n",
       "    }\n",
       "\n",
       "    .dataframe tbody tr th {\n",
       "        vertical-align: top;\n",
       "    }\n",
       "\n",
       "    .dataframe thead th {\n",
       "        text-align: right;\n",
       "    }\n",
       "</style>\n",
       "<table border=\"1\" class=\"dataframe\">\n",
       "  <thead>\n",
       "    <tr style=\"text-align: right;\">\n",
       "      <th></th>\n",
       "      <th>brand</th>\n",
       "      <th>price</th>\n",
       "      <th>discount</th>\n",
       "      <th>description</th>\n",
       "    </tr>\n",
       "  </thead>\n",
       "  <tbody>\n",
       "    <tr>\n",
       "      <th>0</th>\n",
       "      <td>pollachief</td>\n",
       "      <td>₹421</td>\n",
       "      <td>57% off</td>\n",
       "      <td>Casual Sneaker for Men Sneakers For Men</td>\n",
       "    </tr>\n",
       "    <tr>\n",
       "      <th>1</th>\n",
       "      <td>TR</td>\n",
       "      <td>₹389</td>\n",
       "      <td>75% off</td>\n",
       "      <td>Sneakers For Men</td>\n",
       "    </tr>\n",
       "    <tr>\n",
       "      <th>2</th>\n",
       "      <td>Chevit</td>\n",
       "      <td>₹536</td>\n",
       "      <td>66% off</td>\n",
       "      <td>Super Stylish &amp; Trendy Combo Pack of 02 Pairs ...</td>\n",
       "    </tr>\n",
       "    <tr>\n",
       "      <th>3</th>\n",
       "      <td>ASTEROID</td>\n",
       "      <td>₹499</td>\n",
       "      <td>75% off</td>\n",
       "      <td>Original Luxury Branded Fashionable Men's Casu...</td>\n",
       "    </tr>\n",
       "    <tr>\n",
       "      <th>4</th>\n",
       "      <td>luxury fashion</td>\n",
       "      <td>₹499</td>\n",
       "      <td>61% off</td>\n",
       "      <td>Luxury Fashionable casual sneaker shoes Sneake...</td>\n",
       "    </tr>\n",
       "    <tr>\n",
       "      <th>...</th>\n",
       "      <td>...</td>\n",
       "      <td>...</td>\n",
       "      <td>...</td>\n",
       "      <td>...</td>\n",
       "    </tr>\n",
       "    <tr>\n",
       "      <th>95</th>\n",
       "      <td>tigonis</td>\n",
       "      <td>₹389</td>\n",
       "      <td>64% off</td>\n",
       "      <td>Black Sneaker For Men Sneakers For Men</td>\n",
       "    </tr>\n",
       "    <tr>\n",
       "      <th>96</th>\n",
       "      <td>Mr ShoesWala</td>\n",
       "      <td>₹445</td>\n",
       "      <td>55% off</td>\n",
       "      <td>Men's Casual Shoes in White Color Walking Runn...</td>\n",
       "    </tr>\n",
       "    <tr>\n",
       "      <th>97</th>\n",
       "      <td>SPARX</td>\n",
       "      <td>₹576</td>\n",
       "      <td>23% off</td>\n",
       "      <td>SD-323 Sneakers For Men</td>\n",
       "    </tr>\n",
       "    <tr>\n",
       "      <th>98</th>\n",
       "      <td>STRANGER BROTHERS</td>\n",
       "      <td>₹449</td>\n",
       "      <td>55% off</td>\n",
       "      <td>Sneakers For Men</td>\n",
       "    </tr>\n",
       "    <tr>\n",
       "      <th>99</th>\n",
       "      <td>luxury fashion</td>\n",
       "      <td>₹789</td>\n",
       "      <td>80% off</td>\n",
       "      <td>Sneakers For Men</td>\n",
       "    </tr>\n",
       "  </tbody>\n",
       "</table>\n",
       "<p>100 rows × 4 columns</p>\n",
       "</div>"
      ],
      "text/plain": [
       "                brand price discount  \\\n",
       "0          pollachief  ₹421  57% off   \n",
       "1                  TR  ₹389  75% off   \n",
       "2              Chevit  ₹536  66% off   \n",
       "3            ASTEROID  ₹499  75% off   \n",
       "4      luxury fashion  ₹499  61% off   \n",
       "..                ...   ...      ...   \n",
       "95            tigonis  ₹389  64% off   \n",
       "96       Mr ShoesWala  ₹445  55% off   \n",
       "97              SPARX  ₹576  23% off   \n",
       "98  STRANGER BROTHERS  ₹449  55% off   \n",
       "99     luxury fashion  ₹789  80% off   \n",
       "\n",
       "                                          description  \n",
       "0             Casual Sneaker for Men Sneakers For Men  \n",
       "1                                    Sneakers For Men  \n",
       "2   Super Stylish & Trendy Combo Pack of 02 Pairs ...  \n",
       "3   Original Luxury Branded Fashionable Men's Casu...  \n",
       "4   Luxury Fashionable casual sneaker shoes Sneake...  \n",
       "..                                                ...  \n",
       "95             Black Sneaker For Men Sneakers For Men  \n",
       "96  Men's Casual Shoes in White Color Walking Runn...  \n",
       "97                            SD-323 Sneakers For Men  \n",
       "98                                   Sneakers For Men  \n",
       "99                                   Sneakers For Men  \n",
       "\n",
       "[100 rows x 4 columns]"
      ]
     },
     "execution_count": 199,
     "metadata": {},
     "output_type": "execute_result"
    }
   ],
   "source": [
    "flipkart_sn=pd.DataFrame({})\n",
    "flipkart_sn['brand']=bs[:100]\n",
    "flipkart_sn['price']=ps[:100]\n",
    "flipkart_sn['discount']=dis[:100]\n",
    "flipkart_sn['description']=ds[:100]\n",
    "\n",
    "flipkart_sn"
   ]
  },
  {
   "cell_type": "markdown",
   "metadata": {},
   "source": [
    "# question 9"
   ]
  },
  {
   "cell_type": "code",
   "execution_count": 200,
   "metadata": {},
   "outputs": [],
   "source": [
    "import selenium\n",
    "import pandas as pd\n",
    "from selenium import webdriver\n",
    "import warnings\n",
    "warnings.filterwarnings('ignore')"
   ]
  },
  {
   "cell_type": "code",
   "execution_count": 201,
   "metadata": {},
   "outputs": [],
   "source": [
    "driver = webdriver.Chrome(r\"C:\\Users\\gokula krishnan\\Downloads\\chromedriver_win32\\chromedriver.exe\")"
   ]
  },
  {
   "cell_type": "code",
   "execution_count": 202,
   "metadata": {},
   "outputs": [],
   "source": [
    "url='https://www.myntra.com/shoes'\n",
    "driver.get(url)"
   ]
  },
  {
   "cell_type": "code",
   "execution_count": 203,
   "metadata": {},
   "outputs": [],
   "source": [
    "first_chk=driver.find_element_by_xpath(\"//li[@class='colour-listItem']/label/div\")\n",
    "first_chk.click()"
   ]
  },
  {
   "cell_type": "code",
   "execution_count": 204,
   "metadata": {},
   "outputs": [],
   "source": [
    "secound_chk=driver.find_element_by_xpath(\"//ul[@class='price-list']/li[2]/label/div\")\n",
    "secound_chk.click()"
   ]
  },
  {
   "cell_type": "code",
   "execution_count": 205,
   "metadata": {},
   "outputs": [
    {
     "data": {
      "text/plain": [
       "[<selenium.webdriver.remote.webelement.WebElement (session=\"e095cda39a8d9df9563f8c882c1e404f\", element=\"a569ef55-e923-41d8-9f28-47276d190314\")>,\n",
       " <selenium.webdriver.remote.webelement.WebElement (session=\"e095cda39a8d9df9563f8c882c1e404f\", element=\"cbfff081-65f3-413a-9662-a545896244be\")>,\n",
       " <selenium.webdriver.remote.webelement.WebElement (session=\"e095cda39a8d9df9563f8c882c1e404f\", element=\"aa2814a4-5e88-48c2-92b6-6108a94134b1\")>,\n",
       " <selenium.webdriver.remote.webelement.WebElement (session=\"e095cda39a8d9df9563f8c882c1e404f\", element=\"8f3a70f6-34f8-4c7b-873c-4d5d2433c065\")>,\n",
       " <selenium.webdriver.remote.webelement.WebElement (session=\"e095cda39a8d9df9563f8c882c1e404f\", element=\"f4022b74-a0e8-4dfa-bcda-eb2bb2ff5cd0\")>,\n",
       " <selenium.webdriver.remote.webelement.WebElement (session=\"e095cda39a8d9df9563f8c882c1e404f\", element=\"f01c89b5-1f27-470b-a692-eaad019e7efe\")>,\n",
       " <selenium.webdriver.remote.webelement.WebElement (session=\"e095cda39a8d9df9563f8c882c1e404f\", element=\"66ace3e1-0885-4bcf-b9b4-bc8d8e2d3105\")>,\n",
       " <selenium.webdriver.remote.webelement.WebElement (session=\"e095cda39a8d9df9563f8c882c1e404f\", element=\"0befafc1-77c0-452d-a356-806a728ed17b\")>,\n",
       " <selenium.webdriver.remote.webelement.WebElement (session=\"e095cda39a8d9df9563f8c882c1e404f\", element=\"28a043e9-772d-4b67-8082-87f23fae56ed\")>,\n",
       " <selenium.webdriver.remote.webelement.WebElement (session=\"e095cda39a8d9df9563f8c882c1e404f\", element=\"ba9d8caa-484b-474a-a359-9a49d5d48a83\")>,\n",
       " <selenium.webdriver.remote.webelement.WebElement (session=\"e095cda39a8d9df9563f8c882c1e404f\", element=\"93dd2ff2-e451-4342-a391-09477e8dd8e1\")>]"
      ]
     },
     "execution_count": 205,
     "metadata": {},
     "output_type": "execute_result"
    }
   ],
   "source": [
    "page_tags=driver.find_elements_by_xpath(\"//ul[@class='pagination-container']//li/a\")\n",
    "page_tags"
   ]
  },
  {
   "cell_type": "code",
   "execution_count": 206,
   "metadata": {},
   "outputs": [
    {
     "data": {
      "text/plain": [
       "['https://www.myntra.com/shoes?f=Color%3ABlack_36454f&plaEnabled=false&rf=Price%3A6897.0_13595.0_6897.0%20TO%2013595.0',\n",
       " 'https://www.myntra.com/shoes?f=Color%3ABlack_36454f&plaEnabled=false&rf=Price%3A6897.0_13595.0_6897.0%20TO%2013595.0&p=2']"
      ]
     },
     "execution_count": 206,
     "metadata": {},
     "output_type": "execute_result"
    }
   ],
   "source": [
    "page_urls=[]\n",
    "for i in page_tags[:2]:\n",
    "    page_urls.append(i.get_attribute('href'))\n",
    "\n",
    "page_urls"
   ]
  },
  {
   "cell_type": "code",
   "execution_count": 207,
   "metadata": {},
   "outputs": [],
   "source": [
    "import time"
   ]
  },
  {
   "cell_type": "code",
   "execution_count": 208,
   "metadata": {},
   "outputs": [
    {
     "data": {
      "text/plain": [
       "['ALDO',\n",
       " 'Puma',\n",
       " 'Puma',\n",
       " 'Puma',\n",
       " 'Puma',\n",
       " 'Hush Puppies',\n",
       " 'Puma',\n",
       " 'Nike',\n",
       " 'UNDER ARMOUR',\n",
       " 'UNDER ARMOUR',\n",
       " 'ASICS',\n",
       " 'Puma',\n",
       " 'Puma',\n",
       " 'Puma',\n",
       " 'Hush Puppies',\n",
       " 'UNDER ARMOUR',\n",
       " 'FORCLAZ By Decathlon',\n",
       " 'Calvin Klein',\n",
       " 'Hush Puppies',\n",
       " 'UNDER ARMOUR',\n",
       " 'UNDER ARMOUR',\n",
       " 'UNDER ARMOUR',\n",
       " 'Hush Puppies',\n",
       " 'Puma',\n",
       " 'Geox',\n",
       " 'ROSSO BRUNELLO',\n",
       " 'J.FONTINI',\n",
       " 'UNDER ARMOUR',\n",
       " 'PUMA Motorsport',\n",
       " 'ASICS',\n",
       " 'Geox',\n",
       " 'ROSSO BRUNELLO',\n",
       " 'ASICS',\n",
       " 'Puma',\n",
       " 'Geox',\n",
       " 'Hush Puppies',\n",
       " 'DAVINCHI',\n",
       " 'UNDER ARMOUR',\n",
       " 'PUMA Motorsport',\n",
       " 'J.FONTINI',\n",
       " 'PUMA Motorsport',\n",
       " 'ALDO',\n",
       " 'Clarks',\n",
       " 'Geox',\n",
       " 'Puma',\n",
       " 'ROSSO BRUNELLO',\n",
       " 'Heel & Buckle London',\n",
       " 'RARE RABBIT',\n",
       " 'PUMA Motorsport',\n",
       " 'J.FONTINI',\n",
       " 'Saint G',\n",
       " 'ASICS',\n",
       " 'Clarks',\n",
       " 'J.FONTINI',\n",
       " 'RARE RABBIT',\n",
       " 'Saint G',\n",
       " 'Heel & Buckle London',\n",
       " 'KIPRUN By Decathlon',\n",
       " 'UNDER ARMOUR',\n",
       " 'ROSSO BRUNELLO',\n",
       " 'Puma',\n",
       " 'Puma',\n",
       " 'Ruosh',\n",
       " 'Cole Haan',\n",
       " 'Cole Haan',\n",
       " 'Cole Haan',\n",
       " 'Nike',\n",
       " 'Quechua By Decathlon',\n",
       " 'VIONIC',\n",
       " 'J.FONTINI',\n",
       " 'J.FONTINI',\n",
       " 'J.FONTINI',\n",
       " 'Geox',\n",
       " 'PUMA Motorsport',\n",
       " 'Heel & Buckle London',\n",
       " 'Kalenji By Decathlon',\n",
       " 'Heel & Buckle London',\n",
       " 'Saint G',\n",
       " 'Saint G',\n",
       " 'Saint G',\n",
       " 'Kenneth Cole',\n",
       " 'PUMA Hoops',\n",
       " 'Geox',\n",
       " 'J.FONTINI',\n",
       " 'ASICS',\n",
       " 'Geox',\n",
       " 'Geox',\n",
       " 'ALDO',\n",
       " 'Cole Haan',\n",
       " 'Florsheim',\n",
       " 'Heel & Buckle London',\n",
       " 'J.FONTINI',\n",
       " 'ALDO',\n",
       " 'J.FONTINI',\n",
       " 'Nike',\n",
       " 'J.FONTINI',\n",
       " 'UNDER ARMOUR',\n",
       " 'Kenneth Cole',\n",
       " 'Kenneth Cole',\n",
       " 'Nike']"
      ]
     },
     "execution_count": 208,
     "metadata": {},
     "output_type": "execute_result"
    }
   ],
   "source": [
    "brands_shoes=[]\n",
    "for i in page_urls:\n",
    "    driver.get(i)\n",
    "    time.sleep(5)\n",
    "    brands_tags=driver.find_elements_by_xpath(\"//h3[@class='product-brand']\")\n",
    "    for i in brands_tags:\n",
    "        brands_shoes.append(i.text)\n",
    "brands_shoes"
   ]
  },
  {
   "cell_type": "code",
   "execution_count": 209,
   "metadata": {},
   "outputs": [
    {
     "data": {
      "text/plain": [
       "['Men Driving Shoes',\n",
       " 'Men Cell Fraction Fade Running',\n",
       " 'Men Velocity Nitro Running',\n",
       " 'Mesh Hybrid Fuego Running',\n",
       " 'Men BlackTraining or Gym Shoes',\n",
       " 'Men Solid Leather Formal Slip-Ons',\n",
       " 'Men FUSE Training Shoes',\n",
       " \"Men BlazerLow '77 Sneakers\",\n",
       " 'Men HOVR Infinite Running',\n",
       " 'Women HOVR Sonic 4 FnRn',\n",
       " 'Men Tennis Shoes',\n",
       " 'Men Liberate NITRO Running',\n",
       " 'Men Jamming 2.0 Running Shoes',\n",
       " 'Men Black Shoes',\n",
       " 'Men Solid Leather Formal Slip-Ons',\n",
       " 'Women Charged Impulse Shft',\n",
       " 'Men Loafers',\n",
       " 'TREKKING 100 Boots',\n",
       " 'Men Leather Slip-On Sneakers',\n",
       " 'Men HOVR Sonic STRT Tech Shoes',\n",
       " 'Women Charged Vantage ClrShft',\n",
       " 'Women HOVR Sonic 4 Running',\n",
       " 'Men Formal Derbys',\n",
       " 'Men Football Shoes',\n",
       " 'Women Charged Assert 8 Running',\n",
       " 'Unisex Mercedes F1 Sneakers',\n",
       " 'Women GlideRide Running Shoes',\n",
       " 'Women Running Shoes',\n",
       " 'Women Eternity Nitro Running',\n",
       " 'Men Leather Flat Boots',\n",
       " 'Men Solid Leather Formal Derbys',\n",
       " 'Men Textured Formal Leather Loafers',\n",
       " 'Men Printed Slip-On Sneakers',\n",
       " 'Men Black Leather Loafers',\n",
       " 'Women Charged Bandit 6 Running',\n",
       " 'Men Solid Leather Formal Monk Shoes',\n",
       " 'Unisex FerrariRS-Fast Sneakers',\n",
       " 'Men Solid Loafers',\n",
       " 'Men Sneakers',\n",
       " 'Unisex Ferrari Drift8 Sneakers',\n",
       " 'Men Leather Formal Loafers',\n",
       " 'Women Woven Design Sneakers',\n",
       " 'Men Solid Sneakers',\n",
       " 'Unisex Colourblocked Sneakers',\n",
       " 'Men Solid Formal Monks Shoes',\n",
       " 'Women Solid Leather Gladiators',\n",
       " 'Women BMW M Motorsport Shoes',\n",
       " 'Men Solid Formal Leather Derbys',\n",
       " 'Men Textured Leather Formal Loafers',\n",
       " 'Women Sneakers',\n",
       " 'Men Textured Leather Formal Loafers',\n",
       " 'Women Sneakers',\n",
       " 'Leather Block Sandals',\n",
       " 'Women GlideRide Running Shoes',\n",
       " 'Men Solid Leather Formal Derbys',\n",
       " 'Women Leather Heeled Boots',\n",
       " 'Women Peep Toe Heels',\n",
       " 'Women Running Shoes',\n",
       " 'Women Charged Rogue 2.5ClrSft',\n",
       " 'Men Solid Leather Formal Monk Shoes',\n",
       " 'Women Liberate NITRO Running',\n",
       " 'Women Eternity NITRO Shoes',\n",
       " 'Men Wingtip Oxford Sneakers',\n",
       " 'Men GENERATION ZEROGRAND STITCHLITE',\n",
       " 'Leather Sneakers',\n",
       " 'Women Air Zoom Running Shoes',\n",
       " 'Men Trekking Shoes',\n",
       " 'Men Textured Sneakers',\n",
       " 'Men Solid Leather Loafers',\n",
       " 'Men Textured Leather Loafers',\n",
       " 'Men Textured Leather Loafers',\n",
       " 'Men Leather Formal Slip-Ons',\n",
       " 'Unisex BMW MMS RS-FastSneakers',\n",
       " 'Men Leather Formal Oxfords',\n",
       " 'Men KD500 Running Shoe',\n",
       " 'Women Solid Leather Heels',\n",
       " 'Women Heeled Boots',\n",
       " 'Women Leather Heeled Boots',\n",
       " 'Women Leather Heeled Boots',\n",
       " 'Women Leather Pumps',\n",
       " 'Unisex Clyde Basketball Shoes',\n",
       " 'Men Leather Formal Slip-Ons',\n",
       " 'Men Textured Leather Loafers',\n",
       " 'Men Black Running Sports Shoes',\n",
       " 'Men Solid Sneakers',\n",
       " 'Men Leather Driving Shoes',\n",
       " 'Women Solid Sneakers',\n",
       " 'Women Open Toe Flats',\n",
       " 'Men Solid Leather Formal Derbys',\n",
       " 'Women Leather Pumps',\n",
       " 'Men Solid Leather Formal Monks',\n",
       " 'Men Solid Leather Formal Slip-Ons',\n",
       " 'Women Woven Design Sneakers',\n",
       " 'Men Solid Leather Formal Slip-Ons',\n",
       " 'Men Vomero 16 Running Shoes',\n",
       " 'Men Leather Formal Loafers',\n",
       " 'Men HOVR Sonic 4 Colorshift',\n",
       " 'Women LeatherSneakers',\n",
       " 'Women Solid Flat Boots',\n",
       " 'Men AIR MAX INFINITY Sneakers']"
      ]
     },
     "execution_count": 209,
     "metadata": {},
     "output_type": "execute_result"
    }
   ],
   "source": [
    "desc_shoes=[]\n",
    "for i in page_urls:\n",
    "    driver.get(i)\n",
    "    time.sleep(5)\n",
    "    desc_tags=driver.find_elements_by_xpath(\"//h4[@class='product-product']\")\n",
    "    for i in desc_tags:\n",
    "        desc_shoes.append(i.text)\n",
    "desc_shoes"
   ]
  },
  {
   "cell_type": "code",
   "execution_count": 210,
   "metadata": {},
   "outputs": [
    {
     "data": {
      "text/plain": [
       "['Rs. 11999',\n",
       " 'Rs. 6999',\n",
       " 'Rs. 10999',\n",
       " 'Rs. 6999',\n",
       " 'Rs. 6999',\n",
       " 'Rs. 8099Rs. 8999(10% OFF)',\n",
       " 'Rs. 7999',\n",
       " 'Rs. 7195',\n",
       " 'Rs. 11999',\n",
       " 'Rs. 10999',\n",
       " 'Rs. 9999',\n",
       " 'Rs. 9999',\n",
       " 'Rs. 12999',\n",
       " 'Rs. 6999',\n",
       " 'Rs. 10999',\n",
       " 'Rs. 8490',\n",
       " 'Rs. 12999',\n",
       " 'Rs. 8999Rs. 9999(10% OFF)',\n",
       " 'Rs. 7499',\n",
       " 'Rs. 6999',\n",
       " 'Rs. 7649Rs. 8999(15% OFF)',\n",
       " 'Rs. 6999Rs. 9999(30% OFF)',\n",
       " 'Rs. 9999',\n",
       " 'Rs. 7999',\n",
       " 'Rs. 10999',\n",
       " 'Rs. 8999Rs. 9999(10% OFF)',\n",
       " 'Rs. 12749Rs. 16999(25% OFF)',\n",
       " 'Rs. 9999',\n",
       " 'Rs. 11999',\n",
       " 'Rs. 6999',\n",
       " 'Rs. 11199Rs. 13999(20% OFF)',\n",
       " 'Rs. 7999',\n",
       " 'Rs. 8999',\n",
       " 'Rs. 7149Rs. 12999(45% OFF)',\n",
       " 'Rs. 11999',\n",
       " 'Rs. 8999Rs. 9999(10% OFF)',\n",
       " 'Rs. 8990',\n",
       " 'Rs. 8999',\n",
       " 'Rs. 9999',\n",
       " 'Rs. 9999',\n",
       " 'Rs. 8990',\n",
       " 'Rs. 10999',\n",
       " 'Rs. 7999',\n",
       " 'Rs. 7799Rs. 12999(40% OFF)',\n",
       " 'Rs. 9999',\n",
       " 'Rs. 6999',\n",
       " 'Rs. 12999',\n",
       " 'Rs. 6993Rs. 9990(30% OFF)',\n",
       " 'Rs. 6999',\n",
       " 'Rs. 8990',\n",
       " 'Rs. 6990',\n",
       " 'Rs. 10999',\n",
       " 'Rs. 8490',\n",
       " 'Rs. 7600',\n",
       " 'Rs. 12999',\n",
       " 'Rs. 7192Rs. 8990(20% OFF)',\n",
       " 'Rs. 9999',\n",
       " 'Rs. 11999',\n",
       " 'Rs. 7006Rs. 7149(2% OFF)',\n",
       " 'Rs. 7999',\n",
       " 'Rs. 9999',\n",
       " 'Rs. 12999',\n",
       " 'Rs. 12999',\n",
       " 'Rs. 11999',\n",
       " 'Rs. 10999',\n",
       " 'Rs. 10295',\n",
       " 'Rs. 9999',\n",
       " 'Rs. 7039Rs. 10999(36% OFF)',\n",
       " 'Rs. 7990',\n",
       " 'Rs. 7990',\n",
       " 'Rs. 7990',\n",
       " 'Rs. 8999',\n",
       " 'Rs. 7999Rs. 9999(20% OFF)',\n",
       " 'Rs. 7693Rs. 10990(30% OFF)',\n",
       " 'Rs. 7773Rs. 8449(8% OFF)',\n",
       " 'Rs. 6993Rs. 9990(30% OFF)',\n",
       " 'Rs. 8500',\n",
       " 'Rs. 8900',\n",
       " 'Rs. 8000',\n",
       " 'Rs. 10493Rs. 14990(30% OFF)',\n",
       " 'Rs. 8999',\n",
       " 'Rs. 11242Rs. 14990(25% OFF)',\n",
       " 'Rs. 6990',\n",
       " 'Rs. 7999',\n",
       " 'Rs. 10999',\n",
       " 'Rs. 9999',\n",
       " 'Rs. 7999',\n",
       " 'Rs. 11999',\n",
       " 'Rs. 6995',\n",
       " 'Rs. 7192Rs. 8990(20% OFF)',\n",
       " 'Rs. 8990',\n",
       " 'Rs. 7990',\n",
       " 'Rs. 8999',\n",
       " 'Rs. 7990',\n",
       " 'Rs. 13495',\n",
       " 'Rs. 6990',\n",
       " 'Rs. 10999',\n",
       " 'Rs. 7343Rs. 10490(30% OFF)',\n",
       " 'Rs. 9513Rs. 13590(30% OFF)',\n",
       " 'Rs. 8295']"
      ]
     },
     "execution_count": 210,
     "metadata": {},
     "output_type": "execute_result"
    }
   ],
   "source": [
    "price_shoes=[]\n",
    "for i in page_urls:\n",
    "    driver.get(i)\n",
    "    time.sleep(5)\n",
    "    price_tags=driver.find_elements_by_xpath(\"//div[@class='product-price']\")\n",
    "    for i in price_tags:\n",
    "        price_shoes.append(i.text)\n",
    "price_shoes"
   ]
  },
  {
   "cell_type": "code",
   "execution_count": 211,
   "metadata": {},
   "outputs": [
    {
     "data": {
      "text/html": [
       "<div>\n",
       "<style scoped>\n",
       "    .dataframe tbody tr th:only-of-type {\n",
       "        vertical-align: middle;\n",
       "    }\n",
       "\n",
       "    .dataframe tbody tr th {\n",
       "        vertical-align: top;\n",
       "    }\n",
       "\n",
       "    .dataframe thead th {\n",
       "        text-align: right;\n",
       "    }\n",
       "</style>\n",
       "<table border=\"1\" class=\"dataframe\">\n",
       "  <thead>\n",
       "    <tr style=\"text-align: right;\">\n",
       "      <th></th>\n",
       "      <th>brand</th>\n",
       "      <th>price</th>\n",
       "      <th>description</th>\n",
       "    </tr>\n",
       "  </thead>\n",
       "  <tbody>\n",
       "    <tr>\n",
       "      <th>0</th>\n",
       "      <td>ALDO</td>\n",
       "      <td>Rs. 11999</td>\n",
       "      <td>Men Driving Shoes</td>\n",
       "    </tr>\n",
       "    <tr>\n",
       "      <th>1</th>\n",
       "      <td>Puma</td>\n",
       "      <td>Rs. 6999</td>\n",
       "      <td>Men Cell Fraction Fade Running</td>\n",
       "    </tr>\n",
       "    <tr>\n",
       "      <th>2</th>\n",
       "      <td>Puma</td>\n",
       "      <td>Rs. 10999</td>\n",
       "      <td>Men Velocity Nitro Running</td>\n",
       "    </tr>\n",
       "    <tr>\n",
       "      <th>3</th>\n",
       "      <td>Puma</td>\n",
       "      <td>Rs. 6999</td>\n",
       "      <td>Mesh Hybrid Fuego Running</td>\n",
       "    </tr>\n",
       "    <tr>\n",
       "      <th>4</th>\n",
       "      <td>Puma</td>\n",
       "      <td>Rs. 6999</td>\n",
       "      <td>Men BlackTraining or Gym Shoes</td>\n",
       "    </tr>\n",
       "    <tr>\n",
       "      <th>...</th>\n",
       "      <td>...</td>\n",
       "      <td>...</td>\n",
       "      <td>...</td>\n",
       "    </tr>\n",
       "    <tr>\n",
       "      <th>95</th>\n",
       "      <td>J.FONTINI</td>\n",
       "      <td>Rs. 6990</td>\n",
       "      <td>Men Leather Formal Loafers</td>\n",
       "    </tr>\n",
       "    <tr>\n",
       "      <th>96</th>\n",
       "      <td>UNDER ARMOUR</td>\n",
       "      <td>Rs. 10999</td>\n",
       "      <td>Men HOVR Sonic 4 Colorshift</td>\n",
       "    </tr>\n",
       "    <tr>\n",
       "      <th>97</th>\n",
       "      <td>Kenneth Cole</td>\n",
       "      <td>Rs. 7343Rs. 10490(30% OFF)</td>\n",
       "      <td>Women LeatherSneakers</td>\n",
       "    </tr>\n",
       "    <tr>\n",
       "      <th>98</th>\n",
       "      <td>Kenneth Cole</td>\n",
       "      <td>Rs. 9513Rs. 13590(30% OFF)</td>\n",
       "      <td>Women Solid Flat Boots</td>\n",
       "    </tr>\n",
       "    <tr>\n",
       "      <th>99</th>\n",
       "      <td>Nike</td>\n",
       "      <td>Rs. 8295</td>\n",
       "      <td>Men AIR MAX INFINITY Sneakers</td>\n",
       "    </tr>\n",
       "  </tbody>\n",
       "</table>\n",
       "<p>100 rows × 3 columns</p>\n",
       "</div>"
      ],
      "text/plain": [
       "           brand                       price                     description\n",
       "0           ALDO                   Rs. 11999               Men Driving Shoes\n",
       "1           Puma                    Rs. 6999  Men Cell Fraction Fade Running\n",
       "2           Puma                   Rs. 10999      Men Velocity Nitro Running\n",
       "3           Puma                    Rs. 6999       Mesh Hybrid Fuego Running\n",
       "4           Puma                    Rs. 6999  Men BlackTraining or Gym Shoes\n",
       "..           ...                         ...                             ...\n",
       "95     J.FONTINI                    Rs. 6990      Men Leather Formal Loafers\n",
       "96  UNDER ARMOUR                   Rs. 10999     Men HOVR Sonic 4 Colorshift\n",
       "97  Kenneth Cole  Rs. 7343Rs. 10490(30% OFF)           Women LeatherSneakers\n",
       "98  Kenneth Cole  Rs. 9513Rs. 13590(30% OFF)          Women Solid Flat Boots\n",
       "99          Nike                    Rs. 8295   Men AIR MAX INFINITY Sneakers\n",
       "\n",
       "[100 rows x 3 columns]"
      ]
     },
     "execution_count": 211,
     "metadata": {},
     "output_type": "execute_result"
    }
   ],
   "source": [
    "flipkart_sh=pd.DataFrame({})\n",
    "flipkart_sh['brand']=brands_shoes\n",
    "flipkart_sh['price']=price_shoes\n",
    "flipkart_sh['description']=desc_shoes\n",
    "flipkart_sh"
   ]
  },
  {
   "cell_type": "markdown",
   "metadata": {},
   "source": [
    "# Question 10"
   ]
  },
  {
   "cell_type": "code",
   "execution_count": 212,
   "metadata": {},
   "outputs": [],
   "source": [
    "import selenium\n",
    "import pandas as pd\n",
    "from selenium import webdriver\n",
    "import warnings\n",
    "warnings.filterwarnings('ignore')\n",
    "import time\n",
    "from selenium.common.exceptions import StaleElementReferenceException, NoSuchElementException"
   ]
  },
  {
   "cell_type": "code",
   "execution_count": 214,
   "metadata": {},
   "outputs": [],
   "source": [
    "driver = webdriver.Chrome(r\"C:\\Users\\gokula krishnan\\Downloads\\chromedriver_win32\\chromedriver.exe\")"
   ]
  },
  {
   "cell_type": "code",
   "execution_count": 215,
   "metadata": {},
   "outputs": [],
   "source": [
    "url = 'https://www.amazon.in/'\n",
    "driver.get(url)"
   ]
  },
  {
   "cell_type": "code",
   "execution_count": 216,
   "metadata": {},
   "outputs": [
    {
     "data": {
      "text/plain": [
       "<selenium.webdriver.remote.webelement.WebElement (session=\"6043edd98ac0481fd9638851caecab57\", element=\"88f9d351-7f65-43f6-919c-7f97c77937ed\")>"
      ]
     },
     "execution_count": 216,
     "metadata": {},
     "output_type": "execute_result"
    }
   ],
   "source": [
    "search_prod = driver.find_element_by_id('twotabsearchtextbox')\n",
    "search_prod"
   ]
  },
  {
   "cell_type": "code",
   "execution_count": 217,
   "metadata": {},
   "outputs": [],
   "source": [
    "search_prod.send_keys(\"Laptop\")"
   ]
  },
  {
   "cell_type": "code",
   "execution_count": 218,
   "metadata": {},
   "outputs": [],
   "source": [
    "search_btn = driver.find_element_by_class_name('nav-right')\n",
    "search_btn.click()"
   ]
  },
  {
   "cell_type": "code",
   "execution_count": 219,
   "metadata": {},
   "outputs": [],
   "source": [
    "filter_i7 = driver.find_element_by_xpath('//*[@id=\"p_n_feature_thirteen_browse-bin/12598163031\"]/span/a/div/label/i')\n",
    "filter_i7.click()"
   ]
  },
  {
   "cell_type": "code",
   "execution_count": 220,
   "metadata": {},
   "outputs": [],
   "source": [
    "filter_i9 = driver.find_element_by_xpath('//*[@id=\"p_n_feature_thirteen_browse-bin/16757432031\"]/span/a/div/label/i')\n",
    "filter_i9.click()"
   ]
  },
  {
   "cell_type": "code",
   "execution_count": 221,
   "metadata": {},
   "outputs": [],
   "source": [
    "titles = []\n",
    "ratings = []\n",
    "price = []\n",
    "while len(titles)<10:\n",
    "     #scraping brands\n",
    "    title_tags = driver.find_elements_by_xpath(\"//h2[@class='a-size-mini a-spacing-none a-color-base s-line-clamp-2']\")\n",
    "    #Getting text and saving in list\n",
    "    for i in title_tags:\n",
    "        titles.append(i.text)\n",
    "    #scraping product description\n",
    "    ratings_tags = driver.find_elements_by_xpath(\"//span[@class='a-icon-alt']\")\n",
    "    #Getting text and saving in list\n",
    "    for i in ratings_tags:\n",
    "        ratings.append(i.text)\n",
    "    #scraping price\n",
    "    price_tags = driver.find_elements_by_xpath(\"//span[@class='a-price-whole']\")\n",
    "    #Getting text and saving in list\n",
    "    for i in price_tags:\n",
    "        price.append(i.text)"
   ]
  },
  {
   "cell_type": "code",
   "execution_count": 226,
   "metadata": {},
   "outputs": [
    {
     "data": {
      "text/html": [
       "<div>\n",
       "<style scoped>\n",
       "    .dataframe tbody tr th:only-of-type {\n",
       "        vertical-align: middle;\n",
       "    }\n",
       "\n",
       "    .dataframe tbody tr th {\n",
       "        vertical-align: top;\n",
       "    }\n",
       "\n",
       "    .dataframe thead th {\n",
       "        text-align: right;\n",
       "    }\n",
       "</style>\n",
       "<table border=\"1\" class=\"dataframe\">\n",
       "  <thead>\n",
       "    <tr style=\"text-align: right;\">\n",
       "      <th></th>\n",
       "      <th>Title</th>\n",
       "      <th>Rating</th>\n",
       "      <th>Price</th>\n",
       "    </tr>\n",
       "  </thead>\n",
       "  <tbody>\n",
       "    <tr>\n",
       "      <th>0</th>\n",
       "      <td>Dell XPS 9370 13.3-inch FHD Display Thin &amp; Lig...</td>\n",
       "      <td></td>\n",
       "      <td>1,14,990</td>\n",
       "    </tr>\n",
       "    <tr>\n",
       "      <th>1</th>\n",
       "      <td>HP Envy 11th Gen Core i7 Processor 13.3-inch (...</td>\n",
       "      <td></td>\n",
       "      <td>1,23,300</td>\n",
       "    </tr>\n",
       "    <tr>\n",
       "      <th>2</th>\n",
       "      <td>Mi Notebook Ultra 3K Resolution Display Intel ...</td>\n",
       "      <td></td>\n",
       "      <td>76,999</td>\n",
       "    </tr>\n",
       "    <tr>\n",
       "      <th>3</th>\n",
       "      <td>Lenovo IdeaPad S540 11th Gen Intel Core i7 13....</td>\n",
       "      <td></td>\n",
       "      <td>77,990</td>\n",
       "    </tr>\n",
       "    <tr>\n",
       "      <th>4</th>\n",
       "      <td>Mi Notebook Horizon Edition 14 Intel Core i7-1...</td>\n",
       "      <td></td>\n",
       "      <td>57,990</td>\n",
       "    </tr>\n",
       "    <tr>\n",
       "      <th>5</th>\n",
       "      <td>Lenovo IdeaPad Gaming 3 Intel Core i7 10th Gen...</td>\n",
       "      <td></td>\n",
       "      <td>73,990</td>\n",
       "    </tr>\n",
       "    <tr>\n",
       "      <th>6</th>\n",
       "      <td>MSI GF75 Thin, Intel i7-10750H, 17.3\" (43.9 cm...</td>\n",
       "      <td></td>\n",
       "      <td>74,990</td>\n",
       "    </tr>\n",
       "    <tr>\n",
       "      <th>7</th>\n",
       "      <td>ASUS TUF Dash F15 (2021), 15.6-inch (39.62 cms...</td>\n",
       "      <td></td>\n",
       "      <td>87,990</td>\n",
       "    </tr>\n",
       "    <tr>\n",
       "      <th>8</th>\n",
       "      <td>Lenovo IdeaPad Flex 5 11th Gen Intel Core i7 1...</td>\n",
       "      <td></td>\n",
       "      <td>86,990</td>\n",
       "    </tr>\n",
       "    <tr>\n",
       "      <th>9</th>\n",
       "      <td>Fujitsu UH-X 11th Gen Intel Core i7 13.3” (33....</td>\n",
       "      <td></td>\n",
       "      <td>1,07,990</td>\n",
       "    </tr>\n",
       "  </tbody>\n",
       "</table>\n",
       "</div>"
      ],
      "text/plain": [
       "                                               Title Rating     Price\n",
       "0  Dell XPS 9370 13.3-inch FHD Display Thin & Lig...         1,14,990\n",
       "1  HP Envy 11th Gen Core i7 Processor 13.3-inch (...         1,23,300\n",
       "2  Mi Notebook Ultra 3K Resolution Display Intel ...           76,999\n",
       "3  Lenovo IdeaPad S540 11th Gen Intel Core i7 13....           77,990\n",
       "4  Mi Notebook Horizon Edition 14 Intel Core i7-1...           57,990\n",
       "5  Lenovo IdeaPad Gaming 3 Intel Core i7 10th Gen...           73,990\n",
       "6  MSI GF75 Thin, Intel i7-10750H, 17.3\" (43.9 cm...           74,990\n",
       "7  ASUS TUF Dash F15 (2021), 15.6-inch (39.62 cms...           87,990\n",
       "8  Lenovo IdeaPad Flex 5 11th Gen Intel Core i7 1...           86,990\n",
       "9  Fujitsu UH-X 11th Gen Intel Core i7 13.3” (33....         1,07,990"
      ]
     },
     "execution_count": 226,
     "metadata": {},
     "output_type": "execute_result"
    }
   ],
   "source": [
    "laptops = pd.DataFrame({})\n",
    "laptops['Title'] = titles[:10]\n",
    "laptops['Rating'] = ratings[:10]\n",
    "laptops['Price'] = price[:10]\n",
    "laptops"
   ]
  }
 ],
 "metadata": {
  "kernelspec": {
   "display_name": "Python 3",
   "language": "python",
   "name": "python3"
  },
  "language_info": {
   "codemirror_mode": {
    "name": "ipython",
    "version": 3
   },
   "file_extension": ".py",
   "mimetype": "text/x-python",
   "name": "python",
   "nbconvert_exporter": "python",
   "pygments_lexer": "ipython3",
   "version": "3.8.5"
  }
 },
 "nbformat": 4,
 "nbformat_minor": 4
}
